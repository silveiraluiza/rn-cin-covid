{
 "cells": [
  {
   "cell_type": "code",
   "execution_count": 1,
   "id": "sunrise-damage",
   "metadata": {},
   "outputs": [],
   "source": [
    "import random\n",
    "import imghdr\n",
    "import shutil\n",
    "import os\n",
    "import tensorflow as tf\n",
    "import pandas as pd\n",
    "import numpy as np"
   ]
  },
  {
   "cell_type": "markdown",
   "id": "sized-boards",
   "metadata": {},
   "source": [
    "## Data preprocessing"
   ]
  },
  {
   "cell_type": "code",
   "execution_count": 2,
   "id": "satellite-acrylic",
   "metadata": {},
   "outputs": [],
   "source": [
    "os.chdir('/home/dell/Documentos/rn-cin-covid/')\n",
    "\n",
    "\n",
    "# lê arquivos .txt gerados pelo COVID-Net\n",
    "train_labels = pd.read_csv(\"data/train_split.txt\", sep=\" \",header=None)\n",
    "train_labels_gauss = pd.read_csv(\"data/train_labels_gauss.txt\", sep=\" \",header=None)\n",
    "test_labels = pd.read_csv(\"data/test_split.txt\", sep=\" \",header=None)\n",
    "\n",
    "# renomeia colunas\n",
    "train_labels_gauss.columns = ['id', 'image', 'label', 'database']\n",
    "train_labels.columns = ['id', 'image', 'label', 'database']\n",
    "test_labels.columns = ['id', 'image', 'label', 'database']\n"
   ]
  },
  {
   "cell_type": "code",
   "execution_count": 3,
   "id": "adjustable-reset",
   "metadata": {},
   "outputs": [
    {
     "data": {
      "text/plain": [
       "negative    15068\n",
       "positive     2158\n",
       "Name: label, dtype: int64"
      ]
     },
     "execution_count": 3,
     "metadata": {},
     "output_type": "execute_result"
    }
   ],
   "source": [
    "# mantendo as colunas que importam\n",
    "\n",
    "train_labels_gauss = train_labels_gauss[['image','label']]\n",
    "train_labels = train_labels[['image','label']]\n",
    "test_labels = test_labels[['image','label']]\n",
    "\n",
    "train_labels['label'].value_counts()"
   ]
  },
  {
   "cell_type": "code",
   "execution_count": 4,
   "id": "promising-entertainment",
   "metadata": {},
   "outputs": [
    {
     "data": {
      "text/plain": [
       "negative    15068\n",
       "positive     2158\n",
       "Name: label, dtype: int64"
      ]
     },
     "execution_count": 4,
     "metadata": {},
     "output_type": "execute_result"
    }
   ],
   "source": [
    "train_labels_gauss['label'].value_counts()"
   ]
  },
  {
   "cell_type": "markdown",
   "id": "sorted-graphic",
   "metadata": {},
   "source": [
    "### Validação"
   ]
  },
  {
   "cell_type": "code",
   "execution_count": 5,
   "id": "aquatic-sponsorship",
   "metadata": {},
   "outputs": [
    {
     "data": {
      "text/plain": [
       "(3445, 2)"
      ]
     },
     "execution_count": 5,
     "metadata": {},
     "output_type": "execute_result"
    }
   ],
   "source": [
    "# cria dataset de validação\n",
    "np.random.seed(47)\n",
    "\n",
    "val_labels = train_labels.sample(frac=0.2)\n",
    "val_labels.shape"
   ]
  },
  {
   "cell_type": "code",
   "execution_count": 6,
   "id": "physical-mapping",
   "metadata": {},
   "outputs": [
    {
     "data": {
      "text/plain": [
       "negative    3004\n",
       "positive     441\n",
       "Name: label, dtype: int64"
      ]
     },
     "execution_count": 6,
     "metadata": {},
     "output_type": "execute_result"
    }
   ],
   "source": [
    "val_labels['label'].value_counts()"
   ]
  },
  {
   "cell_type": "code",
   "execution_count": 7,
   "id": "brave-wedding",
   "metadata": {},
   "outputs": [
    {
     "data": {
      "text/plain": [
       "(13781, 2)"
      ]
     },
     "execution_count": 7,
     "metadata": {},
     "output_type": "execute_result"
    }
   ],
   "source": [
    "# separa treino de validação\n",
    "\n",
    "new_train_image = []\n",
    "new_train_label = []\n",
    "\n",
    "for i in range(train_labels.shape[0]):\n",
    "    \n",
    "    if train_labels['image'][i] not in val_labels['image'].tolist():\n",
    "        new_train_image.append(train_labels['image'][i])\n",
    "        new_train_label.append(train_labels['label'][i])\n",
    "        \n",
    "\n",
    "new_train_dataset = pd.DataFrame()\n",
    "new_train_dataset['image'] = new_train_image\n",
    "new_train_dataset['label'] = new_train_label\n",
    "\n",
    "train_labels = new_train_dataset.copy()\n",
    "train_labels.shape"
   ]
  },
  {
   "cell_type": "markdown",
   "id": "palestinian-hampton",
   "metadata": {},
   "source": [
    "### Copiando index para ruido gaussiano"
   ]
  },
  {
   "cell_type": "code",
   "execution_count": 8,
   "id": "honest-oriental",
   "metadata": {},
   "outputs": [],
   "source": [
    "val_labels_gauss = train_labels_gauss.loc[val_labels.index]"
   ]
  },
  {
   "cell_type": "code",
   "execution_count": 9,
   "id": "danish-department",
   "metadata": {
    "scrolled": true
   },
   "outputs": [
    {
     "data": {
      "text/plain": [
       "(3445, 2)"
      ]
     },
     "execution_count": 9,
     "metadata": {},
     "output_type": "execute_result"
    }
   ],
   "source": [
    "val_labels_gauss.shape"
   ]
  },
  {
   "cell_type": "code",
   "execution_count": 10,
   "id": "settled-corps",
   "metadata": {},
   "outputs": [
    {
     "data": {
      "text/plain": [
       "negative    3004\n",
       "positive     441\n",
       "Name: label, dtype: int64"
      ]
     },
     "execution_count": 10,
     "metadata": {},
     "output_type": "execute_result"
    }
   ],
   "source": [
    "val_labels_gauss['label'].value_counts()"
   ]
  },
  {
   "cell_type": "code",
   "execution_count": 11,
   "id": "prompt-optimization",
   "metadata": {},
   "outputs": [
    {
     "data": {
      "text/plain": [
       "(13781, 2)"
      ]
     },
     "execution_count": 11,
     "metadata": {},
     "output_type": "execute_result"
    }
   ],
   "source": [
    "# separa treino de validação\n",
    "\n",
    "new_train_image = []\n",
    "new_train_label = []\n",
    "\n",
    "for i in range(train_labels_gauss.shape[0]):\n",
    "    \n",
    "    if train_labels_gauss['image'][i] not in val_labels_gauss['image'].tolist():\n",
    "        new_train_image.append(train_labels_gauss['image'][i])\n",
    "        new_train_label.append(train_labels_gauss['label'][i])\n",
    "        \n",
    "\n",
    "new_train_dataset = pd.DataFrame()\n",
    "new_train_dataset['image'] = new_train_image\n",
    "new_train_dataset['label'] = new_train_label\n",
    "\n",
    "train_labels_gauss = new_train_dataset.copy()\n",
    "train_labels_gauss.shape"
   ]
  },
  {
   "cell_type": "markdown",
   "id": "raised-patch",
   "metadata": {},
   "source": [
    "### Distribuição das classes"
   ]
  },
  {
   "cell_type": "code",
   "execution_count": 12,
   "id": "authentic-weather",
   "metadata": {},
   "outputs": [
    {
     "data": {
      "text/plain": [
       "negative    12064\n",
       "positive     1717\n",
       "Name: label, dtype: int64"
      ]
     },
     "execution_count": 12,
     "metadata": {},
     "output_type": "execute_result"
    }
   ],
   "source": [
    "train_labels['label'].value_counts()"
   ]
  },
  {
   "cell_type": "code",
   "execution_count": 13,
   "id": "coral-gospel",
   "metadata": {},
   "outputs": [
    {
     "data": {
      "text/plain": [
       "negative    12064\n",
       "positive     1717\n",
       "Name: label, dtype: int64"
      ]
     },
     "execution_count": 13,
     "metadata": {},
     "output_type": "execute_result"
    }
   ],
   "source": [
    "train_labels_gauss['label'].value_counts()"
   ]
  },
  {
   "cell_type": "markdown",
   "id": "surrounded-norfolk",
   "metadata": {},
   "source": [
    "### Subsampling"
   ]
  },
  {
   "cell_type": "code",
   "execution_count": 14,
   "id": "demographic-driver",
   "metadata": {},
   "outputs": [],
   "source": [
    "negative_train = train_labels.loc[train_labels['label'] == 'negative'].sample(2500)\n",
    "positive_train = train_labels.loc[train_labels['label'] == 'positive']\n",
    "train_labels = pd.concat([negative_train, positive_train])"
   ]
  },
  {
   "cell_type": "code",
   "execution_count": 15,
   "id": "distributed-praise",
   "metadata": {},
   "outputs": [],
   "source": [
    "negative_val = val_labels.loc[val_labels['label'] == 'negative'].sample(650)\n",
    "positive_val = val_labels.loc[val_labels['label'] == 'positive']\n",
    "val_labels = pd.concat([negative_val, positive_val])"
   ]
  },
  {
   "cell_type": "code",
   "execution_count": 16,
   "id": "breathing-highlight",
   "metadata": {},
   "outputs": [
    {
     "data": {
      "text/plain": [
       "negative    2500\n",
       "positive    1717\n",
       "Name: label, dtype: int64"
      ]
     },
     "execution_count": 16,
     "metadata": {},
     "output_type": "execute_result"
    }
   ],
   "source": [
    "train_labels['label'].value_counts()"
   ]
  },
  {
   "cell_type": "code",
   "execution_count": 17,
   "id": "unknown-sewing",
   "metadata": {},
   "outputs": [
    {
     "data": {
      "text/plain": [
       "positive    291\n",
       "negative    100\n",
       "Name: label, dtype: int64"
      ]
     },
     "execution_count": 17,
     "metadata": {},
     "output_type": "execute_result"
    }
   ],
   "source": [
    "test_labels['label'].value_counts()"
   ]
  },
  {
   "cell_type": "code",
   "execution_count": 18,
   "id": "strong-string",
   "metadata": {},
   "outputs": [
    {
     "data": {
      "text/plain": [
       "negative    650\n",
       "positive    441\n",
       "Name: label, dtype: int64"
      ]
     },
     "execution_count": 18,
     "metadata": {},
     "output_type": "execute_result"
    }
   ],
   "source": [
    "val_labels['label'].value_counts()"
   ]
  },
  {
   "cell_type": "markdown",
   "id": "insured-cologne",
   "metadata": {},
   "source": [
    "### Usando os index para separar ruido gaussiano"
   ]
  },
  {
   "cell_type": "code",
   "execution_count": 19,
   "id": "choice-baptist",
   "metadata": {},
   "outputs": [],
   "source": [
    "val_labels_gauss = val_labels_gauss.loc[val_labels.index]\n",
    "train_labels_gauss = train_labels_gauss.loc[train_labels.index]"
   ]
  },
  {
   "cell_type": "code",
   "execution_count": 21,
   "id": "worth-craps",
   "metadata": {},
   "outputs": [
    {
     "data": {
      "text/plain": [
       "negative    2500\n",
       "positive    1717\n",
       "Name: label, dtype: int64"
      ]
     },
     "execution_count": 21,
     "metadata": {},
     "output_type": "execute_result"
    }
   ],
   "source": [
    "train_labels_gauss['label'].value_counts()"
   ]
  },
  {
   "cell_type": "code",
   "execution_count": 20,
   "id": "clear-oriental",
   "metadata": {},
   "outputs": [
    {
     "data": {
      "text/plain": [
       "negative    650\n",
       "positive    441\n",
       "Name: label, dtype: int64"
      ]
     },
     "execution_count": 20,
     "metadata": {},
     "output_type": "execute_result"
    }
   ],
   "source": [
    "val_labels_gauss['label'].value_counts()"
   ]
  },
  {
   "cell_type": "markdown",
   "id": "wireless-uncle",
   "metadata": {},
   "source": [
    "### Juntando os datasets gaussianos e normais"
   ]
  },
  {
   "cell_type": "code",
   "execution_count": 22,
   "id": "mighty-crowd",
   "metadata": {},
   "outputs": [],
   "source": [
    "train_labels = pd.concat([train_labels, train_labels_gauss])\n",
    "val_labels = pd.concat([val_labels,val_labels_gauss])"
   ]
  },
  {
   "cell_type": "code",
   "execution_count": 23,
   "id": "municipal-money",
   "metadata": {},
   "outputs": [
    {
     "data": {
      "text/plain": [
       "negative    5000\n",
       "positive    3434\n",
       "Name: label, dtype: int64"
      ]
     },
     "execution_count": 23,
     "metadata": {},
     "output_type": "execute_result"
    }
   ],
   "source": [
    "train_labels['label'].value_counts()"
   ]
  },
  {
   "cell_type": "code",
   "execution_count": 24,
   "id": "monthly-submission",
   "metadata": {},
   "outputs": [
    {
     "data": {
      "text/plain": [
       "negative    1300\n",
       "positive     882\n",
       "Name: label, dtype: int64"
      ]
     },
     "execution_count": 24,
     "metadata": {},
     "output_type": "execute_result"
    }
   ],
   "source": [
    "val_labels['label'].value_counts()"
   ]
  },
  {
   "cell_type": "markdown",
   "id": "compliant-turkey",
   "metadata": {},
   "source": [
    "## Movendo os arquivos para os diretórios corretos"
   ]
  },
  {
   "cell_type": "code",
   "execution_count": 25,
   "id": "frequent-search",
   "metadata": {},
   "outputs": [],
   "source": [
    "os.chdir('/home/dell/Documentos/COVID-Net/data/train/') # Diretório do treino gerado pelo COVID-Net\n",
    "\n",
    "dir_train = '/home/dell/Documentos/rn-cin-covid/data/train/' # diretório final treino\n",
    "dir_test = '/home/dell/Documentos/rn-cin-covid/data/test/' # diretório final teste\n",
    "dir_val = '/home/dell/Documentos/rn-cin-covid/data/val/' # diretório final validação\n",
    "\n",
    "# removendo diretórios passados\n",
    "\n",
    "shutil.rmtree(dir_train)\n",
    "shutil.rmtree(dir_test)\n",
    "shutil.rmtree(dir_val)\n"
   ]
  },
  {
   "cell_type": "code",
   "execution_count": 27,
   "id": "human-domain",
   "metadata": {},
   "outputs": [
    {
     "name": "stdout",
     "output_type": "stream",
     "text": [
      "Successfully created the directory /home/dell/Documentos/rn-cin-covid/data/train/positive\n",
      "Successfully created the directory /home/dell/Documentos/rn-cin-covid/data/train/negative\n",
      "Successfully created the directory /home/dell/Documentos/rn-cin-covid/data/test/positive\n",
      "Successfully created the directory /home/dell/Documentos/rn-cin-covid/data/test/negative\n",
      "Successfully created the directory /home/dell/Documentos/rn-cin-covid/data/val/positive\n",
      "Successfully created the directory /home/dell/Documentos/rn-cin-covid/data/val/negative\n"
     ]
    }
   ],
   "source": [
    "# Criando diretórios novos\n",
    "\n",
    "for path in [dir_train, dir_test, dir_val]:\n",
    "    for lb in ['positive', 'negative']:\n",
    "        path_lb = os.path.join(path, lb)\n",
    "        try:\n",
    "            os.makedirs(path_lb)\n",
    "        except OSError:\n",
    "            print (\"Creation of the directory %s failed\" % path_lb)\n",
    "        else:\n",
    "            print (\"Successfully created the directory %s\" % path_lb)"
   ]
  },
  {
   "cell_type": "code",
   "execution_count": null,
   "id": "vital-market",
   "metadata": {},
   "outputs": [],
   "source": [
    "\n",
    "# Copia treino e validação\n",
    "for f in os.listdir():\n",
    "    if str(f) in train_labels['image'].tolist():\n",
    "        \n",
    "        index_train = train_labels[train_labels['image']==f].index.values\n",
    "        label = train_labels['label'].loc[index_train].values[0]\n",
    "        shutil.copy(f, os.path.join(dir_train, label))\n",
    "    \n",
    "    elif str(f) in val_labels['image'].tolist():\n",
    "        \n",
    "        index_val = val_labels[val_labels['image']==f].index.values\n",
    "        label = val_labels['label'].loc[index_val].values[0]\n",
    "        shutil.copy(f, os.path.join(dir_val, label))\n",
    "        "
   ]
  },
  {
   "cell_type": "code",
   "execution_count": null,
   "id": "fifty-meeting",
   "metadata": {},
   "outputs": [],
   "source": [
    "os.chdir('/home/dell/Documentos/COVID-Net/data/test/')\n",
    "\n",
    "\n",
    "# Copia teste\n",
    "\n",
    "for f in os.listdir():\n",
    "    if str(f) in test_labels['image'].tolist():\n",
    "        \n",
    "        index_test = test_labels[test_labels['image']==f].index.values\n",
    "        label = test_labels['label'].loc[index_test].values[0]\n",
    "        shutil.copy(f, os.path.join(dir_test, label))\n",
    "    else:\n",
    "        print('?')\n",
    "        print(f)\n",
    "        \n"
   ]
  },
  {
   "cell_type": "code",
   "execution_count": null,
   "id": "apparent-floor",
   "metadata": {},
   "outputs": [],
   "source": [
    "from tensorflow.keras.preprocessing import image_dataset_from_directory\n",
    "test_dir = \"/home/dell/Documentos/rn-cin-covid/data/train/\"\n",
    "\n",
    "train_dataset = image_dataset_from_directory(test_dir,\n",
    "                                                  shuffle=True,\n",
    "                                                  labels=\"inferred\",\n",
    "                                                  label_mode=\"int\",\n",
    "                                                  batch_size=32,\n",
    "                                                  image_size=(150, 150))\n"
   ]
  }
 ],
 "metadata": {
  "kernelspec": {
   "display_name": "Python [conda env:tensorflow] *",
   "language": "python",
   "name": "conda-env-tensorflow-py"
  },
  "language_info": {
   "codemirror_mode": {
    "name": "ipython",
    "version": 3
   },
   "file_extension": ".py",
   "mimetype": "text/x-python",
   "name": "python",
   "nbconvert_exporter": "python",
   "pygments_lexer": "ipython3",
   "version": "3.8.11"
  }
 },
 "nbformat": 4,
 "nbformat_minor": 5
}
