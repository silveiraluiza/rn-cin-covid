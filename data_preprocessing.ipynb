{
 "cells": [
  {
   "cell_type": "code",
   "execution_count": 1,
   "id": "sunrise-damage",
   "metadata": {},
   "outputs": [],
   "source": [
    "import random\n",
    "import imghdr\n",
    "import shutil\n",
    "import os\n",
    "import tensorflow as tf\n",
    "import pandas as pd\n",
    "import numpy as np"
   ]
  },
  {
   "cell_type": "markdown",
   "id": "sized-boards",
   "metadata": {},
   "source": [
    "## Data preprocessing"
   ]
  },
  {
   "cell_type": "code",
   "execution_count": 2,
   "id": "satellite-acrylic",
   "metadata": {},
   "outputs": [],
   "source": [
    "os.chdir('/home/dell/Documentos/rn-cin-covid/')\n",
    "\n",
    "\n",
    "# lê arquivos .txt gerados pelo COVID-Net\n",
    "train_labels = pd.read_csv(\"data/train_split.txt\", sep=\" \",header=None)\n",
    "train_labels_gauss = pd.read_csv(\"data/train_labels_gauss.txt\", sep=\" \",header=None)\n",
    "test_labels = pd.read_csv(\"data/test_split.txt\", sep=\" \",header=None)\n",
    "\n",
    "# renomeia colunas\n",
    "train_labels_gauss.columns = ['id', 'image', 'label', 'database']\n",
    "train_labels.columns = ['id', 'image', 'label', 'database']\n",
    "test_labels.columns = ['id', 'image', 'label', 'database']\n"
   ]
  },
  {
   "cell_type": "code",
   "execution_count": 3,
   "id": "adjustable-reset",
   "metadata": {},
   "outputs": [
    {
     "data": {
      "text/plain": [
       "negative    15068\n",
       "positive     2158\n",
       "Name: label, dtype: int64"
      ]
     },
     "execution_count": 3,
     "metadata": {},
     "output_type": "execute_result"
    }
   ],
   "source": [
    "# mantendo as colunas que importam\n",
    "\n",
    "train_labels_gauss = train_labels_gauss[['image','label']]\n",
    "train_labels = train_labels[['image','label']]\n",
    "test_labels = test_labels[['image','label']]\n",
    "\n",
    "train_labels['label'].value_counts()"
   ]
  },
  {
   "cell_type": "code",
   "execution_count": 4,
   "id": "emotional-transcription",
   "metadata": {},
   "outputs": [
    {
     "data": {
      "text/plain": [
       "negative    15068\n",
       "positive     2158\n",
       "Name: label, dtype: int64"
      ]
     },
     "execution_count": 4,
     "metadata": {},
     "output_type": "execute_result"
    }
   ],
   "source": [
    "train_labels_gauss['label'].value_counts()"
   ]
  },
  {
   "cell_type": "markdown",
   "id": "supreme-little",
   "metadata": {},
   "source": [
    "### Validação"
   ]
  },
  {
   "cell_type": "code",
   "execution_count": 5,
   "id": "aquatic-sponsorship",
   "metadata": {},
   "outputs": [
    {
     "data": {
      "text/plain": [
       "(3445, 2)"
      ]
     },
     "execution_count": 5,
     "metadata": {},
     "output_type": "execute_result"
    }
   ],
   "source": [
    "# cria dataset de validação\n",
    "np.random.seed(47)\n",
    "\n",
    "val_labels = train_labels.sample(frac=0.2)\n",
    "val_labels.shape"
   ]
  },
  {
   "cell_type": "code",
   "execution_count": 6,
   "id": "pretty-calibration",
   "metadata": {},
   "outputs": [
    {
     "data": {
      "text/plain": [
       "negative    3004\n",
       "positive     441\n",
       "Name: label, dtype: int64"
      ]
     },
     "execution_count": 6,
     "metadata": {},
     "output_type": "execute_result"
    }
   ],
   "source": [
    "val_labels['label'].value_counts()"
   ]
  },
  {
   "cell_type": "code",
   "execution_count": 7,
   "id": "brave-wedding",
   "metadata": {},
   "outputs": [
    {
     "data": {
      "text/plain": [
       "(13781, 2)"
      ]
     },
     "execution_count": 7,
     "metadata": {},
     "output_type": "execute_result"
    }
   ],
   "source": [
    "# separa treino de validação\n",
    "\n",
    "new_train_image = []\n",
    "new_train_label = []\n",
    "\n",
    "for i in range(train_labels.shape[0]):\n",
    "    \n",
    "    if train_labels['image'][i] not in val_labels['image'].tolist():\n",
    "        new_train_image.append(train_labels['image'][i])\n",
    "        new_train_label.append(train_labels['label'][i])\n",
    "        \n",
    "\n",
    "new_train_dataset = pd.DataFrame()\n",
    "new_train_dataset['image'] = new_train_image\n",
    "new_train_dataset['label'] = new_train_label\n",
    "\n",
    "train_labels = new_train_dataset.copy()\n",
    "train_labels.shape"
   ]
  },
  {
   "cell_type": "markdown",
   "id": "subtle-oasis",
   "metadata": {},
   "source": [
    "### Copiando index para ruido gaussiano"
   ]
  },
  {
   "cell_type": "code",
   "execution_count": 8,
   "id": "ethical-robertson",
   "metadata": {},
   "outputs": [],
   "source": [
    "val_labels_gauss = train_labels_gauss.loc[val_labels.index]"
   ]
  },
  {
   "cell_type": "code",
   "execution_count": 9,
   "id": "interracial-representation",
   "metadata": {
    "scrolled": true
   },
   "outputs": [
    {
     "data": {
      "text/plain": [
       "(3445, 2)"
      ]
     },
     "execution_count": 9,
     "metadata": {},
     "output_type": "execute_result"
    }
   ],
   "source": [
    "val_labels_gauss.shape"
   ]
  },
  {
   "cell_type": "code",
   "execution_count": 10,
   "id": "congressional-spokesman",
   "metadata": {},
   "outputs": [
    {
     "data": {
      "text/plain": [
       "negative    3004\n",
       "positive     441\n",
       "Name: label, dtype: int64"
      ]
     },
     "execution_count": 10,
     "metadata": {},
     "output_type": "execute_result"
    }
   ],
   "source": [
    "val_labels_gauss['label'].value_counts()"
   ]
  },
  {
   "cell_type": "code",
   "execution_count": 11,
   "id": "generic-finder",
   "metadata": {},
   "outputs": [
    {
     "data": {
      "text/plain": [
       "(13781, 2)"
      ]
     },
     "execution_count": 11,
     "metadata": {},
     "output_type": "execute_result"
    }
   ],
   "source": [
    "# separa treino de validação\n",
    "\n",
    "new_train_image = []\n",
    "new_train_label = []\n",
    "\n",
    "for i in range(train_labels_gauss.shape[0]):\n",
    "    \n",
    "    if train_labels_gauss['image'][i] not in val_labels_gauss['image'].tolist():\n",
    "        new_train_image.append(train_labels_gauss['image'][i])\n",
    "        new_train_label.append(train_labels_gauss['label'][i])\n",
    "        \n",
    "\n",
    "new_train_dataset = pd.DataFrame()\n",
    "new_train_dataset['image'] = new_train_image\n",
    "new_train_dataset['label'] = new_train_label\n",
    "\n",
    "train_labels_gauss = new_train_dataset.copy()\n",
    "train_labels_gauss.shape"
   ]
  },
  {
   "cell_type": "markdown",
   "id": "raised-patch",
   "metadata": {},
   "source": [
    "### Distribuição das classes"
   ]
  },
  {
   "cell_type": "code",
   "execution_count": 12,
   "id": "authentic-weather",
   "metadata": {},
   "outputs": [
    {
     "data": {
      "text/plain": [
       "negative    12064\n",
       "positive     1717\n",
       "Name: label, dtype: int64"
      ]
     },
     "execution_count": 12,
     "metadata": {},
     "output_type": "execute_result"
    }
   ],
   "source": [
    "train_labels['label'].value_counts()"
   ]
  },
  {
   "cell_type": "code",
   "execution_count": 13,
   "id": "double-formula",
   "metadata": {},
   "outputs": [
    {
     "data": {
      "text/plain": [
       "negative    12064\n",
       "positive     1717\n",
       "Name: label, dtype: int64"
      ]
     },
     "execution_count": 13,
     "metadata": {},
     "output_type": "execute_result"
    }
   ],
   "source": [
    "train_labels_gauss['label'].value_counts()"
   ]
  },
  {
   "cell_type": "markdown",
   "id": "thorough-nicaragua",
   "metadata": {},
   "source": [
    "### Subsampling"
   ]
  },
  {
   "cell_type": "code",
   "execution_count": 14,
   "id": "demographic-driver",
   "metadata": {},
   "outputs": [],
   "source": [
    "negative_train = train_labels.loc[train_labels['label'] == 'negative'].sample(2500)\n",
    "positive_train = train_labels.loc[train_labels['label'] == 'positive']\n",
    "train_labels = pd.concat([negative_train, positive_train])"
   ]
  },
  {
   "cell_type": "code",
   "execution_count": 15,
   "id": "distributed-praise",
   "metadata": {},
   "outputs": [],
   "source": [
    "negative_val = val_labels.loc[val_labels['label'] == 'negative'].sample(650)\n",
    "positive_val = val_labels.loc[val_labels['label'] == 'positive']\n",
    "val_labels = pd.concat([negative_val, positive_val])"
   ]
  },
  {
   "cell_type": "code",
   "execution_count": 16,
   "id": "breathing-highlight",
   "metadata": {},
   "outputs": [
    {
     "data": {
      "text/plain": [
       "negative    2500\n",
       "positive    1717\n",
       "Name: label, dtype: int64"
      ]
     },
     "execution_count": 16,
     "metadata": {},
     "output_type": "execute_result"
    }
   ],
   "source": [
    "train_labels['label'].value_counts()"
   ]
  },
  {
   "cell_type": "code",
   "execution_count": 17,
   "id": "unknown-sewing",
   "metadata": {},
   "outputs": [
    {
     "data": {
      "text/plain": [
       "positive    291\n",
       "negative    100\n",
       "Name: label, dtype: int64"
      ]
     },
     "execution_count": 17,
     "metadata": {},
     "output_type": "execute_result"
    }
   ],
   "source": [
    "test_labels['label'].value_counts()"
   ]
  },
  {
   "cell_type": "code",
   "execution_count": 18,
   "id": "strong-string",
   "metadata": {},
   "outputs": [
    {
     "data": {
      "text/plain": [
       "negative    650\n",
       "positive    441\n",
       "Name: label, dtype: int64"
      ]
     },
     "execution_count": 18,
     "metadata": {},
     "output_type": "execute_result"
    }
   ],
   "source": [
    "val_labels['label'].value_counts()"
   ]
  },
  {
   "cell_type": "markdown",
   "id": "forward-placement",
   "metadata": {},
   "source": [
    "### Usando os index para separar ruido gaussiano"
   ]
  },
  {
   "cell_type": "code",
   "execution_count": 19,
   "id": "former-crossing",
   "metadata": {},
   "outputs": [],
   "source": [
    "val_labels_gauss = val_labels_gauss.loc[val_labels.index]\n",
    "train_labels_gauss = train_labels_gauss.loc[train_labels.index]"
   ]
  },
  {
   "cell_type": "code",
   "execution_count": 21,
   "id": "apparent-dryer",
   "metadata": {},
   "outputs": [
    {
     "data": {
      "text/plain": [
       "negative    2500\n",
       "positive    1717\n",
       "Name: label, dtype: int64"
      ]
     },
     "execution_count": 21,
     "metadata": {},
     "output_type": "execute_result"
    }
   ],
   "source": [
    "train_labels_gauss['label'].value_counts()"
   ]
  },
  {
   "cell_type": "code",
   "execution_count": 20,
   "id": "assured-teacher",
   "metadata": {},
   "outputs": [
    {
     "data": {
      "text/plain": [
       "negative    650\n",
       "positive    441\n",
       "Name: label, dtype: int64"
      ]
     },
     "execution_count": 20,
     "metadata": {},
     "output_type": "execute_result"
    }
   ],
   "source": [
    "val_labels_gauss['label'].value_counts()"
   ]
  },
  {
   "cell_type": "markdown",
   "id": "sound-egypt",
   "metadata": {},
   "source": [
    "### Juntando os datasets gaussianos e normais"
   ]
  },
  {
   "cell_type": "code",
   "execution_count": 22,
   "id": "coated-casino",
   "metadata": {},
   "outputs": [],
   "source": [
    "train_labels = pd.concat([train_labels, train_labels_gauss])\n",
    "val_labels = pd.concat([val_labels,val_labels_gauss])"
   ]
  },
  {
   "cell_type": "code",
   "execution_count": 23,
   "id": "plastic-shannon",
   "metadata": {},
   "outputs": [
    {
     "data": {
      "text/plain": [
       "negative    5000\n",
       "positive    3434\n",
       "Name: label, dtype: int64"
      ]
     },
     "execution_count": 23,
     "metadata": {},
     "output_type": "execute_result"
    }
   ],
   "source": [
    "train_labels['label'].value_counts()"
   ]
  },
  {
   "cell_type": "code",
   "execution_count": 24,
   "id": "romance-pursuit",
   "metadata": {},
   "outputs": [
    {
     "data": {
      "text/plain": [
       "negative    1300\n",
       "positive     882\n",
       "Name: label, dtype: int64"
      ]
     },
     "execution_count": 24,
     "metadata": {},
     "output_type": "execute_result"
    }
   ],
   "source": [
    "val_labels['label'].value_counts()"
   ]
  },
  {
   "cell_type": "markdown",
   "id": "compliant-turkey",
   "metadata": {},
   "source": [
    "## Movendo os arquivos para os diretórios corretos"
   ]
  },
  {
   "cell_type": "code",
   "execution_count": 25,
   "id": "hollow-health",
   "metadata": {},
   "outputs": [],
   "source": [
    "os.chdir('/home/dell/Documentos/COVID-Net/data/train/') # Diretório do treino gerado pelo COVID-Net\n",
    "\n",
    "dir_train = '/home/dell/Documentos/rn-cin-covid/data/train/' # diretório final treino\n",
    "dir_test = '/home/dell/Documentos/rn-cin-covid/data/test/' # diretório final teste\n",
    "dir_val = '/home/dell/Documentos/rn-cin-covid/data/val/' # diretório final validação\n",
    "\n",
    "# removendo diretórios passados\n",
    "\n",
    "shutil.rmtree(dir_train)\n",
    "shutil.rmtree(dir_test)\n",
    "shutil.rmtree(dir_val)\n"
   ]
  },
  {
   "cell_type": "code",
   "execution_count": 27,
   "id": "inside-scoop",
   "metadata": {},
   "outputs": [
    {
     "name": "stdout",
     "output_type": "stream",
     "text": [
      "Successfully created the directory /home/dell/Documentos/rn-cin-covid/data/train/positive\n",
      "Successfully created the directory /home/dell/Documentos/rn-cin-covid/data/train/negative\n",
      "Successfully created the directory /home/dell/Documentos/rn-cin-covid/data/test/positive\n",
      "Successfully created the directory /home/dell/Documentos/rn-cin-covid/data/test/negative\n",
      "Successfully created the directory /home/dell/Documentos/rn-cin-covid/data/val/positive\n",
      "Successfully created the directory /home/dell/Documentos/rn-cin-covid/data/val/negative\n"
     ]
    }
   ],
   "source": [
    "# Criando diretórios novos\n",
    "\n",
    "for path in [dir_train, dir_test, dir_val]:\n",
    "    for lb in ['positive', 'negative']:\n",
    "        path_lb = os.path.join(path, lb)\n",
    "        try:\n",
    "            os.makedirs(path_lb)\n",
    "        except OSError:\n",
    "            print (\"Creation of the directory %s failed\" % path_lb)\n",
    "        else:\n",
    "            print (\"Successfully created the directory %s\" % path_lb)"
   ]
  },
  {
   "cell_type": "code",
   "execution_count": 29,
   "id": "vital-market",
   "metadata": {},
   "outputs": [],
   "source": [
    "\n",
    "# Copia treino e validação\n",
    "for f in os.listdir():\n",
    "    if str(f) in train_labels['image'].tolist():\n",
    "        \n",
    "        index_train = train_labels[train_labels['image']==f].index.values\n",
    "        label = train_labels['label'].loc[index_train].values[0]\n",
    "        shutil.copy(f, os.path.join(dir_train, label))\n",
    "    \n",
    "    elif str(f) in val_labels['image'].tolist():\n",
    "        \n",
    "        index_val = val_labels[val_labels['image']==f].index.values\n",
    "        label = val_labels['label'].loc[index_val].values[0]\n",
    "        shutil.copy(f, os.path.join(dir_val, label))\n",
    "        "
   ]
  },
  {
   "cell_type": "code",
   "execution_count": 30,
   "id": "fifty-meeting",
   "metadata": {},
   "outputs": [
    {
     "name": "stdout",
     "output_type": "stream",
     "text": [
      "?\n",
      "streptococcus-pneumoniae-pneumonia-temporal-evolution-1-day2.jpg\n",
      "?\n",
      "a7aef71b-0fc8-4837-be79-4ced56e03439.png\n",
      "?\n",
      "f31d1fb1-604b-4fec-b320-f07ce2694008.png\n",
      "?\n",
      "86853bbd-5af2-4551-8273-f2978dffdd76.png\n",
      "?\n",
      "afe1b6e2-203e-4ee5-856a-2f205d8bca2a.png\n",
      "?\n",
      "3db7e979-5f97-4985-bf0c-cdea7951e246.png\n",
      "?\n",
      "35cda03a-0898-4f8b-92d3-6f263aed23ff.png\n",
      "?\n",
      "fd7bad9a-1bff-49ec-9c6c-c9aae9e65726.png\n",
      "?\n",
      "ed0c5d1e-934a-4e31-9221-3a6a69ec9c1b.png\n",
      "?\n",
      "ad446933-fb8e-4739-bb40-2063e796ffd8.png\n",
      "?\n",
      "e2e89418-6c0e-4f50-a2d9-6cd5e58feef0.png\n",
      "?\n",
      "bc46651a-1314-44af-a834-1eb8a36e589e.png\n",
      "?\n",
      "8989e25c-a698-48fc-b428-fff56931fc8f.png\n",
      "?\n",
      "766b8aea-3b43-4a34-b675-09f373ca066b.png\n",
      "?\n",
      "e4cd65ae-65de-44fc-a6b2-ebbc46d2e8d8.png\n",
      "?\n",
      "eaeb935a-7294-4dd3-8bf5-73ba781d28af.png\n",
      "?\n",
      "91e187a5-771d-4a83-9601-e22ed326bc8e.png\n",
      "?\n",
      "b5234584-1487-492c-8742-444b9ca41c3d.png\n",
      "?\n",
      "8db71746-e837-43c2-bdf1-c44d1ab207e3.png\n",
      "?\n",
      "34fbff70-fa6e-4709-ab07-17f739fce394.png\n",
      "?\n",
      "98bfaf7a-d80b-491e-a7e0-c5c7316bebe9.png\n",
      "?\n",
      "d82e5841-2f43-4eab-ac17-e98a2d90c51b.png\n",
      "?\n",
      "6556ce72-1a60-40aa-aaf7-b50dbf07fae7.png\n",
      "?\n",
      "streptococcus-pneumoniae-pneumonia-temporal-evolution-1-day3.jpg\n",
      "?\n",
      "acb5c720-f741-415c-993c-65855be08ffa.png\n",
      "?\n",
      "5d4c7318-4739-4470-89f3-70bbbca95f10.png\n",
      "?\n",
      "5b12801f-aaf7-442e-b994-ec8f15ce78e5.png\n",
      "?\n",
      "45dd0d26-0740-4c32-bd01-34246a41f3e3.png\n",
      "?\n",
      "e8485b0f-293d-4ca8-8b71-92db61c8ee3e.png\n",
      "?\n",
      "3f504abe-2133-4e09-98af-743cdea486f9.png\n",
      "?\n",
      "ec0492da-e6be-49cf-8b18-dc143180f1a2.png\n",
      "?\n",
      "a52aa522-a1b3-4f15-8609-f44bf96da2e3.png\n",
      "?\n",
      "63f71157-7db6-476f-b320-ba2fcbe2543f.png\n",
      "?\n",
      "b8d6b40d-2a3d-475f-88d3-03560f645223.png\n",
      "?\n",
      "34bf2fcd-131a-428c-9a21-cd2fa9041f9b.png\n",
      "?\n",
      "3c8cc0d1-be7f-493d-9570-542d851f623b.png\n",
      "?\n",
      "76b180ab-242f-45d3-bce1-68df00c5ef45.png\n",
      "?\n",
      "cdac0980-033c-4685-b7e4-0a12c86a00a9.png\n",
      "?\n",
      "ff332704-48e0-445b-9188-b2a696d1f0d7.png\n",
      "?\n",
      "7ca5c75a-1ec6-49a7-a3b0-93b6122a3170.png\n",
      "?\n",
      "1dad3414-88c9-4c56-af5d-3a1488af452c.png\n",
      "?\n",
      "633d9182-1809-41b7-a59b-1e60ac91f0c9.png\n",
      "?\n",
      "960131aa-4ce4-4b26-aa12-5f73d8d81453.png\n",
      "?\n",
      "ac648f87-a79f-4ce0-9439-23a8dd886b71.png\n",
      "?\n",
      "2f8fbfdc-56db-4eca-bf64-3c9a0637e28c.png\n",
      "?\n",
      "275f9fff-2439-4f3f-9c48-7c21f348701a.png\n",
      "?\n",
      "d1e0d69c-a4df-485a-983c-535494221d1a.png\n",
      "?\n",
      "1d1968e2-88a5-4d72-9237-caf4cbad9423.png\n",
      "?\n",
      "f6236cb5-cc36-4ec4-895c-d11ce043341d.png\n",
      "?\n",
      "a8e3ea7d-0b63-45cf-85d8-1078d3e2449d.png\n",
      "?\n",
      "47c78742-4998-4878-aec4-37b11b1354ac.png\n",
      "?\n",
      "e155c13d-7ac7-4765-bb86-899349978413.png\n",
      "?\n",
      "393b8e45-6d97-4013-8100-27ebf07a1dad.png\n",
      "?\n",
      "5f137fa7-6539-499e-b0d5-0e481221bf5a.png\n",
      "?\n",
      "3a5327d8-8830-4ae2-bd6b-293f5aa42d4b.png\n",
      "?\n",
      "c3c78e4e-1a31-4a92-be4b-0fc3c7f992a4.png\n",
      "?\n",
      "dd4d6a4c-1e67-4911-bda2-7d8af75b1b19.png\n",
      "?\n",
      "a17f7e03-42a6-41d3-82ad-d8a656826936.png\n",
      "?\n",
      "f1c8caa2-a6dc-40c0-ab85-4769688f1eec.png\n",
      "?\n",
      "0977f16c-c343-42c9-95ed-d7ca996feb16.png\n",
      "?\n",
      "153b7c2b-4909-4dca-8579-9523582bc4fe.png\n",
      "?\n",
      "af1d168c-4850-41e1-85b8-ff8fc645e671.png\n",
      "?\n",
      "99432aa3-8d61-4ff2-a79a-f0a0218d6fa2.png\n",
      "?\n",
      "4b1cab8a-c9bd-40e6-bc86-23c6be98a099.png\n",
      "?\n",
      "b8dd7d32-b177-4d1e-982f-6f0a743828fa.png\n",
      "?\n",
      "bb068d57-86a8-4347-bee0-e29d59ddef6b.png\n",
      "?\n",
      "9e2ddac8-9a4c-448b-98c8-a840a548d0f7.png\n",
      "?\n",
      "af6ef3d9-81c8-434e-bc5a-dbf89bc418aa.png\n",
      "?\n",
      "63192a6c-02ba-48a5-932a-bb82aeacb1bc.png\n",
      "?\n",
      "d3ad2915-af30-426c-ad2d-1634df8c1b5f.png\n",
      "?\n",
      "1414c7d6-dff3-453c-8322-b25bb5899d78.png\n",
      "?\n",
      "d535a3c8-c4a4-4856-b5cd-17f6332eac8b.png\n",
      "?\n",
      "1c0a780d-1cac-4eee-b46d-470ecebc9ae0.png\n",
      "?\n",
      "caa545b4-4eea-4e3a-90b1-c4c0789a1109.png\n",
      "?\n",
      "fc958b63-5da8-448d-8962-3c5167dc9410.png\n",
      "?\n",
      "06b2f933-3ea2-4477-ac27-18f732d1f4e1.png\n",
      "?\n",
      "03a9498c-549d-4e7d-800b-e74797f7f625.png\n",
      "?\n",
      "069cfd47-0169-43e7-89a1-0be0fa24105b.png\n",
      "?\n",
      "d9884def-b31a-4861-9eea-27f97bffeba2.png\n",
      "?\n",
      "a6236ddd-6367-4569-b5f1-07d2df9390ad.png\n",
      "?\n",
      "1cdba4ee-0bb8-421d-9a24-7febeb399729.png\n",
      "?\n",
      "652d6bb3-56a0-4a89-9631-684ce27cfc4c.png\n",
      "?\n",
      "bd8facb9-dce0-4048-8249-e6078b28e1b7.png\n",
      "?\n",
      "e1d23cbe-213d-48d6-a8c2-672c4e68285d.png\n",
      "?\n",
      "bfd795ae-7656-40fc-b44e-566515e52ed2.png\n",
      "?\n",
      "372b2fea-2013-4600-a06f-765c3f054a82.png\n",
      "?\n",
      "b76728e6-f44b-40bf-8688-e703d10d2039.png\n",
      "?\n",
      "875b34e4-b58d-479f-954a-5b015071f448.png\n",
      "?\n",
      "85bb48fe-e6d6-47de-bb71-d1636aced7dc.png\n",
      "?\n",
      "c2b24ebd-2c40-48c3-ba39-177224dd7db0.png\n",
      "?\n",
      "585f5059-8938-4885-accb-d7d0b1097c60.png\n",
      "?\n",
      "2c68016e-5a63-4430-a834-efe5d43edd0e.png\n",
      "?\n",
      "cc3177c8-6570-497c-aef3-6fbddef692f6.png\n",
      "?\n",
      "af2ff93b-2f33-4c91-bde1-1490fc435b50.png\n",
      "?\n",
      "2ed06be4-9f0e-4256-b8bf-a4b396cc6364.png\n",
      "?\n",
      "89dd8f63-8320-48f3-b142-d903f40d5c8c.png\n",
      "?\n",
      "07aeb82e-773b-4498-95c0-fabdf4985bb2.png\n",
      "?\n",
      "1afd6582-da9d-4e5a-a81f-62a188fe9366.png\n",
      "?\n",
      "168f4fcb-a87d-49fc-b167-4ed42fd1ec43.png\n",
      "?\n",
      "ffba6230-71cf-4287-a0d1-887f5d16e95d.png\n",
      "?\n",
      "cb7d021b-b273-436a-bd7a-e68c11ed3f6b.png\n",
      "?\n",
      "0bb24183-8b59-48f1-8bbf-4d889976fc82.png\n",
      "?\n",
      "0103fadb-1663-40a6-8a9e-09d626cd2091.png\n",
      "?\n",
      "93b49de9-9267-43c2-a507-6885e4caeaba.png\n",
      "?\n",
      "33e4e43b-054b-4537-9cd6-0fe574f7d337.png\n",
      "?\n",
      "73dca3d1-5c58-4c72-80a9-201deca7ffec.png\n",
      "?\n",
      "3e1b619a-cdd9-495a-bcbf-a9d62b418991.png\n",
      "?\n",
      "a6c364d2-b2d6-4b0b-a439-40b992ff65c7.png\n",
      "?\n",
      "7817b551-d220-479b-815f-395f83e1dba1.png\n",
      "?\n",
      "bcdd92c8-2cde-4899-a6fc-46b875aaab62.png\n",
      "?\n",
      "baf8fe18-a7ca-4e9c-b3dc-5c80d474545b.png\n",
      "?\n",
      "5eb932e2-3455-40fe-93db-ae44f897d9e0.png\n",
      "?\n",
      "78c33a1a-8f22-476c-ae97-8190192102df.png\n",
      "?\n",
      "71d25920-4060-4a31-b7aa-cfbf4721a5c5.png\n",
      "?\n",
      "f3b015ab-e337-4e7f-971d-eb7cc3dd4e92.png\n",
      "?\n",
      "b540ba89-72f7-40f5-a916-376546c20014.png\n",
      "?\n",
      "a8dfd068-69e9-4486-bb22-2a04f2f2e1a5.png\n",
      "?\n",
      "a0b9597d-93f4-4a7c-a412-81cb78bccb66.png\n",
      "?\n",
      "b5007662-ff9c-49ad-9093-85ed7dc44bf4.png\n",
      "?\n",
      "bca4aa4d-0cc9-4cc0-b06d-5b675194bf62.png\n",
      "?\n",
      "3766b0a6-1769-4d82-b081-fa53531de34e.png\n",
      "?\n",
      "ca3c90e4-f7fe-4f6e-b20b-81473deab4f0.png\n",
      "?\n",
      "71d8d6ec-253b-4272-a467-311828b2a35b.png\n",
      "?\n",
      "dee054ff-0e1a-4167-b814-cbf339cf689c.png\n",
      "?\n",
      "85d84453-ab2d-4666-98e6-5df3cbb81f5b.png\n"
     ]
    }
   ],
   "source": [
    "os.chdir('/home/dell/Documentos/COVID-Net/data/test/')\n",
    "\n",
    "\n",
    "# Copia teste\n",
    "\n",
    "for f in os.listdir():\n",
    "    if str(f) in test_labels['image'].tolist():\n",
    "        \n",
    "        index_test = test_labels[test_labels['image']==f].index.values\n",
    "        label = test_labels['label'].loc[index_test].values[0]\n",
    "        shutil.copy(f, os.path.join(dir_test, label))\n",
    "    else:\n",
    "        print('?')\n",
    "        print(f)\n",
    "        \n"
   ]
  },
  {
   "cell_type": "code",
   "execution_count": 2,
   "id": "apparent-floor",
   "metadata": {},
   "outputs": [
    {
     "name": "stdout",
     "output_type": "stream",
     "text": [
      "Found 8434 files belonging to 2 classes.\n"
     ]
    }
   ],
   "source": [
    "from tensorflow.keras.preprocessing import image_dataset_from_directory\n",
    "test_dir = \"/home/dell/Documentos/rn-cin-covid/data/train/\"\n",
    "\n",
    "train_dataset = image_dataset_from_directory(test_dir,\n",
    "                                                  shuffle=True,\n",
    "                                                  labels=\"inferred\",\n",
    "                                                  label_mode=\"int\",\n",
    "                                                  batch_size=32,\n",
    "                                                  image_size=(150, 150))\n"
   ]
  }
 ],
 "metadata": {
  "kernelspec": {
   "display_name": "Python [conda env:tensorflow] *",
   "language": "python",
   "name": "conda-env-tensorflow-py"
  },
  "language_info": {
   "codemirror_mode": {
    "name": "ipython",
    "version": 3
   },
   "file_extension": ".py",
   "mimetype": "text/x-python",
   "name": "python",
   "nbconvert_exporter": "python",
   "pygments_lexer": "ipython3",
   "version": "3.8.11"
  }
 },
 "nbformat": 4,
 "nbformat_minor": 5
}
