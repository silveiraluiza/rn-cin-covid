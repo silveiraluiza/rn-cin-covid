{
 "cells": [
  {
   "cell_type": "markdown",
   "source": [
    "# Horizontal and Vertical Shift Augmentation"
   ],
   "metadata": {}
  },
  {
   "cell_type": "code",
   "execution_count": null,
   "source": [
    "from numpy import expand_dims\n",
    "from keras.preprocessing.image import load_img\n",
    "from keras.preprocessing.image import img_to_array\n",
    "from keras.preprocessing.image import ImageDataGenerator\n",
    "from matplotlib import pyplot\n",
    "\n",
    "import numpy as np\n",
    "import cv2\n",
    "import os\n",
    "import shutil"
   ],
   "outputs": [],
   "metadata": {}
  },
  {
   "cell_type": "markdown",
   "source": [
    "# Load Data"
   ],
   "metadata": {}
  },
  {
   "cell_type": "code",
   "execution_count": null,
   "source": [
    "base_dir = '/home/samuel/Dev/Python/Neural Networks/covid_net/COVID-Net/data'\n",
    "temp_dir = 'temp_dir'\n",
    "train_dir = os.path.join(base_dir, 'train')\n",
    "training_set = os.listdir(train_dir)\n",
    "train_labels_file = '/home/samuel/Dev/Python/Neural Networks/covid_net/COVID-Net/train_split.txt'    "
   ],
   "outputs": [],
   "metadata": {}
  },
  {
   "cell_type": "markdown",
   "source": [
    "# Random Width Shift"
   ],
   "metadata": {}
  },
  {
   "cell_type": "code",
   "execution_count": null,
   "source": [
    "\n",
    "image_name = np.random.choice(training_set)\n",
    "\n",
    "img = load_img(os.path.join(train_dir, image_name))\n",
    "data = img_to_array(img)\n",
    "samples = expand_dims(data, 0)\n",
    "datagen = ImageDataGenerator(width_shift_range=[-200,200])\n",
    "datagen.fit(samples)\n",
    "it = datagen.flow(samples, batch_size=1)\n",
    "\n",
    "pyplot.figure(figsize=(12, 12))\n",
    "\n",
    "for i in range(9):\n",
    "    ax = pyplot.subplot(3, 3, i + 1)\n",
    "    batch = it.next()\n",
    "    image = batch[0].astype('uint8')\n",
    "    pyplot.imshow(image)\n",
    "\n",
    "pyplot.show()\n"
   ],
   "outputs": [],
   "metadata": {}
  },
  {
   "cell_type": "markdown",
   "source": [
    "# Random Height Shift\n"
   ],
   "metadata": {}
  },
  {
   "cell_type": "code",
   "execution_count": null,
   "source": [
    "image_name = np.random.choice(training_set)\n",
    "img = load_img(os.path.join(train_dir, image_name))\n",
    "data = img_to_array(img)\n",
    "\n",
    "samples = expand_dims(data, 0)\n",
    "datagen = ImageDataGenerator(height_shift_range=0.5)\n",
    "datagen.fit(samples)\n",
    "\n",
    "it = datagen.flow(samples, batch_size=1)\n",
    "\n",
    "pyplot.figure(figsize=(12, 12))\n",
    "for i in range(9):\n",
    "    ax = pyplot.subplot(3, 3, i + 1)\n",
    "    batch = it.next()\n",
    "    image = batch[0].astype('uint8')\n",
    "    pyplot.imshow(image)\n",
    "    \n",
    "pyplot.show()"
   ],
   "outputs": [],
   "metadata": {}
  },
  {
   "cell_type": "markdown",
   "source": [
    "# Horizontal and Vertical Flip Augmentation"
   ],
   "metadata": {}
  },
  {
   "cell_type": "code",
   "execution_count": null,
   "source": [
    "image_name = np.random.choice(training_set)\n",
    "img = load_img(os.path.join(train_dir, image_name))\n",
    "data = img_to_array(img)\n",
    "\n",
    "samples = expand_dims(data, 0)\n",
    "datagen = ImageDataGenerator(horizontal_flip=True)\n",
    "datagen.fit(samples)\n",
    "\n",
    "it = datagen.flow(samples, batch_size=1)\n",
    "\n",
    "pyplot.figure(figsize=(12, 12))\n",
    "\n",
    "for i in range(9):\n",
    "    pyplot.subplot(3, 3, i + 1)\n",
    "    batch = it.next()\n",
    "    image = batch[0].astype('uint8')\n",
    "    pyplot.imshow(image)\n",
    "\n",
    "pyplot.show()"
   ],
   "outputs": [],
   "metadata": {}
  },
  {
   "cell_type": "markdown",
   "source": [
    "# Random Rotation Augmentation"
   ],
   "metadata": {}
  },
  {
   "cell_type": "code",
   "execution_count": null,
   "source": [
    "image_name = np.random.choice(training_set)\n",
    "img = load_img(os.path.join(train_dir, image_name))\n",
    "data = img_to_array(img)\n",
    "\n",
    "samples = expand_dims(data, 0)\n",
    "datagen = ImageDataGenerator(rotation_range=90)\n",
    "datagen.fit(samples)\n",
    "\n",
    "it = datagen.flow(samples, batch_size=1)\n",
    "\n",
    "pyplot.figure(figsize=(12, 12))\n",
    "\n",
    "for i in range(9):\n",
    "    pyplot.subplot(3, 3, i + 1)\n",
    "    batch = it.next()\n",
    "    image = batch[0].astype('uint8')\n",
    "    pyplot.imshow(image)\n",
    "\n",
    "pyplot.show()"
   ],
   "outputs": [],
   "metadata": {}
  },
  {
   "cell_type": "markdown",
   "source": [
    "# Random Brightness Augmentation"
   ],
   "metadata": {}
  },
  {
   "cell_type": "code",
   "execution_count": null,
   "source": [
    "image_name = np.random.choice(training_set)\n",
    "img = load_img(os.path.join(train_dir, image_name))\n",
    "data = img_to_array(img)\n",
    "\n",
    "samples = expand_dims(data, 0)\n",
    "datagen = ImageDataGenerator(brightness_range=[0.2,1.0])\n",
    "datagen.fit(samples)\n",
    "\n",
    "it = datagen.flow(samples, batch_size=1)\n",
    "\n",
    "pyplot.figure(figsize=(12, 12))\n",
    "\n",
    "for i in range(9):\n",
    "    ax = pyplot.subplot(3, 3, i + 1)\n",
    "    batch = it.next()\n",
    "    image = batch[0].astype('uint8')\n",
    "    pyplot.imshow(image)\n",
    "\n",
    "pyplot.show()"
   ],
   "outputs": [],
   "metadata": {}
  },
  {
   "cell_type": "markdown",
   "source": [
    "# Random Zoom Augmentation"
   ],
   "metadata": {}
  },
  {
   "cell_type": "code",
   "execution_count": null,
   "source": [
    "image_name = np.random.choice(training_set)\n",
    "img = load_img(os.path.join(train_dir, image_name))\n",
    "data = img_to_array(img)\n",
    "\n",
    "samples = expand_dims(data, 0)\n",
    "datagen = ImageDataGenerator(zoom_range=[0.5, 1.0])\n",
    "datagen.fit(samples)\n",
    "\n",
    "it = datagen.flow(samples, batch_size=1)\n",
    "\n",
    "pyplot.figure(figsize=(12, 12))\n",
    "\n",
    "for i in range(9):\n",
    "    ax = pyplot.subplot(3, 3, i + 1)\n",
    "    batch = it.next()\n",
    "    image = batch[0].astype('uint8')\n",
    "    pyplot.imshow(image)\n",
    "\n",
    "pyplot.show()"
   ],
   "outputs": [],
   "metadata": {}
  },
  {
   "cell_type": "markdown",
   "source": [
    "# Feature Wise Center\n"
   ],
   "metadata": {}
  },
  {
   "cell_type": "code",
   "execution_count": null,
   "source": [
    "image_name = np.random.choice(training_set)\n",
    "img = load_img(os.path.join(train_dir, image_name))\n",
    "data = img_to_array(img)\n",
    "\n",
    "samples = expand_dims(data, 0)\n",
    "datagen = ImageDataGenerator(featurewise_center=True)\n",
    "datagen.fit(samples)\n",
    "it = datagen.flow(samples, batch_size=1)\n",
    "\n",
    "pyplot.figure(figsize=(12, 12))\n",
    "\n",
    "for i in range(9):\n",
    "    ax = pyplot.subplot(3, 3, i + 1)\n",
    "    batch = it.next()\n",
    "    image = batch[0].astype('uint8')\n",
    "    pyplot.imshow(image)\n",
    "\n",
    "pyplot.show()"
   ],
   "outputs": [],
   "metadata": {}
  },
  {
   "cell_type": "markdown",
   "source": [
    "# Gaussian Noise"
   ],
   "metadata": {}
  },
  {
   "cell_type": "code",
   "execution_count": null,
   "source": [
    "\n",
    "def gaussian_noise(basedir, imgpath):\n",
    "    \n",
    "    img = cv2.imread(os.path.join(basedir, imgpath), cv2.IMREAD_COLOR)   \n",
    "    gauss = np.random.normal(0, 0.8, img.size)\n",
    "    gauss = gauss.reshape(img.shape[0], img.shape[1], img.shape[2]).astype('uint8')\n",
    "    imgnoise = cv2.add(img, gauss)\n",
    "\n",
    "    return imgnoise\n"
   ],
   "outputs": [],
   "metadata": {}
  },
  {
   "cell_type": "markdown",
   "source": [
    "# Sample Without Gaussian Noise"
   ],
   "metadata": {}
  },
  {
   "cell_type": "code",
   "execution_count": null,
   "source": [
    "train_dir = os.path.join(base_dir, 'train')\n",
    "training_set = os.listdir(train_dir)\n",
    "pyplot.figure(figsize=(12, 12))\n",
    "\n",
    "for i in range(8):    \n",
    "    image = np.random.choice(training_set)\n",
    "    ax = pyplot.subplot(3, 4, i + 1)\n",
    "    img = load_img(os.path.join(train_dir, image))\n",
    "    pyplot.imshow(img)\n",
    "    pyplot.axis(\"off\")\n",
    "    \n",
    "pyplot.show()"
   ],
   "outputs": [],
   "metadata": {}
  },
  {
   "cell_type": "markdown",
   "source": [
    "# Sample With Gaussian Noise"
   ],
   "metadata": {}
  },
  {
   "cell_type": "code",
   "execution_count": null,
   "source": [
    "image_name = np.random.choice(training_set)\n",
    "img = load_img(os.path.join(train_dir, image_name))\n",
    "\n",
    "pyplot.figure(figsize=(6, 3))\n",
    "pyplot.title(\"Without Gaussian Noise\")\n",
    "pyplot.imshow(img)\n",
    "pyplot.show()\n",
    "\n",
    "pyplot.figure(figsize=(12, 12))\n",
    "\n",
    "for i in range(12):\n",
    "    ax = pyplot.subplot(3, 4, i + 1)\n",
    "    gaussian_noise_image = gaussian_noise(\n",
    "        train_dir, image_name\n",
    "    )\n",
    "    pyplot.title('Gaussian Noise')\n",
    "    pyplot.imshow(gaussian_noise_image)\n",
    "\n",
    "pyplot.show()\n"
   ],
   "outputs": [],
   "metadata": {}
  },
  {
   "cell_type": "code",
   "execution_count": null,
   "source": [
    "# print(training_set)"
   ],
   "outputs": [],
   "metadata": {}
  },
  {
   "cell_type": "markdown",
   "source": [
    "# Apply Gaussian Noise to All Training Data "
   ],
   "metadata": {}
  },
  {
   "cell_type": "code",
   "execution_count": null,
   "source": [
    "def get_gauss_labels():\n",
    "\n",
    "    if not os.path.exists(temp_dir):\n",
    "        os.mkdir(temp_dir)\n",
    "\n",
    "    labels = []\n",
    "    \n",
    "    with open(train_labels_file, 'r') as file:\n",
    "        content = file.readlines()\n",
    "        labels.append(content)\n",
    "        \n",
    "    gauss_labels = {}\n",
    "    all_indexes  = {}   \n",
    "        \n",
    "    for label in labels[0]:\n",
    "        index = None\n",
    "        pattern  = ['.jpg', '.jpeg', '.png', '.PNG']\n",
    "        filename = ''\n",
    "        for pos in label.strip('\\n').split(' '):\n",
    "            for p in pattern:\n",
    "                f = pos.endswith(p)\n",
    "                if f: break\n",
    "\n",
    "            if f: \n",
    "                filename = pos\n",
    "                index    = label.strip('\\n').split(' ').index(pos)\n",
    "                break\n",
    "\n",
    "        gauss_labels[filename] = label.strip('\\n').split(' ')\n",
    "        all_indexes[filename]  = index\n",
    "    \n",
    "    return gauss_labels, all_indexes"
   ],
   "outputs": [],
   "metadata": {}
  },
  {
   "cell_type": "code",
   "execution_count": null,
   "source": [
    "\n",
    "def apply_gaussian_noise():\n",
    "\n",
    "    gauss_labels, all_indexes = get_gauss_labels()\n",
    "    print(\"Applying Gaussian Noise to the data...\")\n",
    "    \n",
    "    for i, image in enumerate(training_set):\n",
    "        print('\\r[' + '*'*int((i * 100)/len(training_set)) + ' '*int(100 - ((i) * (100/len(training_set)))) + ']', end='')\n",
    "\n",
    "        gaussian_noise_image = gaussian_noise(\n",
    "           train_dir, image\n",
    "        )\n",
    "        \n",
    "        gauss_image_name = 'gauss_' + image\n",
    "        \n",
    "        gauss_labels[image][all_indexes[image]] = gauss_image_name\n",
    "        \n",
    "        cv2.imwrite(\n",
    "            '{}'.format(os.path.join(temp_dir, gauss_image_name)),\n",
    "            gaussian_noise_image\n",
    "        )\n",
    "\n",
    "    print(\"Generating gaussian train labels file... \")\n",
    "    with open('train_labels_gauss.txt', 'a') as f: \n",
    "        for key, value in gauss_labels.items(): \n",
    "            s = ' '.join([str(item) for item in value]) + '\\n'\n",
    "            f.write(s)\n",
    "\n",
    "    print(\"Ok.\")\n"
   ],
   "outputs": [],
   "metadata": {}
  },
  {
   "cell_type": "code",
   "execution_count": null,
   "source": [
    "apply_gaussian_noise()"
   ],
   "outputs": [],
   "metadata": {}
  },
  {
   "cell_type": "markdown",
   "source": [
    "# Copy Imagens to Training Directory"
   ],
   "metadata": {}
  },
  {
   "cell_type": "code",
   "execution_count": null,
   "source": [
    "train_dir = train_dir\n",
    "temp_dir = temp_dir\n",
    "\n",
    "for image in os.listdir(temp_dir):\n",
    "    shutil.copytree(os.path.join(temp_dir, image), os.path.join(train_dir, image), False, None)\n",
    "   "
   ],
   "outputs": [],
   "metadata": {}
  }
 ],
 "metadata": {
  "orig_nbformat": 4,
  "language_info": {
   "name": "python",
   "version": "3.7.11",
   "mimetype": "text/x-python",
   "codemirror_mode": {
    "name": "ipython",
    "version": 3
   },
   "pygments_lexer": "ipython3",
   "nbconvert_exporter": "python",
   "file_extension": ".py"
  },
  "kernelspec": {
   "name": "python3",
   "display_name": "Python 3.7.11 64-bit ('env': venv)"
  },
  "interpreter": {
   "hash": "0896bc9d7d49f56819f15778385843e66cc7c64a46ab8f4e7b12f6d6a70151e0"
  }
 },
 "nbformat": 4,
 "nbformat_minor": 2
}