{
 "cells": [
  {
   "cell_type": "code",
   "execution_count": 1,
   "id": "moral-damages",
   "metadata": {},
   "outputs": [],
   "source": [
    "import pandas as pd"
   ]
  },
  {
   "cell_type": "code",
   "execution_count": 2,
   "id": "digital-forge",
   "metadata": {},
   "outputs": [],
   "source": [
    "knn = pd.read_csv(\"knn_results.csv\")"
   ]
  },
  {
   "cell_type": "code",
   "execution_count": 3,
   "id": "commercial-matthew",
   "metadata": {},
   "outputs": [
    {
     "name": "stdout",
     "output_type": "stream",
     "text": [
      "['94', '6', '32', '259']\n"
     ]
    }
   ],
   "source": [
    "import re\n",
    "\n",
    "str = knn['conf-matrix-teste'][0]\n",
    "#search using regex\n",
    "x = re.findall('[0-9]+', str)\n",
    "print(x)"
   ]
  },
  {
   "cell_type": "markdown",
   "id": "expanded-apparel",
   "metadata": {},
   "source": [
    "## KNN"
   ]
  },
  {
   "cell_type": "code",
   "execution_count": 4,
   "id": "going-thumbnail",
   "metadata": {},
   "outputs": [],
   "source": [
    "df_matrix = pd.DataFrame(columns=[\"base\",\"True Negative\", \"False Negative\", \"False Positive\", \"True Positive\"])\n",
    "\n",
    "true_neg = []\n",
    "false_neg = []\n",
    "false_pos = []\n",
    "true_pos = []\n",
    "\n",
    "for matrix in knn['conf-matrix-teste'].tolist():\n",
    "    x = re.findall('[0-9]+', matrix)\n",
    "    true_neg.append(x[0])\n",
    "    false_neg.append(x[1])\n",
    "    false_pos.append(x[2])\n",
    "    true_pos.append(x[3])\n",
    "\n",
    "df_matrix[\"base\"] = knn[\"base\"]\n",
    "df_matrix[\"True Negative\"] = true_neg\n",
    "df_matrix[\"False Negative\"] = false_neg\n",
    "df_matrix[\"False Positive\"] = false_pos\n",
    "df_matrix[\"True Positive\"] = true_pos\n",
    "\n",
    "df_matrix.to_csv(\"results/knn_conf_matrix_teste.csv\", index=False)"
   ]
  },
  {
   "cell_type": "code",
   "execution_count": 5,
   "id": "cleared-adult",
   "metadata": {},
   "outputs": [],
   "source": [
    "df_matrix = pd.DataFrame(columns=[\"base\",\"True Negative\", \"False Negative\", \"False Positive\", \"True Positive\"])\n",
    "\n",
    "true_neg = []\n",
    "false_neg = []\n",
    "false_pos = []\n",
    "true_pos = []\n",
    "\n",
    "for matrix in knn['conf-matrix-val'].tolist():\n",
    "    x = re.findall('[0-9]+', matrix)\n",
    "    true_neg.append(x[0])\n",
    "    false_neg.append(x[1])\n",
    "    false_pos.append(x[2])\n",
    "    true_pos.append(x[3])\n",
    "\n",
    "df_matrix[\"base\"] = knn[\"base\"]\n",
    "df_matrix[\"True Negative\"] = true_neg\n",
    "df_matrix[\"False Negative\"] = false_neg\n",
    "df_matrix[\"False Positive\"] = false_pos\n",
    "df_matrix[\"True Positive\"] = true_pos\n",
    "\n",
    "df_matrix.to_csv(\"results/knn_conf_matrix_val.csv\", index=False)"
   ]
  },
  {
   "cell_type": "markdown",
   "id": "certain-domain",
   "metadata": {},
   "source": [
    "## MLP"
   ]
  },
  {
   "cell_type": "code",
   "execution_count": 6,
   "id": "framed-evening",
   "metadata": {},
   "outputs": [],
   "source": [
    "mlp = pd.read_csv(\"mlp_results.csv\")\n",
    "\n",
    "df_matrix = pd.DataFrame(columns=[\"base\",\"True Negative\", \"False Negative\", \"False Positive\", \"True Positive\"])\n",
    "\n",
    "true_neg = []\n",
    "false_neg = []\n",
    "false_pos = []\n",
    "true_pos = []\n",
    "\n",
    "for matrix in mlp['conf-matrix-teste'].tolist():\n",
    "    x = re.findall('[0-9]+', matrix)\n",
    "    true_neg.append(x[0])\n",
    "    false_neg.append(x[1])\n",
    "    false_pos.append(x[2])\n",
    "    true_pos.append(x[3])\n",
    "\n",
    "df_matrix[\"base\"] = mlp[\"base\"]\n",
    "df_matrix[\"True Negative\"] = true_neg\n",
    "df_matrix[\"False Negative\"] = false_neg\n",
    "df_matrix[\"False Positive\"] = false_pos\n",
    "df_matrix[\"True Positive\"] = true_pos\n",
    "\n",
    "df_matrix.to_csv(\"results/mlp_conf_matrix_teste.csv\", index=False)"
   ]
  },
  {
   "cell_type": "code",
   "execution_count": 7,
   "id": "opposed-unknown",
   "metadata": {},
   "outputs": [],
   "source": [
    "df_matrix = pd.DataFrame(columns=[\"base\",\"True Negative\", \"False Negative\", \"False Positive\", \"True Positive\"])\n",
    "\n",
    "true_neg = []\n",
    "false_neg = []\n",
    "false_pos = []\n",
    "true_pos = []\n",
    "\n",
    "for matrix in mlp['conf-matrix-val'].tolist():\n",
    "    x = re.findall('[0-9]+', matrix)\n",
    "    true_neg.append(x[0])\n",
    "    false_neg.append(x[1])\n",
    "    false_pos.append(x[2])\n",
    "    true_pos.append(x[3])\n",
    "\n",
    "df_matrix[\"base\"] = mlp[\"base\"]\n",
    "df_matrix[\"True Negative\"] = true_neg\n",
    "df_matrix[\"False Negative\"] = false_neg\n",
    "df_matrix[\"False Positive\"] = false_pos\n",
    "df_matrix[\"True Positive\"] = true_pos\n",
    "\n",
    "df_matrix.to_csv(\"results/mlp_conf_matrix_val.csv\", index=False)"
   ]
  },
  {
   "cell_type": "markdown",
   "id": "english-lotus",
   "metadata": {},
   "source": [
    "## SVM"
   ]
  },
  {
   "cell_type": "code",
   "execution_count": 13,
   "id": "japanese-officer",
   "metadata": {},
   "outputs": [],
   "source": [
    "svm = pd.read_csv(\"svm-results.csv\", header=None)\n",
    "\n",
    "columns=[\"base\", \"acuracia-teste\", \"precision-covid-teste\", \"recall-covid-teste\", \"f1-covid-teste\", \"precision-non-covid-teste\", \"recall-non-covid-teste\", \"f1-non-covid-teste\", \"conf-matrix-teste\", \"acuracia-val\", \"precision-covid-val\", \"recall-covid-val\", \"f1-covid-val\", \"precision-non-covid-val\", \"recall-non-covid-val\", \"f1-non-covid-val\", \"conf-matrix-val\"]\n",
    "\n",
    "svm.columns = columns\n",
    "\n",
    "df_matrix = pd.DataFrame(columns=[\"base\",\"True Negative\", \"False Negative\", \"False Positive\", \"True Positive\"])\n",
    "\n",
    "true_neg = []\n",
    "false_neg = []\n",
    "false_pos = []\n",
    "true_pos = []\n",
    "\n",
    "for matrix in svm['conf-matrix-teste'].tolist():\n",
    "    x = re.findall('[0-9]+', matrix)\n",
    "    true_neg.append(x[0])\n",
    "    false_neg.append(x[1])\n",
    "    false_pos.append(x[2])\n",
    "    true_pos.append(x[3])\n",
    "\n",
    "df_matrix[\"base\"] = svm[\"base\"]\n",
    "df_matrix[\"True Negative\"] = true_neg\n",
    "df_matrix[\"False Negative\"] = false_neg\n",
    "df_matrix[\"False Positive\"] = false_pos\n",
    "df_matrix[\"True Positive\"] = true_pos\n",
    "\n",
    "df_matrix.to_csv(\"results/svm_conf_matrix_teste.csv\", index=False)"
   ]
  },
  {
   "cell_type": "code",
   "execution_count": 14,
   "id": "minimal-adult",
   "metadata": {},
   "outputs": [],
   "source": [
    "df_matrix = pd.DataFrame(columns=[\"base\",\"True Negative\", \"False Negative\", \"False Positive\", \"True Positive\"])\n",
    "\n",
    "true_neg = []\n",
    "false_neg = []\n",
    "false_pos = []\n",
    "true_pos = []\n",
    "\n",
    "for matrix in svm['conf-matrix-val'].tolist():\n",
    "    x = re.findall('[0-9]+', matrix)\n",
    "    true_neg.append(x[0])\n",
    "    false_neg.append(x[1])\n",
    "    false_pos.append(x[2])\n",
    "    true_pos.append(x[3])\n",
    "\n",
    "df_matrix[\"base\"] = svm[\"base\"]\n",
    "df_matrix[\"True Negative\"] = true_neg\n",
    "df_matrix[\"False Negative\"] = false_neg\n",
    "df_matrix[\"False Positive\"] = false_pos\n",
    "df_matrix[\"True Positive\"] = true_pos\n",
    "\n",
    "df_matrix.to_csv(\"results/svm_conf_matrix_val.csv\", index=False)"
   ]
  }
 ],
 "metadata": {
  "kernelspec": {
   "display_name": "Python [conda env:tensorflow] *",
   "language": "python",
   "name": "conda-env-tensorflow-py"
  },
  "language_info": {
   "codemirror_mode": {
    "name": "ipython",
    "version": 3
   },
   "file_extension": ".py",
   "mimetype": "text/x-python",
   "name": "python",
   "nbconvert_exporter": "python",
   "pygments_lexer": "ipython3",
   "version": "3.8.11"
  }
 },
 "nbformat": 4,
 "nbformat_minor": 5
}
