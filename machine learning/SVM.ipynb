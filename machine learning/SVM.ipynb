{
 "cells": [
  {
   "cell_type": "code",
   "execution_count": 1,
   "source": [
    "from sklearn.model_selection import RandomizedSearchCV\n",
    "from sklearn.model_selection import GridSearchCV\n",
    "from sklearn.model_selection import train_test_split\n",
    "from sklearn.neighbors import KNeighborsClassifier\n",
    "from sklearn.metrics import accuracy_score\n",
    "from sklearn.metrics import classification_report\n",
    "from sklearn.metrics import confusion_matrix\n",
    "from sklearn.model_selection import StratifiedKFold\n",
    "from sklearn.svm import SVC\n",
    "\n",
    "import seaborn as sn\n",
    "import matplotlib.pyplot as plt\n",
    "import pandas as pd\n",
    "import os\n",
    "\n",
    "\n",
    "path = '/home/samuel/Dev/Python/Neural Networks/rn-cin-covid'\n",
    "os.chdir(path)\n"
   ],
   "outputs": [],
   "metadata": {}
  },
  {
   "cell_type": "code",
   "execution_count": 2,
   "source": [
    "def evaluate_svm(model, X_test, y_test):\n",
    "    \n",
    "    y_pred = model.predict(X_test)\n",
    "    \n",
    "    print(\"Acurácia teste: \", accuracy_score(y_test, y_pred))\n",
    "    print(\"   \")\n",
    "    \n",
    "    print(classification_report(y_test, y_pred))\n",
    "    \n",
    "    df_cm = confusion_matrix(y_test, y_pred)\n",
    "\n",
    "    plt.figure(figsize = (10,7))\n",
    "    sn.heatmap(df_cm, annot=True, fmt='.3g')\n",
    "    plt.show()"
   ],
   "outputs": [],
   "metadata": {}
  },
  {
   "cell_type": "code",
   "execution_count": 3,
   "source": [
    "def train_predict_SVM(df_total, test):\n",
    "    # Train\n",
    "    y = df_total[0]\n",
    "    X = df_total.drop(0, axis=1)\n",
    "\n",
    "    y = y.to_numpy()\n",
    "    X = X.to_numpy()\n",
    "    \n",
    "    #Test\n",
    "    y_test = test[0]\n",
    "    X_test = test.drop(0, axis=1)\n",
    "\n",
    "    y_test = y_test.to_numpy()\n",
    "    X_test = X_test.to_numpy()\n",
    "    \n",
    "    # Grid\n",
    "    # k_range = list(range(1,30))\n",
    "    # weight_options = [\"uniform\", \"distance\"][]\n",
    "    param_grid = {\n",
    "        'gamma': [0.0001, 0.001, 0.01, 0.0005, 0.005, 0.05, 0.1, 0.5], \n",
    "        'degree': [1, 2, 3, 4, 5, 6, 7, 8], \n",
    "        'C': [0.0001, 0.001, 0.01, 0.0005, 0.005, 0.05, 0.1, 0.5, 1, 10, 100, 1000],      \n",
    "        'kernel': ['linear', 'rbf', 'poly']\n",
    "    } \n",
    "\n",
    "    # param_grid = dict(n_neighbors = k_range, weights = weight_options)\n",
    "    #print (param_grid)\n",
    "    svc = SVC()\n",
    "    folds = 10\n",
    "    skf = StratifiedKFold(n_splits=folds, shuffle = True, random_state = 999)\n",
    "    \n",
    "    grid = GridSearchCV(svc, param_grid, cv = skf, scoring = 'accuracy')\n",
    "    grid.fit(X,y)\n",
    "\n",
    "    #print(grid.grid_scores_)\n",
    "    '''\n",
    "    print(grid.grid_scores_[0].parameters)\n",
    "    print(grid.grid_scores_[0].cv_validation_scores)\n",
    "    print(grid.grid_scores_[0].mean_validation_score)\n",
    "    '''\n",
    "\n",
    "    print (\"Best Score: \", grid.best_score_)\n",
    "    print (\"Best params: \", grid.best_params_)\n",
    "    print(\"\\n\")\n",
    "    \n",
    "    evaluate_svm(grid.best_estimator_, X_test, y_test)\n",
    "    return grid.best_params_ "
   ],
   "outputs": [],
   "metadata": {}
  },
  {
   "cell_type": "code",
   "execution_count": 8,
   "source": [
    "def treina_melhor_modelo(df_total,test,best_params,base_name):\n",
    "    y = df_total[0]\n",
    "    X = df_total.drop(0, axis=1)\n",
    "\n",
    "    y = y.to_numpy()\n",
    "    X = X.to_numpy()\n",
    "\n",
    "    test_true_x = test.drop(0, axis=1).to_numpy()\n",
    "    test_true_y = test[0].to_numpy()\n",
    "\n",
    "    svc = SVC(gamma=best_params['gamma'], degree=best_params['degree'], C=best_params['C'], kernel=best_params['kernel'])\n",
    "    svc_results = pd.DataFrame(columns=[\"base\", \"acuracia-teste\", \"precision-covid-teste\", \"recall-covid-teste\", \"f1-covid-teste\", \"precision-non-covid-teste\", \"recall-non-covid-teste\", \"f1-non-covid-teste\", \"conf-matrix-teste\", \"acuracia-val\", \"precision-covid-val\", \"recall-covid-val\", \"f1-covid-val\", \"precision-non-covid-val\", \"recall-non-covid-val\", \"f1-non-covid-val\", \"conf-matrix-val\"])\n",
    "\n",
    "    folds = 30\n",
    "\n",
    "    skf = StratifiedKFold(n_splits=folds, shuffle = True, random_state = 999)\n",
    "    StratifiedKFold(n_splits=2, random_state=None, shuffle=False)\n",
    "\n",
    "\n",
    "    acuracia_test = []\n",
    "    acuracia_val = []\n",
    "    pre_covid_t = []\n",
    "    re_covid_t = []\n",
    "    f1_covid_t = []\n",
    "    pre_ncovid_t = []\n",
    "    re_ncovid_t = []\n",
    "    f1_ncovid_t = []\n",
    "    pre_covid_v = []\n",
    "    re_covid_v = []\n",
    "    f1_covid_v = []\n",
    "    pre_ncovid_v = []\n",
    "    re_ncovid_v = []\n",
    "    f1_ncovid_v = []\n",
    "    base = []\n",
    "    conf_matrix_val = []\n",
    "    conf_matrix_test = []\n",
    "\n",
    "\n",
    "\n",
    "\n",
    "\n",
    "    for train_index, test_index in skf.split(X, y):\n",
    "        X_train, X_test = X[train_index], X[test_index]\n",
    "        y_train, y_test = y[train_index], y[test_index]\n",
    "        svc.fit(X_train, y_train)\n",
    "        y_pred = svc.predict(X_test)\n",
    "        y_pred_true = svc.predict(test_true_x) \n",
    "\n",
    "\n",
    "\n",
    "\n",
    "        df_cm = confusion_matrix(y_test, y_pred)\n",
    "        df_cm_test = confusion_matrix(test_true_y, y_pred_true)   \n",
    "        class_repo = classification_report(y_test, y_pred, output_dict=True)\n",
    "        class_repo_test = classification_report(test_true_y, y_pred_true, output_dict=True)\n",
    "\n",
    "        base.append(base_name)\n",
    "        acuracia_test.append(accuracy_score(test_true_y, y_pred_true))\n",
    "        acuracia_val.append(accuracy_score(y_test, y_pred))\n",
    "\n",
    "        pre_covid_t.append(class_repo_test['1'][\"precision\"])\n",
    "        re_covid_t.append(class_repo_test['1'][\"recall\"])\n",
    "        f1_covid_t.append(class_repo_test['1'][\"f1-score\"])\n",
    "        pre_ncovid_t.append(class_repo_test['0'][\"precision\"])\n",
    "        re_ncovid_t.append(class_repo_test['0'][\"recall\"])\n",
    "        f1_ncovid_t.append(class_repo_test['0'][\"f1-score\"])\n",
    "\n",
    "        pre_covid_v.append(class_repo['1'][\"precision\"])\n",
    "        re_covid_v.append(class_repo['1'][\"recall\"])\n",
    "        f1_covid_v.append(class_repo['1'][\"f1-score\"])\n",
    "        pre_ncovid_v.append(class_repo['0'][\"precision\"])\n",
    "        re_ncovid_v.append(class_repo['0'][\"recall\"])\n",
    "        f1_ncovid_v.append(class_repo['0'][\"f1-score\"])\n",
    "\n",
    "        conf_matrix_val.append(df_cm)\n",
    "        conf_matrix_test.append(df_cm_test)\n",
    "\n",
    "\n",
    "    svc_results[\"acuracia-teste\"] = acuracia_test\n",
    "    svc_results[\"acuracia-val\"] = acuracia_val \n",
    "    svc_results[\"precision-covid-teste\"] = pre_covid_t \n",
    "    svc_results[\"recall-covid-teste\"] = re_covid_t \n",
    "    svc_results[\"f1-covid-teste\"] = f1_covid_t \n",
    "    svc_results[\"precision-non-covid-teste\"] = pre_ncovid_t\n",
    "    svc_results[\"recall-non-covid-teste\"] = re_ncovid_t \n",
    "    svc_results[\"f1-non-covid-teste\"] = f1_ncovid_t \n",
    "    svc_results[\"precision-covid-val\"] = pre_covid_v \n",
    "    svc_results[\"recall-covid-val\"] = re_covid_v \n",
    "    svc_results[\"f1-covid-val\"] = f1_covid_v \n",
    "    svc_results[\"precision-non-covid-val\"] = pre_ncovid_v \n",
    "    svc_results[\"recall-non-covid-val\"] = re_ncovid_v \n",
    "    svc_results[\"f1-non-covid-val\"] = f1_ncovid_v \n",
    "    svc_results[\"base\"] = base \n",
    "    svc_results[\"conf-matrix-val\"] = conf_matrix_val\n",
    "    svc_results[\"conf-matrix-teste\"] = conf_matrix_test \n",
    "    \n",
    "    return(svc_results)"
   ],
   "outputs": [],
   "metadata": {}
  },
  {
   "cell_type": "markdown",
   "source": [
    "### Densenet Normal\n"
   ],
   "metadata": {}
  },
  {
   "cell_type": "code",
   "execution_count": 9,
   "source": [
    "test = pd.read_csv(\"output/output_densenet_test_retrained.csv\", header=None)\n",
    "train = pd.read_csv(\"output/output_densenet_train_retrained.csv\", header=None)\n",
    "val = pd.read_csv(\"output/output_densenet_val_retrained.csv\", header=None)\n",
    "\n",
    "df_total = pd.concat([train,val])\n",
    "print(df_total.shape)\n",
    "\n",
    "\n",
    "best_params = train_predict_SVM(df_total, test)"
   ],
   "outputs": [
    {
     "output_type": "stream",
     "name": "stdout",
     "text": [
      "(5394, 1025)\n",
      "Best Score:  0.9831282209853638\n",
      "Best params:  {'C': 0.1, 'degree': 2, 'gamma': 0.001, 'kernel': 'poly'}\n",
      "\n",
      "\n",
      "Acurácia teste:  0.9207161125319693\n",
      "   \n",
      "              precision    recall  f1-score   support\n",
      "\n",
      "           0       0.79      0.93      0.86       100\n",
      "           1       0.97      0.92      0.95       291\n",
      "\n",
      "    accuracy                           0.92       391\n",
      "   macro avg       0.88      0.92      0.90       391\n",
      "weighted avg       0.93      0.92      0.92       391\n",
      "\n"
     ]
    },
    {
     "output_type": "display_data",
     "data": {
      "text/plain": [
       "<Figure size 720x504 with 2 Axes>"
      ],
      "image/svg+xml": "<?xml version=\"1.0\" encoding=\"utf-8\" standalone=\"no\"?>\n<!DOCTYPE svg PUBLIC \"-//W3C//DTD SVG 1.1//EN\"\n  \"http://www.w3.org/Graphics/SVG/1.1/DTD/svg11.dtd\">\n<svg height=\"411.598125pt\" version=\"1.1\" viewBox=\"0 0 550.491625 411.598125\" width=\"550.491625pt\" xmlns=\"http://www.w3.org/2000/svg\" xmlns:xlink=\"http://www.w3.org/1999/xlink\">\n <metadata>\n  <rdf:RDF xmlns:cc=\"http://creativecommons.org/ns#\" xmlns:dc=\"http://purl.org/dc/elements/1.1/\" xmlns:rdf=\"http://www.w3.org/1999/02/22-rdf-syntax-ns#\">\n   <cc:Work>\n    <dc:type rdf:resource=\"http://purl.org/dc/dcmitype/StillImage\"/>\n    <dc:date>2021-08-25T20:12:48.655322</dc:date>\n    <dc:format>image/svg+xml</dc:format>\n    <dc:creator>\n     <cc:Agent>\n      <dc:title>Matplotlib v3.4.3, https://matplotlib.org/</dc:title>\n     </cc:Agent>\n    </dc:creator>\n   </cc:Work>\n  </rdf:RDF>\n </metadata>\n <defs>\n  <style type=\"text/css\">*{stroke-linecap:butt;stroke-linejoin:round;}</style>\n </defs>\n <g id=\"figure_1\">\n  <g id=\"patch_1\">\n   <path d=\"M 0 411.598125 \nL 550.491625 411.598125 \nL 550.491625 0 \nL 0 0 \nz\n\" style=\"fill:none;\"/>\n  </g>\n  <g id=\"axes_1\">\n   <g id=\"patch_2\">\n    <path d=\"M 23.878125 387.72 \nL 470.278125 387.72 \nL 470.278125 7.2 \nL 23.878125 7.2 \nz\n\" style=\"fill:#ffffff;\"/>\n   </g>\n   <g id=\"QuadMesh_1\">\n    <path clip-path=\"url(#p996d6aec3d)\" d=\"M 23.878125 7.2 \nL 247.078125 7.2 \nL 247.078125 197.46 \nL 23.878125 197.46 \nL 23.878125 7.2 \n\" style=\"fill:#821e5a;\"/>\n    <path clip-path=\"url(#p996d6aec3d)\" d=\"M 247.078125 7.2 \nL 470.278125 7.2 \nL 470.278125 197.46 \nL 247.078125 197.46 \nL 247.078125 7.2 \n\" style=\"fill:#03051a;\"/>\n    <path clip-path=\"url(#p996d6aec3d)\" d=\"M 23.878125 197.46 \nL 247.078125 197.46 \nL 247.078125 387.72 \nL 23.878125 387.72 \nL 23.878125 197.46 \n\" style=\"fill:#180f29;\"/>\n    <path clip-path=\"url(#p996d6aec3d)\" d=\"M 247.078125 197.46 \nL 470.278125 197.46 \nL 470.278125 387.72 \nL 247.078125 387.72 \nL 247.078125 197.46 \n\" style=\"fill:#faebdd;\"/>\n   </g>\n   <g id=\"matplotlib.axis_1\">\n    <g id=\"xtick_1\">\n     <g id=\"line2d_1\">\n      <defs>\n       <path d=\"M 0 0 \nL 0 3.5 \n\" id=\"m6770b8b41e\" style=\"stroke:#000000;stroke-width:0.8;\"/>\n      </defs>\n      <g>\n       <use style=\"stroke:#000000;stroke-width:0.8;\" x=\"135.478125\" xlink:href=\"#m6770b8b41e\" y=\"387.72\"/>\n      </g>\n     </g>\n     <g id=\"text_1\">\n      <!-- 0 -->\n      <g transform=\"translate(132.296875 402.318437)scale(0.1 -0.1)\">\n       <defs>\n        <path d=\"M 2034 4250 \nQ 1547 4250 1301 3770 \nQ 1056 3291 1056 2328 \nQ 1056 1369 1301 889 \nQ 1547 409 2034 409 \nQ 2525 409 2770 889 \nQ 3016 1369 3016 2328 \nQ 3016 3291 2770 3770 \nQ 2525 4250 2034 4250 \nz\nM 2034 4750 \nQ 2819 4750 3233 4129 \nQ 3647 3509 3647 2328 \nQ 3647 1150 3233 529 \nQ 2819 -91 2034 -91 \nQ 1250 -91 836 529 \nQ 422 1150 422 2328 \nQ 422 3509 836 4129 \nQ 1250 4750 2034 4750 \nz\n\" id=\"DejaVuSans-30\" transform=\"scale(0.015625)\"/>\n       </defs>\n       <use xlink:href=\"#DejaVuSans-30\"/>\n      </g>\n     </g>\n    </g>\n    <g id=\"xtick_2\">\n     <g id=\"line2d_2\">\n      <g>\n       <use style=\"stroke:#000000;stroke-width:0.8;\" x=\"358.678125\" xlink:href=\"#m6770b8b41e\" y=\"387.72\"/>\n      </g>\n     </g>\n     <g id=\"text_2\">\n      <!-- 1 -->\n      <g transform=\"translate(355.496875 402.318437)scale(0.1 -0.1)\">\n       <defs>\n        <path d=\"M 794 531 \nL 1825 531 \nL 1825 4091 \nL 703 3866 \nL 703 4441 \nL 1819 4666 \nL 2450 4666 \nL 2450 531 \nL 3481 531 \nL 3481 0 \nL 794 0 \nL 794 531 \nz\n\" id=\"DejaVuSans-31\" transform=\"scale(0.015625)\"/>\n       </defs>\n       <use xlink:href=\"#DejaVuSans-31\"/>\n      </g>\n     </g>\n    </g>\n   </g>\n   <g id=\"matplotlib.axis_2\">\n    <g id=\"ytick_1\">\n     <g id=\"line2d_3\">\n      <defs>\n       <path d=\"M 0 0 \nL -3.5 0 \n\" id=\"mf7bba6af11\" style=\"stroke:#000000;stroke-width:0.8;\"/>\n      </defs>\n      <g>\n       <use style=\"stroke:#000000;stroke-width:0.8;\" x=\"23.878125\" xlink:href=\"#mf7bba6af11\" y=\"102.33\"/>\n      </g>\n     </g>\n     <g id=\"text_3\">\n      <!-- 0 -->\n      <g transform=\"translate(14.798437 105.51125)rotate(-90)scale(0.1 -0.1)\">\n       <use xlink:href=\"#DejaVuSans-30\"/>\n      </g>\n     </g>\n    </g>\n    <g id=\"ytick_2\">\n     <g id=\"line2d_4\">\n      <g>\n       <use style=\"stroke:#000000;stroke-width:0.8;\" x=\"23.878125\" xlink:href=\"#mf7bba6af11\" y=\"292.59\"/>\n      </g>\n     </g>\n     <g id=\"text_4\">\n      <!-- 1 -->\n      <g transform=\"translate(14.798437 295.77125)rotate(-90)scale(0.1 -0.1)\">\n       <use xlink:href=\"#DejaVuSans-31\"/>\n      </g>\n     </g>\n    </g>\n   </g>\n   <g id=\"text_5\">\n    <!-- 93 -->\n    <g style=\"fill:#ffffff;\" transform=\"translate(129.115625 105.089375)scale(0.1 -0.1)\">\n     <defs>\n      <path d=\"M 703 97 \nL 703 672 \nQ 941 559 1184 500 \nQ 1428 441 1663 441 \nQ 2288 441 2617 861 \nQ 2947 1281 2994 2138 \nQ 2813 1869 2534 1725 \nQ 2256 1581 1919 1581 \nQ 1219 1581 811 2004 \nQ 403 2428 403 3163 \nQ 403 3881 828 4315 \nQ 1253 4750 1959 4750 \nQ 2769 4750 3195 4129 \nQ 3622 3509 3622 2328 \nQ 3622 1225 3098 567 \nQ 2575 -91 1691 -91 \nQ 1453 -91 1209 -44 \nQ 966 3 703 97 \nz\nM 1959 2075 \nQ 2384 2075 2632 2365 \nQ 2881 2656 2881 3163 \nQ 2881 3666 2632 3958 \nQ 2384 4250 1959 4250 \nQ 1534 4250 1286 3958 \nQ 1038 3666 1038 3163 \nQ 1038 2656 1286 2365 \nQ 1534 2075 1959 2075 \nz\n\" id=\"DejaVuSans-39\" transform=\"scale(0.015625)\"/>\n      <path d=\"M 2597 2516 \nQ 3050 2419 3304 2112 \nQ 3559 1806 3559 1356 \nQ 3559 666 3084 287 \nQ 2609 -91 1734 -91 \nQ 1441 -91 1130 -33 \nQ 819 25 488 141 \nL 488 750 \nQ 750 597 1062 519 \nQ 1375 441 1716 441 \nQ 2309 441 2620 675 \nQ 2931 909 2931 1356 \nQ 2931 1769 2642 2001 \nQ 2353 2234 1838 2234 \nL 1294 2234 \nL 1294 2753 \nL 1863 2753 \nQ 2328 2753 2575 2939 \nQ 2822 3125 2822 3475 \nQ 2822 3834 2567 4026 \nQ 2313 4219 1838 4219 \nQ 1578 4219 1281 4162 \nQ 984 4106 628 3988 \nL 628 4550 \nQ 988 4650 1302 4700 \nQ 1616 4750 1894 4750 \nQ 2613 4750 3031 4423 \nQ 3450 4097 3450 3541 \nQ 3450 3153 3228 2886 \nQ 3006 2619 2597 2516 \nz\n\" id=\"DejaVuSans-33\" transform=\"scale(0.015625)\"/>\n     </defs>\n     <use xlink:href=\"#DejaVuSans-39\"/>\n     <use x=\"63.623047\" xlink:href=\"#DejaVuSans-33\"/>\n    </g>\n   </g>\n   <g id=\"text_6\">\n    <!-- 7 -->\n    <g style=\"fill:#ffffff;\" transform=\"translate(355.496875 105.089375)scale(0.1 -0.1)\">\n     <defs>\n      <path d=\"M 525 4666 \nL 3525 4666 \nL 3525 4397 \nL 1831 0 \nL 1172 0 \nL 2766 4134 \nL 525 4134 \nL 525 4666 \nz\n\" id=\"DejaVuSans-37\" transform=\"scale(0.015625)\"/>\n     </defs>\n     <use xlink:href=\"#DejaVuSans-37\"/>\n    </g>\n   </g>\n   <g id=\"text_7\">\n    <!-- 24 -->\n    <g style=\"fill:#ffffff;\" transform=\"translate(129.115625 295.349375)scale(0.1 -0.1)\">\n     <defs>\n      <path d=\"M 1228 531 \nL 3431 531 \nL 3431 0 \nL 469 0 \nL 469 531 \nQ 828 903 1448 1529 \nQ 2069 2156 2228 2338 \nQ 2531 2678 2651 2914 \nQ 2772 3150 2772 3378 \nQ 2772 3750 2511 3984 \nQ 2250 4219 1831 4219 \nQ 1534 4219 1204 4116 \nQ 875 4013 500 3803 \nL 500 4441 \nQ 881 4594 1212 4672 \nQ 1544 4750 1819 4750 \nQ 2544 4750 2975 4387 \nQ 3406 4025 3406 3419 \nQ 3406 3131 3298 2873 \nQ 3191 2616 2906 2266 \nQ 2828 2175 2409 1742 \nQ 1991 1309 1228 531 \nz\n\" id=\"DejaVuSans-32\" transform=\"scale(0.015625)\"/>\n      <path d=\"M 2419 4116 \nL 825 1625 \nL 2419 1625 \nL 2419 4116 \nz\nM 2253 4666 \nL 3047 4666 \nL 3047 1625 \nL 3713 1625 \nL 3713 1100 \nL 3047 1100 \nL 3047 0 \nL 2419 0 \nL 2419 1100 \nL 313 1100 \nL 313 1709 \nL 2253 4666 \nz\n\" id=\"DejaVuSans-34\" transform=\"scale(0.015625)\"/>\n     </defs>\n     <use xlink:href=\"#DejaVuSans-32\"/>\n     <use x=\"63.623047\" xlink:href=\"#DejaVuSans-34\"/>\n    </g>\n   </g>\n   <g id=\"text_8\">\n    <!-- 267 -->\n    <g style=\"fill:#262626;\" transform=\"translate(349.134375 295.349375)scale(0.1 -0.1)\">\n     <defs>\n      <path d=\"M 2113 2584 \nQ 1688 2584 1439 2293 \nQ 1191 2003 1191 1497 \nQ 1191 994 1439 701 \nQ 1688 409 2113 409 \nQ 2538 409 2786 701 \nQ 3034 994 3034 1497 \nQ 3034 2003 2786 2293 \nQ 2538 2584 2113 2584 \nz\nM 3366 4563 \nL 3366 3988 \nQ 3128 4100 2886 4159 \nQ 2644 4219 2406 4219 \nQ 1781 4219 1451 3797 \nQ 1122 3375 1075 2522 \nQ 1259 2794 1537 2939 \nQ 1816 3084 2150 3084 \nQ 2853 3084 3261 2657 \nQ 3669 2231 3669 1497 \nQ 3669 778 3244 343 \nQ 2819 -91 2113 -91 \nQ 1303 -91 875 529 \nQ 447 1150 447 2328 \nQ 447 3434 972 4092 \nQ 1497 4750 2381 4750 \nQ 2619 4750 2861 4703 \nQ 3103 4656 3366 4563 \nz\n\" id=\"DejaVuSans-36\" transform=\"scale(0.015625)\"/>\n     </defs>\n     <use xlink:href=\"#DejaVuSans-32\"/>\n     <use x=\"63.623047\" xlink:href=\"#DejaVuSans-36\"/>\n     <use x=\"127.246094\" xlink:href=\"#DejaVuSans-37\"/>\n    </g>\n   </g>\n  </g>\n  <g id=\"axes_2\">\n   <g id=\"patch_3\">\n    <path d=\"M 498.178125 387.72 \nL 517.204125 387.72 \nL 517.204125 7.2 \nL 498.178125 7.2 \nz\n\" style=\"fill:#ffffff;\"/>\n   </g>\n   <g id=\"patch_4\">\n    <path clip-path=\"url(#p95341dc100)\" d=\"M 498.178125 387.72 \nL 498.178125 386.233594 \nL 498.178125 8.686406 \nL 498.178125 7.2 \nL 517.204125 7.2 \nL 517.204125 8.686406 \nL 517.204125 386.233594 \nL 517.204125 387.72 \nL 517.204125 387.72 \nz\n\" style=\"fill:#ffffff;stroke:#ffffff;stroke-linejoin:miter;stroke-width:0.01;\"/>\n   </g>\n   <image height=\"380\" id=\"imagec866adc861\" transform=\"scale(1 -1)translate(0 -380)\" width=\"19\" x=\"498\" xlink:href=\"data:image/png;base64,\niVBORw0KGgoAAAANSUhEUgAAABMAAAF8CAYAAAAthYD3AAAB9UlEQVR4nO2d0Q3CUAwD80pZgv33LDOkuo+T7Axgcc9OXhAFzuf7ewaq+1BKM3OBWnOfw702VAzGnAjMC3UTPDMzptfNhnYtJsbMcBOdtGQ0xPcmGY1i7us+h9OLuTeLuRYTz7NirsXM86yYazEtZsjmiGKKQ0uKddKuSzyCxJism1zVzX2luBlzb4JiIVuQN7Qp9yYp5t2CtL2Z0wFcieeZ9wPmju29mBkTFPPeTvDY5qq9ua+Y0GLPKyW5yZW4N80jiBQDO6Ch3VfdfCEW4ubRusmGFhQTrwcpHWA9M7oDOE7x2E55V/eQbmJS8kuYOzP1CNJiWsXo0Ib0JoqpDS04g1J684BvBGg3wdCK1wMUM8RN0E76iSVy0mrdJA2ICS24OprdBDFzooFpmedZO2BdMCbbm5iWGjOlNzGtuvmi7klxUyoGu1nMtVgMpvWJpWK+EbNikgagZ0a7ST6YpXUTxRSHlvzGX8iZzQX+WooXE55nVswhf/tGjMmObe7FiTHJaJgx6+a2xJjtzXWZMb1uspujFjNj2YO3IKub7E4rHkERbqaMoIzeZEMbEg32zIq5rGLuK+d2KuZarJjboj8P+HBiXsxO2hdiYkwytGLMCDdTRlDGhQJjctFQY1rdRP8oxIupDa14bKO3E5kzMabZTS60f+8bLrfzm19DAAAAAElFTkSuQmCC\" y=\"-7\"/>\n   <g id=\"matplotlib.axis_3\"/>\n   <g id=\"matplotlib.axis_4\">\n    <g id=\"ytick_3\">\n     <g id=\"line2d_5\">\n      <defs>\n       <path d=\"M 0 0 \nL 3.5 0 \n\" id=\"md7f337f38d\" style=\"stroke:#000000;stroke-width:0.8;\"/>\n      </defs>\n      <g>\n       <use style=\"stroke:#000000;stroke-width:0.8;\" x=\"517.204125\" xlink:href=\"#md7f337f38d\" y=\"324.787846\"/>\n      </g>\n     </g>\n     <g id=\"text_9\">\n      <!-- 50 -->\n      <g transform=\"translate(524.204125 328.587065)scale(0.1 -0.1)\">\n       <defs>\n        <path d=\"M 691 4666 \nL 3169 4666 \nL 3169 4134 \nL 1269 4134 \nL 1269 2991 \nQ 1406 3038 1543 3061 \nQ 1681 3084 1819 3084 \nQ 2600 3084 3056 2656 \nQ 3513 2228 3513 1497 \nQ 3513 744 3044 326 \nQ 2575 -91 1722 -91 \nQ 1428 -91 1123 -41 \nQ 819 9 494 109 \nL 494 744 \nQ 775 591 1075 516 \nQ 1375 441 1709 441 \nQ 2250 441 2565 725 \nQ 2881 1009 2881 1497 \nQ 2881 1984 2565 2268 \nQ 2250 2553 1709 2553 \nQ 1456 2553 1204 2497 \nQ 953 2441 691 2322 \nL 691 4666 \nz\n\" id=\"DejaVuSans-35\" transform=\"scale(0.015625)\"/>\n       </defs>\n       <use xlink:href=\"#DejaVuSans-35\"/>\n       <use x=\"63.623047\" xlink:href=\"#DejaVuSans-30\"/>\n      </g>\n     </g>\n    </g>\n    <g id=\"ytick_4\">\n     <g id=\"line2d_6\">\n      <g>\n       <use style=\"stroke:#000000;stroke-width:0.8;\" x=\"517.204125\" xlink:href=\"#md7f337f38d\" y=\"251.610923\"/>\n      </g>\n     </g>\n     <g id=\"text_10\">\n      <!-- 100 -->\n      <g transform=\"translate(524.204125 255.410142)scale(0.1 -0.1)\">\n       <use xlink:href=\"#DejaVuSans-31\"/>\n       <use x=\"63.623047\" xlink:href=\"#DejaVuSans-30\"/>\n       <use x=\"127.246094\" xlink:href=\"#DejaVuSans-30\"/>\n      </g>\n     </g>\n    </g>\n    <g id=\"ytick_5\">\n     <g id=\"line2d_7\">\n      <g>\n       <use style=\"stroke:#000000;stroke-width:0.8;\" x=\"517.204125\" xlink:href=\"#md7f337f38d\" y=\"178.434\"/>\n      </g>\n     </g>\n     <g id=\"text_11\">\n      <!-- 150 -->\n      <g transform=\"translate(524.204125 182.233219)scale(0.1 -0.1)\">\n       <use xlink:href=\"#DejaVuSans-31\"/>\n       <use x=\"63.623047\" xlink:href=\"#DejaVuSans-35\"/>\n       <use x=\"127.246094\" xlink:href=\"#DejaVuSans-30\"/>\n      </g>\n     </g>\n    </g>\n    <g id=\"ytick_6\">\n     <g id=\"line2d_8\">\n      <g>\n       <use style=\"stroke:#000000;stroke-width:0.8;\" x=\"517.204125\" xlink:href=\"#md7f337f38d\" y=\"105.257077\"/>\n      </g>\n     </g>\n     <g id=\"text_12\">\n      <!-- 200 -->\n      <g transform=\"translate(524.204125 109.056296)scale(0.1 -0.1)\">\n       <use xlink:href=\"#DejaVuSans-32\"/>\n       <use x=\"63.623047\" xlink:href=\"#DejaVuSans-30\"/>\n       <use x=\"127.246094\" xlink:href=\"#DejaVuSans-30\"/>\n      </g>\n     </g>\n    </g>\n    <g id=\"ytick_7\">\n     <g id=\"line2d_9\">\n      <g>\n       <use style=\"stroke:#000000;stroke-width:0.8;\" x=\"517.204125\" xlink:href=\"#md7f337f38d\" y=\"32.080154\"/>\n      </g>\n     </g>\n     <g id=\"text_13\">\n      <!-- 250 -->\n      <g transform=\"translate(524.204125 35.879373)scale(0.1 -0.1)\">\n       <use xlink:href=\"#DejaVuSans-32\"/>\n       <use x=\"63.623047\" xlink:href=\"#DejaVuSans-35\"/>\n       <use x=\"127.246094\" xlink:href=\"#DejaVuSans-30\"/>\n      </g>\n     </g>\n    </g>\n   </g>\n   <g id=\"LineCollection_1\"/>\n   <g id=\"patch_5\">\n    <path d=\"M 498.178125 387.72 \nL 498.178125 386.233594 \nL 498.178125 8.686406 \nL 498.178125 7.2 \nL 517.204125 7.2 \nL 517.204125 8.686406 \nL 517.204125 386.233594 \nL 517.204125 387.72 \nz\n\" style=\"fill:none;\"/>\n   </g>\n  </g>\n </g>\n <defs>\n  <clipPath id=\"p996d6aec3d\">\n   <rect height=\"380.52\" width=\"446.4\" x=\"23.878125\" y=\"7.2\"/>\n  </clipPath>\n  <clipPath id=\"p95341dc100\">\n   <rect height=\"380.52\" width=\"19.026\" x=\"498.178125\" y=\"7.2\"/>\n  </clipPath>\n </defs>\n</svg>\n",
      "image/png": "[encoded data removed]"
     },
     "metadata": {
      "needs_background": "light"
     }
    }
   ],
   "metadata": {}
  },
  {
   "cell_type": "code",
   "execution_count": 10,
   "source": [
    "test = pd.read_csv(\"output/output_densenet_test_retrained.csv\", header=None)\n",
    "train = pd.read_csv(\"output/output_densenet_train_retrained.csv\", header=None)\n",
    "val = pd.read_csv(\"output/output_densenet_val_retrained.csv\", header=None)\n",
    "\n",
    "df_total = pd.concat([train,val])\n",
    "\n",
    "results = treina_melhor_modelo(df_total, test, best_params, \"densenet\")"
   ],
   "outputs": [],
   "metadata": {}
  },
  {
   "cell_type": "markdown",
   "source": [
    "### Densenet Augmentation\n"
   ],
   "metadata": {}
  },
  {
   "cell_type": "code",
   "execution_count": 11,
   "source": [
    "test = pd.read_csv(\"output/output_densenet_gauss_test_retrained.csv\", header=None)\n",
    "train = pd.read_csv(\"output/output_densenet_gauss_train_retrained.csv\", header=None)\n",
    "val = pd.read_csv(\"output/output_densenet_gauss_val_retrained.csv\", header=None)\n",
    "\n",
    "df_total = pd.concat([train,val])\n",
    "print(df_total.shape)\n",
    "\n",
    "\n",
    "best_params = train_predict_SVM(df_total, test)\n"
   ],
   "outputs": [
    {
     "output_type": "stream",
     "name": "stdout",
     "text": [
      "(10788, 1025)\n",
      "Best Score:  0.9735816679018056\n",
      "Best params:  {'C': 0.01, 'degree': 1, 'gamma': 0.001, 'kernel': 'linear'}\n",
      "\n",
      "\n",
      "Acurácia teste:  0.907928388746803\n",
      "   \n",
      "              precision    recall  f1-score   support\n",
      "\n",
      "           0       0.74      0.98      0.84       100\n",
      "           1       0.99      0.88      0.93       291\n",
      "\n",
      "    accuracy                           0.91       391\n",
      "   macro avg       0.87      0.93      0.89       391\n",
      "weighted avg       0.93      0.91      0.91       391\n",
      "\n"
     ]
    },
    {
     "output_type": "display_data",
     "data": {
      "text/plain": [
       "<Figure size 720x504 with 2 Axes>"
      ],
      "image/svg+xml": "<?xml version=\"1.0\" encoding=\"utf-8\" standalone=\"no\"?>\n<!DOCTYPE svg PUBLIC \"-//W3C//DTD SVG 1.1//EN\"\n  \"http://www.w3.org/Graphics/SVG/1.1/DTD/svg11.dtd\">\n<svg height=\"411.598125pt\" version=\"1.1\" viewBox=\"0 0 550.491625 411.598125\" width=\"550.491625pt\" xmlns=\"http://www.w3.org/2000/svg\" xmlns:xlink=\"http://www.w3.org/1999/xlink\">\n <metadata>\n  <rdf:RDF xmlns:cc=\"http://creativecommons.org/ns#\" xmlns:dc=\"http://purl.org/dc/elements/1.1/\" xmlns:rdf=\"http://www.w3.org/1999/02/22-rdf-syntax-ns#\">\n   <cc:Work>\n    <dc:type rdf:resource=\"http://purl.org/dc/dcmitype/StillImage\"/>\n    <dc:date>2021-08-25T21:27:44.259812</dc:date>\n    <dc:format>image/svg+xml</dc:format>\n    <dc:creator>\n     <cc:Agent>\n      <dc:title>Matplotlib v3.4.3, https://matplotlib.org/</dc:title>\n     </cc:Agent>\n    </dc:creator>\n   </cc:Work>\n  </rdf:RDF>\n </metadata>\n <defs>\n  <style type=\"text/css\">*{stroke-linecap:butt;stroke-linejoin:round;}</style>\n </defs>\n <g id=\"figure_1\">\n  <g id=\"patch_1\">\n   <path d=\"M 0 411.598125 \nL 550.491625 411.598125 \nL 550.491625 0 \nL 0 0 \nz\n\" style=\"fill:none;\"/>\n  </g>\n  <g id=\"axes_1\">\n   <g id=\"patch_2\">\n    <path d=\"M 23.878125 387.72 \nL 470.278125 387.72 \nL 470.278125 7.2 \nL 23.878125 7.2 \nz\n\" style=\"fill:#ffffff;\"/>\n   </g>\n   <g id=\"QuadMesh_1\">\n    <path clip-path=\"url(#p956f264032)\" d=\"M 23.878125 7.2 \nL 247.078125 7.2 \nL 247.078125 197.46 \nL 23.878125 197.46 \nL 23.878125 7.2 \n\" style=\"fill:#971c5b;\"/>\n    <path clip-path=\"url(#p956f264032)\" d=\"M 247.078125 7.2 \nL 470.278125 7.2 \nL 470.278125 197.46 \nL 247.078125 197.46 \nL 247.078125 7.2 \n\" style=\"fill:#03051a;\"/>\n    <path clip-path=\"url(#p956f264032)\" d=\"M 23.878125 197.46 \nL 247.078125 197.46 \nL 247.078125 387.72 \nL 23.878125 387.72 \nL 23.878125 197.46 \n\" style=\"fill:#30173a;\"/>\n    <path clip-path=\"url(#p956f264032)\" d=\"M 247.078125 197.46 \nL 470.278125 197.46 \nL 470.278125 387.72 \nL 247.078125 387.72 \nL 247.078125 197.46 \n\" style=\"fill:#faebdd;\"/>\n   </g>\n   <g id=\"matplotlib.axis_1\">\n    <g id=\"xtick_1\">\n     <g id=\"line2d_1\">\n      <defs>\n       <path d=\"M 0 0 \nL 0 3.5 \n\" id=\"m8fe50c5aa0\" style=\"stroke:#000000;stroke-width:0.8;\"/>\n      </defs>\n      <g>\n       <use style=\"stroke:#000000;stroke-width:0.8;\" x=\"135.478125\" xlink:href=\"#m8fe50c5aa0\" y=\"387.72\"/>\n      </g>\n     </g>\n     <g id=\"text_1\">\n      <!-- 0 -->\n      <g transform=\"translate(132.296875 402.318437)scale(0.1 -0.1)\">\n       <defs>\n        <path d=\"M 2034 4250 \nQ 1547 4250 1301 3770 \nQ 1056 3291 1056 2328 \nQ 1056 1369 1301 889 \nQ 1547 409 2034 409 \nQ 2525 409 2770 889 \nQ 3016 1369 3016 2328 \nQ 3016 3291 2770 3770 \nQ 2525 4250 2034 4250 \nz\nM 2034 4750 \nQ 2819 4750 3233 4129 \nQ 3647 3509 3647 2328 \nQ 3647 1150 3233 529 \nQ 2819 -91 2034 -91 \nQ 1250 -91 836 529 \nQ 422 1150 422 2328 \nQ 422 3509 836 4129 \nQ 1250 4750 2034 4750 \nz\n\" id=\"DejaVuSans-30\" transform=\"scale(0.015625)\"/>\n       </defs>\n       <use xlink:href=\"#DejaVuSans-30\"/>\n      </g>\n     </g>\n    </g>\n    <g id=\"xtick_2\">\n     <g id=\"line2d_2\">\n      <g>\n       <use style=\"stroke:#000000;stroke-width:0.8;\" x=\"358.678125\" xlink:href=\"#m8fe50c5aa0\" y=\"387.72\"/>\n      </g>\n     </g>\n     <g id=\"text_2\">\n      <!-- 1 -->\n      <g transform=\"translate(355.496875 402.318437)scale(0.1 -0.1)\">\n       <defs>\n        <path d=\"M 794 531 \nL 1825 531 \nL 1825 4091 \nL 703 3866 \nL 703 4441 \nL 1819 4666 \nL 2450 4666 \nL 2450 531 \nL 3481 531 \nL 3481 0 \nL 794 0 \nL 794 531 \nz\n\" id=\"DejaVuSans-31\" transform=\"scale(0.015625)\"/>\n       </defs>\n       <use xlink:href=\"#DejaVuSans-31\"/>\n      </g>\n     </g>\n    </g>\n   </g>\n   <g id=\"matplotlib.axis_2\">\n    <g id=\"ytick_1\">\n     <g id=\"line2d_3\">\n      <defs>\n       <path d=\"M 0 0 \nL -3.5 0 \n\" id=\"m428b5a7389\" style=\"stroke:#000000;stroke-width:0.8;\"/>\n      </defs>\n      <g>\n       <use style=\"stroke:#000000;stroke-width:0.8;\" x=\"23.878125\" xlink:href=\"#m428b5a7389\" y=\"102.33\"/>\n      </g>\n     </g>\n     <g id=\"text_3\">\n      <!-- 0 -->\n      <g transform=\"translate(14.798437 105.51125)rotate(-90)scale(0.1 -0.1)\">\n       <use xlink:href=\"#DejaVuSans-30\"/>\n      </g>\n     </g>\n    </g>\n    <g id=\"ytick_2\">\n     <g id=\"line2d_4\">\n      <g>\n       <use style=\"stroke:#000000;stroke-width:0.8;\" x=\"23.878125\" xlink:href=\"#m428b5a7389\" y=\"292.59\"/>\n      </g>\n     </g>\n     <g id=\"text_4\">\n      <!-- 1 -->\n      <g transform=\"translate(14.798437 295.77125)rotate(-90)scale(0.1 -0.1)\">\n       <use xlink:href=\"#DejaVuSans-31\"/>\n      </g>\n     </g>\n    </g>\n   </g>\n   <g id=\"text_5\">\n    <!-- 98 -->\n    <g style=\"fill:#ffffff;\" transform=\"translate(129.115625 105.089375)scale(0.1 -0.1)\">\n     <defs>\n      <path d=\"M 703 97 \nL 703 672 \nQ 941 559 1184 500 \nQ 1428 441 1663 441 \nQ 2288 441 2617 861 \nQ 2947 1281 2994 2138 \nQ 2813 1869 2534 1725 \nQ 2256 1581 1919 1581 \nQ 1219 1581 811 2004 \nQ 403 2428 403 3163 \nQ 403 3881 828 4315 \nQ 1253 4750 1959 4750 \nQ 2769 4750 3195 4129 \nQ 3622 3509 3622 2328 \nQ 3622 1225 3098 567 \nQ 2575 -91 1691 -91 \nQ 1453 -91 1209 -44 \nQ 966 3 703 97 \nz\nM 1959 2075 \nQ 2384 2075 2632 2365 \nQ 2881 2656 2881 3163 \nQ 2881 3666 2632 3958 \nQ 2384 4250 1959 4250 \nQ 1534 4250 1286 3958 \nQ 1038 3666 1038 3163 \nQ 1038 2656 1286 2365 \nQ 1534 2075 1959 2075 \nz\n\" id=\"DejaVuSans-39\" transform=\"scale(0.015625)\"/>\n      <path d=\"M 2034 2216 \nQ 1584 2216 1326 1975 \nQ 1069 1734 1069 1313 \nQ 1069 891 1326 650 \nQ 1584 409 2034 409 \nQ 2484 409 2743 651 \nQ 3003 894 3003 1313 \nQ 3003 1734 2745 1975 \nQ 2488 2216 2034 2216 \nz\nM 1403 2484 \nQ 997 2584 770 2862 \nQ 544 3141 544 3541 \nQ 544 4100 942 4425 \nQ 1341 4750 2034 4750 \nQ 2731 4750 3128 4425 \nQ 3525 4100 3525 3541 \nQ 3525 3141 3298 2862 \nQ 3072 2584 2669 2484 \nQ 3125 2378 3379 2068 \nQ 3634 1759 3634 1313 \nQ 3634 634 3220 271 \nQ 2806 -91 2034 -91 \nQ 1263 -91 848 271 \nQ 434 634 434 1313 \nQ 434 1759 690 2068 \nQ 947 2378 1403 2484 \nz\nM 1172 3481 \nQ 1172 3119 1398 2916 \nQ 1625 2713 2034 2713 \nQ 2441 2713 2670 2916 \nQ 2900 3119 2900 3481 \nQ 2900 3844 2670 4047 \nQ 2441 4250 2034 4250 \nQ 1625 4250 1398 4047 \nQ 1172 3844 1172 3481 \nz\n\" id=\"DejaVuSans-38\" transform=\"scale(0.015625)\"/>\n     </defs>\n     <use xlink:href=\"#DejaVuSans-39\"/>\n     <use x=\"63.623047\" xlink:href=\"#DejaVuSans-38\"/>\n    </g>\n   </g>\n   <g id=\"text_6\">\n    <!-- 2 -->\n    <g style=\"fill:#ffffff;\" transform=\"translate(355.496875 105.089375)scale(0.1 -0.1)\">\n     <defs>\n      <path d=\"M 1228 531 \nL 3431 531 \nL 3431 0 \nL 469 0 \nL 469 531 \nQ 828 903 1448 1529 \nQ 2069 2156 2228 2338 \nQ 2531 2678 2651 2914 \nQ 2772 3150 2772 3378 \nQ 2772 3750 2511 3984 \nQ 2250 4219 1831 4219 \nQ 1534 4219 1204 4116 \nQ 875 4013 500 3803 \nL 500 4441 \nQ 881 4594 1212 4672 \nQ 1544 4750 1819 4750 \nQ 2544 4750 2975 4387 \nQ 3406 4025 3406 3419 \nQ 3406 3131 3298 2873 \nQ 3191 2616 2906 2266 \nQ 2828 2175 2409 1742 \nQ 1991 1309 1228 531 \nz\n\" id=\"DejaVuSans-32\" transform=\"scale(0.015625)\"/>\n     </defs>\n     <use xlink:href=\"#DejaVuSans-32\"/>\n    </g>\n   </g>\n   <g id=\"text_7\">\n    <!-- 34 -->\n    <g style=\"fill:#ffffff;\" transform=\"translate(129.115625 295.349375)scale(0.1 -0.1)\">\n     <defs>\n      <path d=\"M 2597 2516 \nQ 3050 2419 3304 2112 \nQ 3559 1806 3559 1356 \nQ 3559 666 3084 287 \nQ 2609 -91 1734 -91 \nQ 1441 -91 1130 -33 \nQ 819 25 488 141 \nL 488 750 \nQ 750 597 1062 519 \nQ 1375 441 1716 441 \nQ 2309 441 2620 675 \nQ 2931 909 2931 1356 \nQ 2931 1769 2642 2001 \nQ 2353 2234 1838 2234 \nL 1294 2234 \nL 1294 2753 \nL 1863 2753 \nQ 2328 2753 2575 2939 \nQ 2822 3125 2822 3475 \nQ 2822 3834 2567 4026 \nQ 2313 4219 1838 4219 \nQ 1578 4219 1281 4162 \nQ 984 4106 628 3988 \nL 628 4550 \nQ 988 4650 1302 4700 \nQ 1616 4750 1894 4750 \nQ 2613 4750 3031 4423 \nQ 3450 4097 3450 3541 \nQ 3450 3153 3228 2886 \nQ 3006 2619 2597 2516 \nz\n\" id=\"DejaVuSans-33\" transform=\"scale(0.015625)\"/>\n      <path d=\"M 2419 4116 \nL 825 1625 \nL 2419 1625 \nL 2419 4116 \nz\nM 2253 4666 \nL 3047 4666 \nL 3047 1625 \nL 3713 1625 \nL 3713 1100 \nL 3047 1100 \nL 3047 0 \nL 2419 0 \nL 2419 1100 \nL 313 1100 \nL 313 1709 \nL 2253 4666 \nz\n\" id=\"DejaVuSans-34\" transform=\"scale(0.015625)\"/>\n     </defs>\n     <use xlink:href=\"#DejaVuSans-33\"/>\n     <use x=\"63.623047\" xlink:href=\"#DejaVuSans-34\"/>\n    </g>\n   </g>\n   <g id=\"text_8\">\n    <!-- 257 -->\n    <g style=\"fill:#262626;\" transform=\"translate(349.134375 295.349375)scale(0.1 -0.1)\">\n     <defs>\n      <path d=\"M 691 4666 \nL 3169 4666 \nL 3169 4134 \nL 1269 4134 \nL 1269 2991 \nQ 1406 3038 1543 3061 \nQ 1681 3084 1819 3084 \nQ 2600 3084 3056 2656 \nQ 3513 2228 3513 1497 \nQ 3513 744 3044 326 \nQ 2575 -91 1722 -91 \nQ 1428 -91 1123 -41 \nQ 819 9 494 109 \nL 494 744 \nQ 775 591 1075 516 \nQ 1375 441 1709 441 \nQ 2250 441 2565 725 \nQ 2881 1009 2881 1497 \nQ 2881 1984 2565 2268 \nQ 2250 2553 1709 2553 \nQ 1456 2553 1204 2497 \nQ 953 2441 691 2322 \nL 691 4666 \nz\n\" id=\"DejaVuSans-35\" transform=\"scale(0.015625)\"/>\n      <path d=\"M 525 4666 \nL 3525 4666 \nL 3525 4397 \nL 1831 0 \nL 1172 0 \nL 2766 4134 \nL 525 4134 \nL 525 4666 \nz\n\" id=\"DejaVuSans-37\" transform=\"scale(0.015625)\"/>\n     </defs>\n     <use xlink:href=\"#DejaVuSans-32\"/>\n     <use x=\"63.623047\" xlink:href=\"#DejaVuSans-35\"/>\n     <use x=\"127.246094\" xlink:href=\"#DejaVuSans-37\"/>\n    </g>\n   </g>\n  </g>\n  <g id=\"axes_2\">\n   <g id=\"patch_3\">\n    <path d=\"M 498.178125 387.72 \nL 517.204125 387.72 \nL 517.204125 7.2 \nL 498.178125 7.2 \nz\n\" style=\"fill:#ffffff;\"/>\n   </g>\n   <g id=\"patch_4\">\n    <path clip-path=\"url(#pee887614f9)\" d=\"M 498.178125 387.72 \nL 498.178125 386.233594 \nL 498.178125 8.686406 \nL 498.178125 7.2 \nL 517.204125 7.2 \nL 517.204125 8.686406 \nL 517.204125 386.233594 \nL 517.204125 387.72 \nL 517.204125 387.72 \nz\n\" style=\"fill:#ffffff;stroke:#ffffff;stroke-linejoin:miter;stroke-width:0.01;\"/>\n   </g>\n   <image height=\"380\" id=\"image7730289bbe\" transform=\"scale(1 -1)translate(0 -380)\" width=\"19\" x=\"498\" xlink:href=\"data:image/png;base64,\niVBORw0KGgoAAAANSUhEUgAAABMAAAF8CAYAAAAthYD3AAAB9UlEQVR4nO2d0Q3CUAwD80pZgv33LDOkuo+T7Axgcc9OXhAFzuf7ewaq+1BKM3OBWnOfw702VAzGnAjMC3UTPDMzptfNhnYtJsbMcBOdtGQ0xPcmGY1i7us+h9OLuTeLuRYTz7NirsXM86yYazEtZsjmiGKKQ0uKddKuSzyCxJism1zVzX2luBlzb4JiIVuQN7Qp9yYp5t2CtL2Z0wFcieeZ9wPmju29mBkTFPPeTvDY5qq9ua+Y0GLPKyW5yZW4N80jiBQDO6Ch3VfdfCEW4ubRusmGFhQTrwcpHWA9M7oDOE7x2E55V/eQbmJS8kuYOzP1CNJiWsXo0Ib0JoqpDS04g1J684BvBGg3wdCK1wMUM8RN0E76iSVy0mrdJA2ICS24OprdBDFzooFpmedZO2BdMCbbm5iWGjOlNzGtuvmi7klxUyoGu1nMtVgMpvWJpWK+EbNikgagZ0a7ST6YpXUTxRSHlvzGX8iZzQX+WooXE55nVswhf/tGjMmObe7FiTHJaJgx6+a2xJjtzXWZMb1uspujFjNj2YO3IKub7E4rHkERbqaMoIzeZEMbEg32zIq5rGLuK+d2KuZarJjboj8P+HBiXsxO2hdiYkwytGLMCDdTRlDGhQJjctFQY1rdRP8oxIupDa14bKO3E5kzMabZTS60f+8bLrfzm19DAAAAAElFTkSuQmCC\" y=\"-7\"/>\n   <g id=\"matplotlib.axis_3\"/>\n   <g id=\"matplotlib.axis_4\">\n    <g id=\"ytick_3\">\n     <g id=\"line2d_5\">\n      <defs>\n       <path d=\"M 0 0 \nL 3.5 0 \n\" id=\"m040e270517\" style=\"stroke:#000000;stroke-width:0.8;\"/>\n      </defs>\n      <g>\n       <use style=\"stroke:#000000;stroke-width:0.8;\" x=\"517.204125\" xlink:href=\"#m040e270517\" y=\"316.092706\"/>\n      </g>\n     </g>\n     <g id=\"text_9\">\n      <!-- 50 -->\n      <g transform=\"translate(524.204125 319.891925)scale(0.1 -0.1)\">\n       <use xlink:href=\"#DejaVuSans-35\"/>\n       <use x=\"63.623047\" xlink:href=\"#DejaVuSans-30\"/>\n      </g>\n     </g>\n    </g>\n    <g id=\"ytick_4\">\n     <g id=\"line2d_6\">\n      <g>\n       <use style=\"stroke:#000000;stroke-width:0.8;\" x=\"517.204125\" xlink:href=\"#m040e270517\" y=\"241.480941\"/>\n      </g>\n     </g>\n     <g id=\"text_10\">\n      <!-- 100 -->\n      <g transform=\"translate(524.204125 245.28016)scale(0.1 -0.1)\">\n       <use xlink:href=\"#DejaVuSans-31\"/>\n       <use x=\"63.623047\" xlink:href=\"#DejaVuSans-30\"/>\n       <use x=\"127.246094\" xlink:href=\"#DejaVuSans-30\"/>\n      </g>\n     </g>\n    </g>\n    <g id=\"ytick_5\">\n     <g id=\"line2d_7\">\n      <g>\n       <use style=\"stroke:#000000;stroke-width:0.8;\" x=\"517.204125\" xlink:href=\"#m040e270517\" y=\"166.869176\"/>\n      </g>\n     </g>\n     <g id=\"text_11\">\n      <!-- 150 -->\n      <g transform=\"translate(524.204125 170.668395)scale(0.1 -0.1)\">\n       <use xlink:href=\"#DejaVuSans-31\"/>\n       <use x=\"63.623047\" xlink:href=\"#DejaVuSans-35\"/>\n       <use x=\"127.246094\" xlink:href=\"#DejaVuSans-30\"/>\n      </g>\n     </g>\n    </g>\n    <g id=\"ytick_6\">\n     <g id=\"line2d_8\">\n      <g>\n       <use style=\"stroke:#000000;stroke-width:0.8;\" x=\"517.204125\" xlink:href=\"#m040e270517\" y=\"92.257412\"/>\n      </g>\n     </g>\n     <g id=\"text_12\">\n      <!-- 200 -->\n      <g transform=\"translate(524.204125 96.056631)scale(0.1 -0.1)\">\n       <use xlink:href=\"#DejaVuSans-32\"/>\n       <use x=\"63.623047\" xlink:href=\"#DejaVuSans-30\"/>\n       <use x=\"127.246094\" xlink:href=\"#DejaVuSans-30\"/>\n      </g>\n     </g>\n    </g>\n    <g id=\"ytick_7\">\n     <g id=\"line2d_9\">\n      <g>\n       <use style=\"stroke:#000000;stroke-width:0.8;\" x=\"517.204125\" xlink:href=\"#m040e270517\" y=\"17.645647\"/>\n      </g>\n     </g>\n     <g id=\"text_13\">\n      <!-- 250 -->\n      <g transform=\"translate(524.204125 21.444866)scale(0.1 -0.1)\">\n       <use xlink:href=\"#DejaVuSans-32\"/>\n       <use x=\"63.623047\" xlink:href=\"#DejaVuSans-35\"/>\n       <use x=\"127.246094\" xlink:href=\"#DejaVuSans-30\"/>\n      </g>\n     </g>\n    </g>\n   </g>\n   <g id=\"LineCollection_1\"/>\n   <g id=\"patch_5\">\n    <path d=\"M 498.178125 387.72 \nL 498.178125 386.233594 \nL 498.178125 8.686406 \nL 498.178125 7.2 \nL 517.204125 7.2 \nL 517.204125 8.686406 \nL 517.204125 386.233594 \nL 517.204125 387.72 \nz\n\" style=\"fill:none;\"/>\n   </g>\n  </g>\n </g>\n <defs>\n  <clipPath id=\"p956f264032\">\n   <rect height=\"380.52\" width=\"446.4\" x=\"23.878125\" y=\"7.2\"/>\n  </clipPath>\n  <clipPath id=\"pee887614f9\">\n   <rect height=\"380.52\" width=\"19.026\" x=\"498.178125\" y=\"7.2\"/>\n  </clipPath>\n </defs>\n</svg>\n",
      "image/png": "[encoded data removed]"
     },
     "metadata": {
      "needs_background": "light"
     }
    }
   ],
   "metadata": {}
  },
  {
   "cell_type": "code",
   "execution_count": 12,
   "source": [
    "test = pd.read_csv(\"output/output_densenet_gauss_test_retrained.csv\", header=None)\n",
    "train = pd.read_csv(\"output/output_densenet_gauss_train_retrained.csv\", header=None)\n",
    "val = pd.read_csv(\"output/output_densenet_gauss_val_retrained.csv\", header=None)\n",
    "\n",
    "df_total = pd.concat([train,val])\n",
    "\n",
    "results = pd.concat([results,treina_melhor_modelo(df_total, test, best_params, \"densenet_gauss\")])"
   ],
   "outputs": [],
   "metadata": {}
  },
  {
   "cell_type": "markdown",
   "source": [
    "### MobileNet Normal"
   ],
   "metadata": {}
  },
  {
   "cell_type": "code",
   "execution_count": 13,
   "source": [
    "test = pd.read_csv(\"output/output_mobilenet_test_retrained.csv\", header=None)\n",
    "train = pd.read_csv(\"output/output_mobilenet_train_retrained.csv\", header=None)\n",
    "val = pd.read_csv(\"output/output_mobilenet_val_retrained.csv\", header=None)\n",
    "\n",
    "df_total = pd.concat([train,val])\n",
    "print(df_total.shape)\n",
    "\n",
    "\n",
    "best_params = train_predict_SVM(df_total, test)"
   ],
   "outputs": [
    {
     "output_type": "stream",
     "name": "stdout",
     "text": [
      "(5394, 1281)\n",
      "Best Score:  0.9575434618291763\n",
      "Best params:  {'C': 0.01, 'degree': 1, 'gamma': 0.001, 'kernel': 'linear'}\n",
      "\n",
      "\n",
      "Acurácia teste:  0.887468030690537\n",
      "   \n",
      "              precision    recall  f1-score   support\n",
      "\n",
      "           0       0.72      0.93      0.81       100\n",
      "           1       0.97      0.87      0.92       291\n",
      "\n",
      "    accuracy                           0.89       391\n",
      "   macro avg       0.84      0.90      0.86       391\n",
      "weighted avg       0.91      0.89      0.89       391\n",
      "\n"
     ]
    },
    {
     "output_type": "display_data",
     "data": {
      "text/plain": [
       "<Figure size 720x504 with 2 Axes>"
      ],
      "image/svg+xml": "<?xml version=\"1.0\" encoding=\"utf-8\" standalone=\"no\"?>\n<!DOCTYPE svg PUBLIC \"-//W3C//DTD SVG 1.1//EN\"\n  \"http://www.w3.org/Graphics/SVG/1.1/DTD/svg11.dtd\">\n<svg height=\"411.598125pt\" version=\"1.1\" viewBox=\"0 0 550.491625 411.598125\" width=\"550.491625pt\" xmlns=\"http://www.w3.org/2000/svg\" xmlns:xlink=\"http://www.w3.org/1999/xlink\">\n <metadata>\n  <rdf:RDF xmlns:cc=\"http://creativecommons.org/ns#\" xmlns:dc=\"http://purl.org/dc/elements/1.1/\" xmlns:rdf=\"http://www.w3.org/1999/02/22-rdf-syntax-ns#\">\n   <cc:Work>\n    <dc:type rdf:resource=\"http://purl.org/dc/dcmitype/StillImage\"/>\n    <dc:date>2021-08-25T22:06:25.710266</dc:date>\n    <dc:format>image/svg+xml</dc:format>\n    <dc:creator>\n     <cc:Agent>\n      <dc:title>Matplotlib v3.4.3, https://matplotlib.org/</dc:title>\n     </cc:Agent>\n    </dc:creator>\n   </cc:Work>\n  </rdf:RDF>\n </metadata>\n <defs>\n  <style type=\"text/css\">*{stroke-linecap:butt;stroke-linejoin:round;}</style>\n </defs>\n <g id=\"figure_1\">\n  <g id=\"patch_1\">\n   <path d=\"M 0 411.598125 \nL 550.491625 411.598125 \nL 550.491625 0 \nL 0 0 \nz\n\" style=\"fill:none;\"/>\n  </g>\n  <g id=\"axes_1\">\n   <g id=\"patch_2\">\n    <path d=\"M 23.878125 387.72 \nL 470.278125 387.72 \nL 470.278125 7.2 \nL 23.878125 7.2 \nz\n\" style=\"fill:#ffffff;\"/>\n   </g>\n   <g id=\"QuadMesh_1\">\n    <path clip-path=\"url(#pc9fdfbbfa1)\" d=\"M 23.878125 7.2 \nL 247.078125 7.2 \nL 247.078125 197.46 \nL 23.878125 197.46 \nL 23.878125 7.2 \n\" style=\"fill:#8b1d5b;\"/>\n    <path clip-path=\"url(#pc9fdfbbfa1)\" d=\"M 247.078125 7.2 \nL 470.278125 7.2 \nL 470.278125 197.46 \nL 247.078125 197.46 \nL 247.078125 7.2 \n\" style=\"fill:#03051a;\"/>\n    <path clip-path=\"url(#pc9fdfbbfa1)\" d=\"M 23.878125 197.46 \nL 247.078125 197.46 \nL 247.078125 387.72 \nL 23.878125 387.72 \nL 23.878125 197.46 \n\" style=\"fill:#2e1739;\"/>\n    <path clip-path=\"url(#pc9fdfbbfa1)\" d=\"M 247.078125 197.46 \nL 470.278125 197.46 \nL 470.278125 387.72 \nL 247.078125 387.72 \nL 247.078125 197.46 \n\" style=\"fill:#faebdd;\"/>\n   </g>\n   <g id=\"matplotlib.axis_1\">\n    <g id=\"xtick_1\">\n     <g id=\"line2d_1\">\n      <defs>\n       <path d=\"M 0 0 \nL 0 3.5 \n\" id=\"m7e2f55ceb2\" style=\"stroke:#000000;stroke-width:0.8;\"/>\n      </defs>\n      <g>\n       <use style=\"stroke:#000000;stroke-width:0.8;\" x=\"135.478125\" xlink:href=\"#m7e2f55ceb2\" y=\"387.72\"/>\n      </g>\n     </g>\n     <g id=\"text_1\">\n      <!-- 0 -->\n      <g transform=\"translate(132.296875 402.318437)scale(0.1 -0.1)\">\n       <defs>\n        <path d=\"M 2034 4250 \nQ 1547 4250 1301 3770 \nQ 1056 3291 1056 2328 \nQ 1056 1369 1301 889 \nQ 1547 409 2034 409 \nQ 2525 409 2770 889 \nQ 3016 1369 3016 2328 \nQ 3016 3291 2770 3770 \nQ 2525 4250 2034 4250 \nz\nM 2034 4750 \nQ 2819 4750 3233 4129 \nQ 3647 3509 3647 2328 \nQ 3647 1150 3233 529 \nQ 2819 -91 2034 -91 \nQ 1250 -91 836 529 \nQ 422 1150 422 2328 \nQ 422 3509 836 4129 \nQ 1250 4750 2034 4750 \nz\n\" id=\"DejaVuSans-30\" transform=\"scale(0.015625)\"/>\n       </defs>\n       <use xlink:href=\"#DejaVuSans-30\"/>\n      </g>\n     </g>\n    </g>\n    <g id=\"xtick_2\">\n     <g id=\"line2d_2\">\n      <g>\n       <use style=\"stroke:#000000;stroke-width:0.8;\" x=\"358.678125\" xlink:href=\"#m7e2f55ceb2\" y=\"387.72\"/>\n      </g>\n     </g>\n     <g id=\"text_2\">\n      <!-- 1 -->\n      <g transform=\"translate(355.496875 402.318437)scale(0.1 -0.1)\">\n       <defs>\n        <path d=\"M 794 531 \nL 1825 531 \nL 1825 4091 \nL 703 3866 \nL 703 4441 \nL 1819 4666 \nL 2450 4666 \nL 2450 531 \nL 3481 531 \nL 3481 0 \nL 794 0 \nL 794 531 \nz\n\" id=\"DejaVuSans-31\" transform=\"scale(0.015625)\"/>\n       </defs>\n       <use xlink:href=\"#DejaVuSans-31\"/>\n      </g>\n     </g>\n    </g>\n   </g>\n   <g id=\"matplotlib.axis_2\">\n    <g id=\"ytick_1\">\n     <g id=\"line2d_3\">\n      <defs>\n       <path d=\"M 0 0 \nL -3.5 0 \n\" id=\"m11f7650d30\" style=\"stroke:#000000;stroke-width:0.8;\"/>\n      </defs>\n      <g>\n       <use style=\"stroke:#000000;stroke-width:0.8;\" x=\"23.878125\" xlink:href=\"#m11f7650d30\" y=\"102.33\"/>\n      </g>\n     </g>\n     <g id=\"text_3\">\n      <!-- 0 -->\n      <g transform=\"translate(14.798437 105.51125)rotate(-90)scale(0.1 -0.1)\">\n       <use xlink:href=\"#DejaVuSans-30\"/>\n      </g>\n     </g>\n    </g>\n    <g id=\"ytick_2\">\n     <g id=\"line2d_4\">\n      <g>\n       <use style=\"stroke:#000000;stroke-width:0.8;\" x=\"23.878125\" xlink:href=\"#m11f7650d30\" y=\"292.59\"/>\n      </g>\n     </g>\n     <g id=\"text_4\">\n      <!-- 1 -->\n      <g transform=\"translate(14.798437 295.77125)rotate(-90)scale(0.1 -0.1)\">\n       <use xlink:href=\"#DejaVuSans-31\"/>\n      </g>\n     </g>\n    </g>\n   </g>\n   <g id=\"text_5\">\n    <!-- 93 -->\n    <g style=\"fill:#ffffff;\" transform=\"translate(129.115625 105.089375)scale(0.1 -0.1)\">\n     <defs>\n      <path d=\"M 703 97 \nL 703 672 \nQ 941 559 1184 500 \nQ 1428 441 1663 441 \nQ 2288 441 2617 861 \nQ 2947 1281 2994 2138 \nQ 2813 1869 2534 1725 \nQ 2256 1581 1919 1581 \nQ 1219 1581 811 2004 \nQ 403 2428 403 3163 \nQ 403 3881 828 4315 \nQ 1253 4750 1959 4750 \nQ 2769 4750 3195 4129 \nQ 3622 3509 3622 2328 \nQ 3622 1225 3098 567 \nQ 2575 -91 1691 -91 \nQ 1453 -91 1209 -44 \nQ 966 3 703 97 \nz\nM 1959 2075 \nQ 2384 2075 2632 2365 \nQ 2881 2656 2881 3163 \nQ 2881 3666 2632 3958 \nQ 2384 4250 1959 4250 \nQ 1534 4250 1286 3958 \nQ 1038 3666 1038 3163 \nQ 1038 2656 1286 2365 \nQ 1534 2075 1959 2075 \nz\n\" id=\"DejaVuSans-39\" transform=\"scale(0.015625)\"/>\n      <path d=\"M 2597 2516 \nQ 3050 2419 3304 2112 \nQ 3559 1806 3559 1356 \nQ 3559 666 3084 287 \nQ 2609 -91 1734 -91 \nQ 1441 -91 1130 -33 \nQ 819 25 488 141 \nL 488 750 \nQ 750 597 1062 519 \nQ 1375 441 1716 441 \nQ 2309 441 2620 675 \nQ 2931 909 2931 1356 \nQ 2931 1769 2642 2001 \nQ 2353 2234 1838 2234 \nL 1294 2234 \nL 1294 2753 \nL 1863 2753 \nQ 2328 2753 2575 2939 \nQ 2822 3125 2822 3475 \nQ 2822 3834 2567 4026 \nQ 2313 4219 1838 4219 \nQ 1578 4219 1281 4162 \nQ 984 4106 628 3988 \nL 628 4550 \nQ 988 4650 1302 4700 \nQ 1616 4750 1894 4750 \nQ 2613 4750 3031 4423 \nQ 3450 4097 3450 3541 \nQ 3450 3153 3228 2886 \nQ 3006 2619 2597 2516 \nz\n\" id=\"DejaVuSans-33\" transform=\"scale(0.015625)\"/>\n     </defs>\n     <use xlink:href=\"#DejaVuSans-39\"/>\n     <use x=\"63.623047\" xlink:href=\"#DejaVuSans-33\"/>\n    </g>\n   </g>\n   <g id=\"text_6\">\n    <!-- 7 -->\n    <g style=\"fill:#ffffff;\" transform=\"translate(355.496875 105.089375)scale(0.1 -0.1)\">\n     <defs>\n      <path d=\"M 525 4666 \nL 3525 4666 \nL 3525 4397 \nL 1831 0 \nL 1172 0 \nL 2766 4134 \nL 525 4134 \nL 525 4666 \nz\n\" id=\"DejaVuSans-37\" transform=\"scale(0.015625)\"/>\n     </defs>\n     <use xlink:href=\"#DejaVuSans-37\"/>\n    </g>\n   </g>\n   <g id=\"text_7\">\n    <!-- 37 -->\n    <g style=\"fill:#ffffff;\" transform=\"translate(129.115625 295.349375)scale(0.1 -0.1)\">\n     <use xlink:href=\"#DejaVuSans-33\"/>\n     <use x=\"63.623047\" xlink:href=\"#DejaVuSans-37\"/>\n    </g>\n   </g>\n   <g id=\"text_8\">\n    <!-- 254 -->\n    <g style=\"fill:#262626;\" transform=\"translate(349.134375 295.349375)scale(0.1 -0.1)\">\n     <defs>\n      <path d=\"M 1228 531 \nL 3431 531 \nL 3431 0 \nL 469 0 \nL 469 531 \nQ 828 903 1448 1529 \nQ 2069 2156 2228 2338 \nQ 2531 2678 2651 2914 \nQ 2772 3150 2772 3378 \nQ 2772 3750 2511 3984 \nQ 2250 4219 1831 4219 \nQ 1534 4219 1204 4116 \nQ 875 4013 500 3803 \nL 500 4441 \nQ 881 4594 1212 4672 \nQ 1544 4750 1819 4750 \nQ 2544 4750 2975 4387 \nQ 3406 4025 3406 3419 \nQ 3406 3131 3298 2873 \nQ 3191 2616 2906 2266 \nQ 2828 2175 2409 1742 \nQ 1991 1309 1228 531 \nz\n\" id=\"DejaVuSans-32\" transform=\"scale(0.015625)\"/>\n      <path d=\"M 691 4666 \nL 3169 4666 \nL 3169 4134 \nL 1269 4134 \nL 1269 2991 \nQ 1406 3038 1543 3061 \nQ 1681 3084 1819 3084 \nQ 2600 3084 3056 2656 \nQ 3513 2228 3513 1497 \nQ 3513 744 3044 326 \nQ 2575 -91 1722 -91 \nQ 1428 -91 1123 -41 \nQ 819 9 494 109 \nL 494 744 \nQ 775 591 1075 516 \nQ 1375 441 1709 441 \nQ 2250 441 2565 725 \nQ 2881 1009 2881 1497 \nQ 2881 1984 2565 2268 \nQ 2250 2553 1709 2553 \nQ 1456 2553 1204 2497 \nQ 953 2441 691 2322 \nL 691 4666 \nz\n\" id=\"DejaVuSans-35\" transform=\"scale(0.015625)\"/>\n      <path d=\"M 2419 4116 \nL 825 1625 \nL 2419 1625 \nL 2419 4116 \nz\nM 2253 4666 \nL 3047 4666 \nL 3047 1625 \nL 3713 1625 \nL 3713 1100 \nL 3047 1100 \nL 3047 0 \nL 2419 0 \nL 2419 1100 \nL 313 1100 \nL 313 1709 \nL 2253 4666 \nz\n\" id=\"DejaVuSans-34\" transform=\"scale(0.015625)\"/>\n     </defs>\n     <use xlink:href=\"#DejaVuSans-32\"/>\n     <use x=\"63.623047\" xlink:href=\"#DejaVuSans-35\"/>\n     <use x=\"127.246094\" xlink:href=\"#DejaVuSans-34\"/>\n    </g>\n   </g>\n  </g>\n  <g id=\"axes_2\">\n   <g id=\"patch_3\">\n    <path d=\"M 498.178125 387.72 \nL 517.204125 387.72 \nL 517.204125 7.2 \nL 498.178125 7.2 \nz\n\" style=\"fill:#ffffff;\"/>\n   </g>\n   <g id=\"patch_4\">\n    <path clip-path=\"url(#p0a0a8ce373)\" d=\"M 498.178125 387.72 \nL 498.178125 386.233594 \nL 498.178125 8.686406 \nL 498.178125 7.2 \nL 517.204125 7.2 \nL 517.204125 8.686406 \nL 517.204125 386.233594 \nL 517.204125 387.72 \nL 517.204125 387.72 \nz\n\" style=\"fill:#ffffff;stroke:#ffffff;stroke-linejoin:miter;stroke-width:0.01;\"/>\n   </g>\n   <image height=\"380\" id=\"image5e58485c4f\" transform=\"scale(1 -1)translate(0 -380)\" width=\"19\" x=\"498\" xlink:href=\"data:image/png;base64,\niVBORw0KGgoAAAANSUhEUgAAABMAAAF8CAYAAAAthYD3AAAB9UlEQVR4nO2d0Q3CUAwD80pZgv33LDOkuo+T7Axgcc9OXhAFzuf7ewaq+1BKM3OBWnOfw702VAzGnAjMC3UTPDMzptfNhnYtJsbMcBOdtGQ0xPcmGY1i7us+h9OLuTeLuRYTz7NirsXM86yYazEtZsjmiGKKQ0uKddKuSzyCxJism1zVzX2luBlzb4JiIVuQN7Qp9yYp5t2CtL2Z0wFcieeZ9wPmju29mBkTFPPeTvDY5qq9ua+Y0GLPKyW5yZW4N80jiBQDO6Ch3VfdfCEW4ubRusmGFhQTrwcpHWA9M7oDOE7x2E55V/eQbmJS8kuYOzP1CNJiWsXo0Ib0JoqpDS04g1J684BvBGg3wdCK1wMUM8RN0E76iSVy0mrdJA2ICS24OprdBDFzooFpmedZO2BdMCbbm5iWGjOlNzGtuvmi7klxUyoGu1nMtVgMpvWJpWK+EbNikgagZ0a7ST6YpXUTxRSHlvzGX8iZzQX+WooXE55nVswhf/tGjMmObe7FiTHJaJgx6+a2xJjtzXWZMb1uspujFjNj2YO3IKub7E4rHkERbqaMoIzeZEMbEg32zIq5rGLuK+d2KuZarJjboj8P+HBiXsxO2hdiYkwytGLMCDdTRlDGhQJjctFQY1rdRP8oxIupDa14bKO3E5kzMabZTS60f+8bLrfzm19DAAAAAElFTkSuQmCC\" y=\"-7\"/>\n   <g id=\"matplotlib.axis_3\"/>\n   <g id=\"matplotlib.axis_4\">\n    <g id=\"ytick_3\">\n     <g id=\"line2d_5\">\n      <defs>\n       <path d=\"M 0 0 \nL 3.5 0 \n\" id=\"mfdb40d247f\" style=\"stroke:#000000;stroke-width:0.8;\"/>\n      </defs>\n      <g>\n       <use style=\"stroke:#000000;stroke-width:0.8;\" x=\"517.204125\" xlink:href=\"#mfdb40d247f\" y=\"321.475628\"/>\n      </g>\n     </g>\n     <g id=\"text_9\">\n      <!-- 50 -->\n      <g transform=\"translate(524.204125 325.274846)scale(0.1 -0.1)\">\n       <use xlink:href=\"#DejaVuSans-35\"/>\n       <use x=\"63.623047\" xlink:href=\"#DejaVuSans-30\"/>\n      </g>\n     </g>\n    </g>\n    <g id=\"ytick_4\">\n     <g id=\"line2d_6\">\n      <g>\n       <use style=\"stroke:#000000;stroke-width:0.8;\" x=\"517.204125\" xlink:href=\"#mfdb40d247f\" y=\"244.447287\"/>\n      </g>\n     </g>\n     <g id=\"text_10\">\n      <!-- 100 -->\n      <g transform=\"translate(524.204125 248.246506)scale(0.1 -0.1)\">\n       <use xlink:href=\"#DejaVuSans-31\"/>\n       <use x=\"63.623047\" xlink:href=\"#DejaVuSans-30\"/>\n       <use x=\"127.246094\" xlink:href=\"#DejaVuSans-30\"/>\n      </g>\n     </g>\n    </g>\n    <g id=\"ytick_5\">\n     <g id=\"line2d_7\">\n      <g>\n       <use style=\"stroke:#000000;stroke-width:0.8;\" x=\"517.204125\" xlink:href=\"#mfdb40d247f\" y=\"167.418947\"/>\n      </g>\n     </g>\n     <g id=\"text_11\">\n      <!-- 150 -->\n      <g transform=\"translate(524.204125 171.218166)scale(0.1 -0.1)\">\n       <use xlink:href=\"#DejaVuSans-31\"/>\n       <use x=\"63.623047\" xlink:href=\"#DejaVuSans-35\"/>\n       <use x=\"127.246094\" xlink:href=\"#DejaVuSans-30\"/>\n      </g>\n     </g>\n    </g>\n    <g id=\"ytick_6\">\n     <g id=\"line2d_8\">\n      <g>\n       <use style=\"stroke:#000000;stroke-width:0.8;\" x=\"517.204125\" xlink:href=\"#mfdb40d247f\" y=\"90.390607\"/>\n      </g>\n     </g>\n     <g id=\"text_12\">\n      <!-- 200 -->\n      <g transform=\"translate(524.204125 94.189826)scale(0.1 -0.1)\">\n       <use xlink:href=\"#DejaVuSans-32\"/>\n       <use x=\"63.623047\" xlink:href=\"#DejaVuSans-30\"/>\n       <use x=\"127.246094\" xlink:href=\"#DejaVuSans-30\"/>\n      </g>\n     </g>\n    </g>\n    <g id=\"ytick_7\">\n     <g id=\"line2d_9\">\n      <g>\n       <use style=\"stroke:#000000;stroke-width:0.8;\" x=\"517.204125\" xlink:href=\"#mfdb40d247f\" y=\"13.362267\"/>\n      </g>\n     </g>\n     <g id=\"text_13\">\n      <!-- 250 -->\n      <g transform=\"translate(524.204125 17.161486)scale(0.1 -0.1)\">\n       <use xlink:href=\"#DejaVuSans-32\"/>\n       <use x=\"63.623047\" xlink:href=\"#DejaVuSans-35\"/>\n       <use x=\"127.246094\" xlink:href=\"#DejaVuSans-30\"/>\n      </g>\n     </g>\n    </g>\n   </g>\n   <g id=\"LineCollection_1\"/>\n   <g id=\"patch_5\">\n    <path d=\"M 498.178125 387.72 \nL 498.178125 386.233594 \nL 498.178125 8.686406 \nL 498.178125 7.2 \nL 517.204125 7.2 \nL 517.204125 8.686406 \nL 517.204125 386.233594 \nL 517.204125 387.72 \nz\n\" style=\"fill:none;\"/>\n   </g>\n  </g>\n </g>\n <defs>\n  <clipPath id=\"pc9fdfbbfa1\">\n   <rect height=\"380.52\" width=\"446.4\" x=\"23.878125\" y=\"7.2\"/>\n  </clipPath>\n  <clipPath id=\"p0a0a8ce373\">\n   <rect height=\"380.52\" width=\"19.026\" x=\"498.178125\" y=\"7.2\"/>\n  </clipPath>\n </defs>\n</svg>\n",
      "image/png": "[encoded data removed]"
     },
     "metadata": {
      "needs_background": "light"
     }
    }
   ],
   "metadata": {}
  },
  {
   "cell_type": "code",
   "execution_count": 14,
   "source": [
    "test = pd.read_csv(\"output/output_mobilenet_test_retrained.csv\", header=None)\n",
    "train = pd.read_csv(\"output/output_mobilenet_train_retrained.csv\", header=None)\n",
    "val = pd.read_csv(\"output/output_mobilenet_val_retrained.csv\", header=None)\n",
    "\n",
    "df_total = pd.concat([train,val])\n",
    "\n",
    "results = pd.concat([results,treina_melhor_modelo(df_total, test, best_params, \"mobilenet\")])"
   ],
   "outputs": [],
   "metadata": {}
  },
  {
   "cell_type": "markdown",
   "source": [
    "### MobileNet Augmentation"
   ],
   "metadata": {}
  },
  {
   "cell_type": "code",
   "execution_count": 15,
   "source": [
    "test = pd.read_csv(\"output/output_mobilenet_gauss_test_retrained.csv\", header=None)\n",
    "train = pd.read_csv(\"output/output_mobilenet_gauss_train_retrained.csv\", header=None)\n",
    "val = pd.read_csv(\"output/output_mobilenet_gauss_val_retrained.csv\", header=None)\n",
    "\n",
    "df_total = pd.concat([train,val])\n",
    "print(df_total.shape)\n",
    "\n",
    "\n",
    "best_params = train_predict_SVM(df_total, test)"
   ],
   "outputs": [
    {
     "output_type": "stream",
     "name": "stdout",
     "text": [
      "(10788, 1281)\n"
     ]
    }
   ],
   "metadata": {}
  },
  {
   "cell_type": "code",
   "execution_count": null,
   "source": [
    "test = pd.read_csv(\"output/output_mobilenet_gauss_test_retrained.csv\", header=None)\n",
    "train = pd.read_csv(\"output/output_mobilenet_gauss_train_retrained.csv\", header=None)\n",
    "val = pd.read_csv(\"output/output_mobilenet_gauss_val_retrained.csv\", header=None)\n",
    "\n",
    "df_total = pd.concat([train,val])\n",
    "\n",
    "results = pd.concat([results,treina_melhor_modelo(df_total, test, best_params, \"mobilenet_gauss\")])"
   ],
   "outputs": [],
   "metadata": {}
  },
  {
   "cell_type": "markdown",
   "source": [
    "### VGG16 Normal"
   ],
   "metadata": {}
  },
  {
   "cell_type": "code",
   "execution_count": null,
   "source": [
    "test = pd.read_csv(\"output/output_vgg16_test_retrained.csv\", header=None)\n",
    "train = pd.read_csv(\"output/output_vgg16_train_retrained.csv\", header=None)\n",
    "val = pd.read_csv(\"output/output_vgg16_val_retrained.csv\", header=None)\n",
    "\n",
    "df_total = pd.concat([train,val])\n",
    "print(df_total.shape)\n",
    "\n",
    "\n",
    "best_params = train_predict_SVM(df_total, test)"
   ],
   "outputs": [],
   "metadata": {}
  },
  {
   "cell_type": "code",
   "execution_count": null,
   "source": [
    "test = pd.read_csv(\"output/output_vgg16_test_retrained.csv\", header=None)\n",
    "train = pd.read_csv(\"output/output_vgg16_train_retrained.csv\", header=None)\n",
    "val = pd.read_csv(\"output/output_vgg16_val_retrained.csv\", header=None)\n",
    "\n",
    "df_total = pd.concat([train,val])\n",
    "\n",
    "results = pd.concat([results,treina_melhor_modelo(df_total, test, best_params, \"vgg16\")])"
   ],
   "outputs": [],
   "metadata": {}
  },
  {
   "cell_type": "markdown",
   "source": [
    "### VGG16 Augmentation"
   ],
   "metadata": {}
  },
  {
   "cell_type": "code",
   "execution_count": null,
   "source": [
    "test = pd.read_csv(\"output/output_vgg16_gauss_test_retrained.csv\", header=None)\n",
    "train = pd.read_csv(\"output/output_vgg16_gauss_train_retrained.csv\", header=None)\n",
    "val = pd.read_csv(\"output/output_vgg16_gauss_val_retrained.csv\", header=None)\n",
    "\n",
    "df_total = pd.concat([train,val])\n",
    "print(df_total.shape)\n",
    "\n",
    "\n",
    "best_params = train_predict_SVM(df_total, test)"
   ],
   "outputs": [],
   "metadata": {}
  },
  {
   "cell_type": "code",
   "execution_count": null,
   "source": [
    "test = pd.read_csv(\"output/output_vgg16_gauss_test_retrained.csv\", header=None)\n",
    "train = pd.read_csv(\"output/output_vgg16_gauss_train_retrained.csv\", header=None)\n",
    "val = pd.read_csv(\"output/output_vgg16_gauss_val_retrained.csv\", header=None)\n",
    "\n",
    "df_total = pd.concat([train,val])\n",
    "\n",
    "results = pd.concat([results,treina_melhor_modelo(df_total, test, best_params, \"vgg16_gauss\")])"
   ],
   "outputs": [],
   "metadata": {}
  },
  {
   "cell_type": "code",
   "execution_count": null,
   "source": [
    "results"
   ],
   "outputs": [],
   "metadata": {}
  },
  {
   "cell_type": "code",
   "execution_count": null,
   "source": [
    "results.to_csv('svm-results.csv', header=False, index=False, sep=',', encoding='utf-8')"
   ],
   "outputs": [],
   "metadata": {}
  }
 ],
 "metadata": {
  "kernelspec": {
   "name": "python3",
   "display_name": "Python 3.7.11 64-bit ('env': venv)"
  },
  "language_info": {
   "codemirror_mode": {
    "name": "ipython",
    "version": 3
   },
   "file_extension": ".py",
   "mimetype": "text/x-python",
   "name": "python",
   "nbconvert_exporter": "python",
   "pygments_lexer": "ipython3",
   "version": "3.7.11"
  },
  "interpreter": {
   "hash": "da8d4d267ff71ca38abd926b173b5cff06f6ab49415cefee96597816f1db505b"
  }
 },
 "nbformat": 4,
 "nbformat_minor": 5
}