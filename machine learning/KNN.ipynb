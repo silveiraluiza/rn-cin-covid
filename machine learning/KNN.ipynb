{
 "cells": [
  {
   "cell_type": "code",
   "execution_count": 1,
   "id": "accredited-backing",
   "metadata": {},
   "outputs": [],
   "source": [
    "from sklearn.model_selection import RandomizedSearchCV\n",
    "from sklearn.model_selection import GridSearchCV\n",
    "from sklearn.model_selection import train_test_split\n",
    "from sklearn.neighbors import KNeighborsClassifier\n",
    "import pandas as pd\n",
    "import os\n",
    "from sklearn.metrics import accuracy_score\n",
    "from sklearn.metrics import classification_report\n",
    "from sklearn.metrics import confusion_matrix\n",
    "import seaborn as sn\n",
    "import matplotlib.pyplot as plt\n",
    "from sklearn.model_selection import StratifiedKFold\n",
    "\n",
    "\n",
    "path = '/home/dell/Documentos/rn-cin-covid/'\n",
    "os.chdir(path)\n"
   ]
  },
  {
   "cell_type": "code",
   "execution_count": 2,
   "id": "studied-render",
   "metadata": {},
   "outputs": [],
   "source": [
    "def evaluate_knn(model, X_test, y_test):\n",
    "    \n",
    "    y_pred = model.predict(X_test)\n",
    "    \n",
    "    print(\"Acurácia teste: \", accuracy_score(y_test, y_pred))\n",
    "    print(\"   \")\n",
    "    \n",
    "    print(classification_report(y_test, y_pred))\n",
    "    \n",
    "    df_cm = confusion_matrix(y_test, y_pred)\n",
    "\n",
    "    plt.figure(figsize = (10,7))\n",
    "    sn.heatmap(df_cm, annot=True, fmt='.3g')\n",
    "    plt.show()"
   ]
  },
  {
   "cell_type": "code",
   "execution_count": 3,
   "id": "ahead-marijuana",
   "metadata": {},
   "outputs": [],
   "source": [
    "def train_predict_KNN(df_total, test):\n",
    "    # Train\n",
    "    y = df_total[0]\n",
    "    X = df_total.drop(0, axis=1)\n",
    "\n",
    "    y = y.to_numpy()\n",
    "    X = X.to_numpy()\n",
    "    \n",
    "    #Test\n",
    "    y_test = test[0]\n",
    "    X_test = test.drop(0, axis=1)\n",
    "\n",
    "    y_test = y_test.to_numpy()\n",
    "    X_test = X_test.to_numpy()\n",
    "    \n",
    "    # Grid\n",
    "    k_range = list(range(1,30))\n",
    "    weight_options = [\"uniform\", \"distance\"]\n",
    "\n",
    "    param_grid = dict(n_neighbors = k_range, weights = weight_options)\n",
    "    #print (param_grid)\n",
    "    knn = KNeighborsClassifier()\n",
    "    folds = 10\n",
    "    skf = StratifiedKFold(n_splits=folds, shuffle = True, random_state = 999)\n",
    "    \n",
    "    grid = GridSearchCV(knn, param_grid, cv = skf, scoring = 'accuracy')\n",
    "    grid.fit(X,y)\n",
    "\n",
    "    #print(grid.grid_scores_)\n",
    "    '''\n",
    "    print(grid.grid_scores_[0].parameters)\n",
    "    print(grid.grid_scores_[0].cv_validation_scores)\n",
    "    print(grid.grid_scores_[0].mean_validation_score)\n",
    "    '''\n",
    "\n",
    "    print (\"Best Score: \", grid.best_score_)\n",
    "    print (\"Best params: \", grid.best_params_)\n",
    "    print(\"\\n\")\n",
    "    \n",
    "    evaluate_knn(grid.best_estimator_, X_test, y_test)\n",
    "    return grid.best_params_ "
   ]
  },
  {
   "cell_type": "code",
   "execution_count": 4,
   "id": "proprietary-guard",
   "metadata": {},
   "outputs": [],
   "source": [
    "def treina_melhor_modelo(df_total,test,best_params,base_name):\n",
    "    y = df_total[0]\n",
    "    X = df_total.drop(0, axis=1)\n",
    "\n",
    "    y = y.to_numpy()\n",
    "    X = X.to_numpy()\n",
    "\n",
    "    test_true_x = test.drop(0, axis=1).to_numpy()\n",
    "    test_true_y = test[0].to_numpy()\n",
    "\n",
    "    knn = KNeighborsClassifier(best_params['n_neighbors'], best_params['weights'])\n",
    "    knn_results = pd.DataFrame(columns=[\"base\", \"acuracia-teste\", \"precision-covid-teste\", \"recall-covid-teste\", \"f1-covid-teste\", \"precision-non-covid-teste\", \"recall-non-covid-teste\", \"f1-non-covid-teste\", \"conf-matrix-teste\", \"acuracia-val\", \"precision-covid-val\", \"recall-covid-val\", \"f1-covid-val\", \"precision-non-covid-val\", \"recall-non-covid-val\", \"f1-non-covid-val\", \"conf-matrix-val\"])\n",
    "\n",
    "    folds = 30\n",
    "\n",
    "    skf = StratifiedKFold(n_splits=folds, shuffle = True, random_state = 999)\n",
    "    StratifiedKFold(n_splits=2, random_state=None, shuffle=False)\n",
    "\n",
    "\n",
    "    acuracia_test = []\n",
    "    acuracia_val = []\n",
    "    pre_covid_t = []\n",
    "    re_covid_t = []\n",
    "    f1_covid_t = []\n",
    "    pre_ncovid_t = []\n",
    "    re_ncovid_t = []\n",
    "    f1_ncovid_t = []\n",
    "    pre_covid_v = []\n",
    "    re_covid_v = []\n",
    "    f1_covid_v = []\n",
    "    pre_ncovid_v = []\n",
    "    re_ncovid_v = []\n",
    "    f1_ncovid_v = []\n",
    "    base = []\n",
    "    conf_matrix_val = []\n",
    "    conf_matrix_test = []\n",
    "\n",
    "\n",
    "\n",
    "\n",
    "\n",
    "    for train_index, test_index in skf.split(X, y):\n",
    "        X_train, X_test = X[train_index], X[test_index]\n",
    "        y_train, y_test = y[train_index], y[test_index]\n",
    "        knn.fit(X_train, y_train)\n",
    "        y_pred = knn.predict(X_test)\n",
    "        y_pred_true = knn.predict(test_true_x) \n",
    "\n",
    "\n",
    "\n",
    "\n",
    "        df_cm = confusion_matrix(y_test, y_pred)\n",
    "        df_cm_test = confusion_matrix(test_true_y, y_pred_true)   \n",
    "        class_repo = classification_report(y_test, y_pred, output_dict=True)\n",
    "        class_repo_test = classification_report(test_true_y, y_pred_true, output_dict=True)\n",
    "\n",
    "        base.append(base_name)\n",
    "        acuracia_test.append(accuracy_score(test_true_y, y_pred_true))\n",
    "        acuracia_val.append(accuracy_score(y_test, y_pred))\n",
    "\n",
    "        pre_covid_t.append(class_repo_test['1'][\"precision\"])\n",
    "        re_covid_t.append(class_repo_test['1'][\"recall\"])\n",
    "        f1_covid_t.append(class_repo_test['1'][\"f1-score\"])\n",
    "        pre_ncovid_t.append(class_repo_test['0'][\"precision\"])\n",
    "        re_ncovid_t.append(class_repo_test['0'][\"recall\"])\n",
    "        f1_ncovid_t.append(class_repo_test['0'][\"f1-score\"])\n",
    "\n",
    "        pre_covid_v.append(class_repo['1'][\"precision\"])\n",
    "        re_covid_v.append(class_repo['1'][\"recall\"])\n",
    "        f1_covid_v.append(class_repo['1'][\"f1-score\"])\n",
    "        pre_ncovid_v.append(class_repo['0'][\"precision\"])\n",
    "        re_ncovid_v.append(class_repo['0'][\"recall\"])\n",
    "        f1_ncovid_v.append(class_repo['0'][\"f1-score\"])\n",
    "\n",
    "        conf_matrix_val.append(df_cm)\n",
    "        conf_matrix_test.append(df_cm_test)\n",
    "\n",
    "\n",
    "    knn_results[\"acuracia-teste\"] = acuracia_test\n",
    "    knn_results[\"acuracia-val\"] = acuracia_val \n",
    "    knn_results[\"precision-covid-teste\"] = pre_covid_t \n",
    "    knn_results[\"recall-covid-teste\"] = re_covid_t \n",
    "    knn_results[\"f1-covid-teste\"] = f1_covid_t \n",
    "    knn_results[\"precision-non-covid-teste\"] = pre_ncovid_t\n",
    "    knn_results[\"recall-non-covid-teste\"] = re_ncovid_t \n",
    "    knn_results[\"f1-non-covid-teste\"] = f1_ncovid_t \n",
    "    knn_results[\"precision-covid-val\"] = pre_covid_v \n",
    "    knn_results[\"recall-covid-val\"] = re_covid_v \n",
    "    knn_results[\"f1-covid-val\"] = f1_covid_v \n",
    "    knn_results[\"precision-non-covid-val\"] = pre_ncovid_v \n",
    "    knn_results[\"recall-non-covid-val\"] = re_ncovid_v \n",
    "    knn_results[\"f1-non-covid-val\"] = f1_ncovid_v \n",
    "    knn_results[\"base\"] = base \n",
    "    knn_results[\"conf-matrix-val\"] = conf_matrix_val\n",
    "    knn_results[\"conf-matrix-teste\"] = conf_matrix_test \n",
    "    \n",
    "    return(knn_results)"
   ]
  },
  {
   "cell_type": "markdown",
   "id": "ordinary-preservation",
   "metadata": {},
   "source": [
    "### Densenet Normal\n"
   ]
  },
  {
   "cell_type": "code",
   "execution_count": 5,
   "id": "later-limit",
   "metadata": {},
   "outputs": [
    {
     "name": "stdout",
     "output_type": "stream",
     "text": [
      "(5394, 1025)\n",
      "Best Score:  0.9781199752628323\n",
      "Best params:  {'n_neighbors': 5, 'weights': 'distance'}\n",
      "\n",
      "\n",
      "Acurácia teste:  0.9028132992327366\n",
      "   \n",
      "              precision    recall  f1-score   support\n",
      "\n",
      "           0       0.75      0.94      0.83       100\n",
      "           1       0.98      0.89      0.93       291\n",
      "\n",
      "    accuracy                           0.90       391\n",
      "   macro avg       0.86      0.92      0.88       391\n",
      "weighted avg       0.92      0.90      0.91       391\n",
      "\n"
     ]
    },
    {
     "data": {
      "image/png": "[encoded data removed]",
      "text/plain": [
       "<Figure size 720x504 with 2 Axes>"
      ]
     },
     "metadata": {
      "needs_background": "light"
     },
     "output_type": "display_data"
    }
   ],
   "source": [
    "test = pd.read_csv(\"output/output_densenet_test_retrained.csv\", header=None)\n",
    "train = pd.read_csv(\"output/output_densenet_train_retrained.csv\", header=None)\n",
    "val = pd.read_csv(\"output/output_densenet_val_retrained.csv\", header=None)\n",
    "\n",
    "df_total = pd.concat([train,val])\n",
    "print(df_total.shape)\n",
    "\n",
    "\n",
    "best_params = train_predict_KNN(df_total, test)"
   ]
  },
  {
   "cell_type": "code",
   "execution_count": 6,
   "id": "central-trouble",
   "metadata": {},
   "outputs": [
    {
     "name": "stderr",
     "output_type": "stream",
     "text": [
      "/home/dell/.local/lib/python3.8/site-packages/sklearn/utils/validation.py:70: FutureWarning: Pass weights=distance as keyword args. From version 1.0 (renaming of 0.25) passing these as positional arguments will result in an error\n",
      "  warnings.warn(f\"Pass {args_msg} as keyword args. From version \"\n"
     ]
    }
   ],
   "source": [
    "test = pd.read_csv(\"output/output_densenet_test_retrained.csv\", header=None)\n",
    "train = pd.read_csv(\"output/output_densenet_train_retrained.csv\", header=None)\n",
    "val = pd.read_csv(\"output/output_densenet_val_retrained.csv\", header=None)\n",
    "\n",
    "df_total = pd.concat([train,val])\n",
    "\n",
    "results = treina_melhor_modelo(df_total, test, best_params, \"densenet\")"
   ]
  },
  {
   "cell_type": "markdown",
   "id": "prerequisite-providence",
   "metadata": {},
   "source": [
    "### Densenet Augmentation\n"
   ]
  },
  {
   "cell_type": "code",
   "execution_count": 7,
   "id": "emotional-edward",
   "metadata": {},
   "outputs": [
    {
     "name": "stdout",
     "output_type": "stream",
     "text": [
      "(10788, 1025)\n",
      "Best Score:  0.9724692691129867\n",
      "Best params:  {'n_neighbors': 4, 'weights': 'distance'}\n",
      "\n",
      "\n",
      "Acurácia teste:  0.9258312020460358\n",
      "   \n",
      "              precision    recall  f1-score   support\n",
      "\n",
      "           0       0.78      0.98      0.87       100\n",
      "           1       0.99      0.91      0.95       291\n",
      "\n",
      "    accuracy                           0.93       391\n",
      "   macro avg       0.89      0.94      0.91       391\n",
      "weighted avg       0.94      0.93      0.93       391\n",
      "\n"
     ]
    },
    {
     "data": {
      "image/png": "[encoded data removed]",
      "text/plain": [
       "<Figure size 720x504 with 2 Axes>"
      ]
     },
     "metadata": {
      "needs_background": "light"
     },
     "output_type": "display_data"
    }
   ],
   "source": [
    "test = pd.read_csv(\"output/output_densenet_gauss_test_retrained.csv\", header=None)\n",
    "train = pd.read_csv(\"output/output_densenet_gauss_train_retrained.csv\", header=None)\n",
    "val = pd.read_csv(\"output/output_densenet_gauss_val_retrained.csv\", header=None)\n",
    "\n",
    "df_total = pd.concat([train,val])\n",
    "print(df_total.shape)\n",
    "\n",
    "\n",
    "best_params = train_predict_KNN(df_total, test)\n"
   ]
  },
  {
   "cell_type": "code",
   "execution_count": 8,
   "id": "commercial-therapist",
   "metadata": {},
   "outputs": [
    {
     "name": "stderr",
     "output_type": "stream",
     "text": [
      "/home/dell/.local/lib/python3.8/site-packages/sklearn/utils/validation.py:70: FutureWarning: Pass weights=distance as keyword args. From version 1.0 (renaming of 0.25) passing these as positional arguments will result in an error\n",
      "  warnings.warn(f\"Pass {args_msg} as keyword args. From version \"\n"
     ]
    }
   ],
   "source": [
    "test = pd.read_csv(\"output/output_densenet_gauss_test_retrained.csv\", header=None)\n",
    "train = pd.read_csv(\"output/output_densenet_gauss_train_retrained.csv\", header=None)\n",
    "val = pd.read_csv(\"output/output_densenet_gauss_val_retrained.csv\", header=None)\n",
    "\n",
    "df_total = pd.concat([train,val])\n",
    "\n",
    "results = pd.concat([results,treina_melhor_modelo(df_total, test, best_params, \"densenet_gauss\")])"
   ]
  },
  {
   "cell_type": "markdown",
   "id": "satisfied-metropolitan",
   "metadata": {},
   "source": [
    "### MobileNet Normal"
   ]
  },
  {
   "cell_type": "code",
   "execution_count": 9,
   "id": "proper-rescue",
   "metadata": {},
   "outputs": [
    {
     "name": "stdout",
     "output_type": "stream",
     "text": [
      "(5394, 1281)\n",
      "Best Score:  0.9566158180443894\n",
      "Best params:  {'n_neighbors': 4, 'weights': 'distance'}\n",
      "\n",
      "\n",
      "Acurácia teste:  0.8542199488491049\n",
      "   \n",
      "              precision    recall  f1-score   support\n",
      "\n",
      "           0       0.64      0.96      0.77       100\n",
      "           1       0.98      0.82      0.89       291\n",
      "\n",
      "    accuracy                           0.85       391\n",
      "   macro avg       0.81      0.89      0.83       391\n",
      "weighted avg       0.90      0.85      0.86       391\n",
      "\n"
     ]
    },
    {
     "data": {
      "image/png": "[encoded data removed]",
      "text/plain": [
       "<Figure size 720x504 with 2 Axes>"
      ]
     },
     "metadata": {
      "needs_background": "light"
     },
     "output_type": "display_data"
    }
   ],
   "source": [
    "test = pd.read_csv(\"output/output_mobilenet_test_retrained.csv\", header=None)\n",
    "train = pd.read_csv(\"output/output_mobilenet_train_retrained.csv\", header=None)\n",
    "val = pd.read_csv(\"output/output_mobilenet_val_retrained.csv\", header=None)\n",
    "\n",
    "df_total = pd.concat([train,val])\n",
    "print(df_total.shape)\n",
    "\n",
    "\n",
    "best_params = train_predict_KNN(df_total, test)"
   ]
  },
  {
   "cell_type": "code",
   "execution_count": 10,
   "id": "republican-enterprise",
   "metadata": {},
   "outputs": [
    {
     "name": "stderr",
     "output_type": "stream",
     "text": [
      "/home/dell/.local/lib/python3.8/site-packages/sklearn/utils/validation.py:70: FutureWarning: Pass weights=distance as keyword args. From version 1.0 (renaming of 0.25) passing these as positional arguments will result in an error\n",
      "  warnings.warn(f\"Pass {args_msg} as keyword args. From version \"\n"
     ]
    }
   ],
   "source": [
    "test = pd.read_csv(\"output/output_mobilenet_test_retrained.csv\", header=None)\n",
    "train = pd.read_csv(\"output/output_mobilenet_train_retrained.csv\", header=None)\n",
    "val = pd.read_csv(\"output/output_mobilenet_val_retrained.csv\", header=None)\n",
    "\n",
    "df_total = pd.concat([train,val])\n",
    "\n",
    "results = pd.concat([results,treina_melhor_modelo(df_total, test, best_params, \"mobilenet\")])"
   ]
  },
  {
   "cell_type": "markdown",
   "id": "casual-somerset",
   "metadata": {},
   "source": [
    "### MobileNet Augmentation"
   ]
  },
  {
   "cell_type": "code",
   "execution_count": 12,
   "id": "broken-granny",
   "metadata": {},
   "outputs": [
    {
     "name": "stdout",
     "output_type": "stream",
     "text": [
      "(10788, 1281)\n",
      "Best Score:  0.9372453708081936\n",
      "Best params:  {'n_neighbors': 4, 'weights': 'distance'}\n",
      "\n",
      "\n",
      "Acurácia teste:  0.8491048593350383\n",
      "   \n",
      "              precision    recall  f1-score   support\n",
      "\n",
      "           0       0.64      0.95      0.76       100\n",
      "           1       0.98      0.81      0.89       291\n",
      "\n",
      "    accuracy                           0.85       391\n",
      "   macro avg       0.81      0.88      0.83       391\n",
      "weighted avg       0.89      0.85      0.86       391\n",
      "\n"
     ]
    },
    {
     "data": {
      "image/png": "[encoded data removed]",
      "text/plain": [
       "<Figure size 720x504 with 2 Axes>"
      ]
     },
     "metadata": {
      "needs_background": "light"
     },
     "output_type": "display_data"
    }
   ],
   "source": [
    "test = pd.read_csv(\"output/output_mobilenet_gauss_test_retrained.csv\", header=None)\n",
    "train = pd.read_csv(\"output/output_mobilenet_gauss_train_retrained.csv\", header=None)\n",
    "val = pd.read_csv(\"output/output_mobilenet_gauss_val_retrained.csv\", header=None)\n",
    "\n",
    "df_total = pd.concat([train,val])\n",
    "print(df_total.shape)\n",
    "\n",
    "\n",
    "best_params = train_predict_KNN(df_total, test)"
   ]
  },
  {
   "cell_type": "code",
   "execution_count": 13,
   "id": "honest-columbus",
   "metadata": {},
   "outputs": [
    {
     "name": "stderr",
     "output_type": "stream",
     "text": [
      "/home/dell/.local/lib/python3.8/site-packages/sklearn/utils/validation.py:70: FutureWarning: Pass weights=distance as keyword args. From version 1.0 (renaming of 0.25) passing these as positional arguments will result in an error\n",
      "  warnings.warn(f\"Pass {args_msg} as keyword args. From version \"\n"
     ]
    }
   ],
   "source": [
    "test = pd.read_csv(\"output/output_mobilenet_gauss_test_retrained.csv\", header=None)\n",
    "train = pd.read_csv(\"output/output_mobilenet_gauss_train_retrained.csv\", header=None)\n",
    "val = pd.read_csv(\"output/output_mobilenet_gauss_val_retrained.csv\", header=None)\n",
    "\n",
    "df_total = pd.concat([train,val])\n",
    "\n",
    "results = pd.concat([results,treina_melhor_modelo(df_total, test, best_params, \"mobilenet_gauss\")])"
   ]
  },
  {
   "cell_type": "markdown",
   "id": "brilliant-torture",
   "metadata": {},
   "source": [
    "### VGG16 Normal"
   ]
  },
  {
   "cell_type": "code",
   "execution_count": 14,
   "id": "subtle-thousand",
   "metadata": {},
   "outputs": [
    {
     "name": "stdout",
     "output_type": "stream",
     "text": [
      "(5394, 513)\n",
      "Best Score:  0.9773823266680409\n",
      "Best params:  {'n_neighbors': 6, 'weights': 'distance'}\n",
      "\n",
      "\n",
      "Acurácia teste:  0.907928388746803\n",
      "   \n",
      "              precision    recall  f1-score   support\n",
      "\n",
      "           0       0.76      0.93      0.84       100\n",
      "           1       0.97      0.90      0.94       291\n",
      "\n",
      "    accuracy                           0.91       391\n",
      "   macro avg       0.87      0.92      0.89       391\n",
      "weighted avg       0.92      0.91      0.91       391\n",
      "\n"
     ]
    },
    {
     "data": {
      "image/png": "[encoded data removed]",
      "text/plain": [
       "<Figure size 720x504 with 2 Axes>"
      ]
     },
     "metadata": {
      "needs_background": "light"
     },
     "output_type": "display_data"
    }
   ],
   "source": [
    "test = pd.read_csv(\"output/output_vgg16_test_retrained.csv\", header=None)\n",
    "train = pd.read_csv(\"output/output_vgg16_train_retrained.csv\", header=None)\n",
    "val = pd.read_csv(\"output/output_vgg16_val_retrained.csv\", header=None)\n",
    "\n",
    "df_total = pd.concat([train,val])\n",
    "print(df_total.shape)\n",
    "\n",
    "\n",
    "best_params = train_predict_KNN(df_total, test)"
   ]
  },
  {
   "cell_type": "code",
   "execution_count": 15,
   "id": "moved-output",
   "metadata": {},
   "outputs": [
    {
     "name": "stderr",
     "output_type": "stream",
     "text": [
      "/home/dell/.local/lib/python3.8/site-packages/sklearn/utils/validation.py:70: FutureWarning: Pass weights=distance as keyword args. From version 1.0 (renaming of 0.25) passing these as positional arguments will result in an error\n",
      "  warnings.warn(f\"Pass {args_msg} as keyword args. From version \"\n"
     ]
    }
   ],
   "source": [
    "test = pd.read_csv(\"output/output_vgg16_test_retrained.csv\", header=None)\n",
    "train = pd.read_csv(\"output/output_vgg16_train_retrained.csv\", header=None)\n",
    "val = pd.read_csv(\"output/output_vgg16_val_retrained.csv\", header=None)\n",
    "\n",
    "df_total = pd.concat([train,val])\n",
    "\n",
    "results = pd.concat([results,treina_melhor_modelo(df_total, test, best_params, \"vgg16\")])"
   ]
  },
  {
   "cell_type": "markdown",
   "id": "responsible-object",
   "metadata": {},
   "source": [
    "### VGG16 Augmentation"
   ]
  },
  {
   "cell_type": "code",
   "execution_count": 16,
   "id": "adequate-bracket",
   "metadata": {},
   "outputs": [
    {
     "name": "stdout",
     "output_type": "stream",
     "text": [
      "(10788, 513)\n",
      "Best Score:  0.9582864639663263\n",
      "Best params:  {'n_neighbors': 4, 'weights': 'distance'}\n",
      "\n",
      "\n",
      "Acurácia teste:  0.9053708439897699\n",
      "   \n",
      "              precision    recall  f1-score   support\n",
      "\n",
      "           0       0.76      0.92      0.83       100\n",
      "           1       0.97      0.90      0.93       291\n",
      "\n",
      "    accuracy                           0.91       391\n",
      "   macro avg       0.87      0.91      0.88       391\n",
      "weighted avg       0.92      0.91      0.91       391\n",
      "\n"
     ]
    },
    {
     "data": {
      "image/png": "[encoded data removed]",
      "text/plain": [
       "<Figure size 720x504 with 2 Axes>"
      ]
     },
     "metadata": {
      "needs_background": "light"
     },
     "output_type": "display_data"
    }
   ],
   "source": [
    "test = pd.read_csv(\"output/output_vgg16_gauss_test_retrained.csv\", header=None)\n",
    "train = pd.read_csv(\"output/output_vgg16_gauss_train_retrained.csv\", header=None)\n",
    "val = pd.read_csv(\"output/output_vgg16_gauss_val_retrained.csv\", header=None)\n",
    "\n",
    "df_total = pd.concat([train,val])\n",
    "print(df_total.shape)\n",
    "\n",
    "\n",
    "best_params = train_predict_KNN(df_total, test)"
   ]
  },
  {
   "cell_type": "code",
   "execution_count": 18,
   "id": "contrary-wallpaper",
   "metadata": {},
   "outputs": [
    {
     "name": "stderr",
     "output_type": "stream",
     "text": [
      "/home/dell/.local/lib/python3.8/site-packages/sklearn/utils/validation.py:70: FutureWarning: Pass weights=distance as keyword args. From version 1.0 (renaming of 0.25) passing these as positional arguments will result in an error\n",
      "  warnings.warn(f\"Pass {args_msg} as keyword args. From version \"\n"
     ]
    }
   ],
   "source": [
    "test = pd.read_csv(\"output/output_vgg16_gauss_test_retrained.csv\", header=None)\n",
    "train = pd.read_csv(\"output/output_vgg16_gauss_train_retrained.csv\", header=None)\n",
    "val = pd.read_csv(\"output/output_vgg16_gauss_val_retrained.csv\", header=None)\n",
    "\n",
    "df_total = pd.concat([train,val])\n",
    "\n",
    "results = pd.concat([results,treina_melhor_modelo(df_total, test, best_params, \"vgg16_gauss\")])"
   ]
  },
  {
   "cell_type": "code",
   "execution_count": 19,
   "id": "meaningful-jurisdiction",
   "metadata": {},
   "outputs": [
    {
     "data": {
      "text/html": [
       "<div>\n",
       "<style scoped>\n",
       "    .dataframe tbody tr th:only-of-type {\n",
       "        vertical-align: middle;\n",
       "    }\n",
       "\n",
       "    .dataframe tbody tr th {\n",
       "        vertical-align: top;\n",
       "    }\n",
       "\n",
       "    .dataframe thead th {\n",
       "        text-align: right;\n",
       "    }\n",
       "</style>\n",
       "<table border=\"1\" class=\"dataframe\">\n",
       "  <thead>\n",
       "    <tr style=\"text-align: right;\">\n",
       "      <th></th>\n",
       "      <th>base</th>\n",
       "      <th>acuracia-teste</th>\n",
       "      <th>precision-covid-teste</th>\n",
       "      <th>recall-covid-teste</th>\n",
       "      <th>f1-covid-teste</th>\n",
       "      <th>precision-non-covid-teste</th>\n",
       "      <th>recall-non-covid-teste</th>\n",
       "      <th>f1-non-covid-teste</th>\n",
       "      <th>conf-matrix-teste</th>\n",
       "      <th>acuracia-val</th>\n",
       "      <th>precision-covid-val</th>\n",
       "      <th>recall-covid-val</th>\n",
       "      <th>f1-covid-val</th>\n",
       "      <th>precision-non-covid-val</th>\n",
       "      <th>recall-non-covid-val</th>\n",
       "      <th>f1-non-covid-val</th>\n",
       "      <th>conf-matrix-val</th>\n",
       "    </tr>\n",
       "  </thead>\n",
       "  <tbody>\n",
       "    <tr>\n",
       "      <th>0</th>\n",
       "      <td>densenet</td>\n",
       "      <td>0.902813</td>\n",
       "      <td>0.977358</td>\n",
       "      <td>0.890034</td>\n",
       "      <td>0.931655</td>\n",
       "      <td>0.746032</td>\n",
       "      <td>0.94</td>\n",
       "      <td>0.831858</td>\n",
       "      <td>[[94, 6], [32, 259]]</td>\n",
       "      <td>0.972222</td>\n",
       "      <td>0.985507</td>\n",
       "      <td>0.944444</td>\n",
       "      <td>0.964539</td>\n",
       "      <td>0.963964</td>\n",
       "      <td>0.990741</td>\n",
       "      <td>0.977169</td>\n",
       "      <td>[[107, 1], [4, 68]]</td>\n",
       "    </tr>\n",
       "    <tr>\n",
       "      <th>1</th>\n",
       "      <td>densenet</td>\n",
       "      <td>0.905371</td>\n",
       "      <td>0.977444</td>\n",
       "      <td>0.893471</td>\n",
       "      <td>0.933573</td>\n",
       "      <td>0.752000</td>\n",
       "      <td>0.94</td>\n",
       "      <td>0.835556</td>\n",
       "      <td>[[94, 6], [31, 260]]</td>\n",
       "      <td>0.983333</td>\n",
       "      <td>1.000000</td>\n",
       "      <td>0.958333</td>\n",
       "      <td>0.978723</td>\n",
       "      <td>0.972973</td>\n",
       "      <td>1.000000</td>\n",
       "      <td>0.986301</td>\n",
       "      <td>[[108, 0], [3, 69]]</td>\n",
       "    </tr>\n",
       "    <tr>\n",
       "      <th>2</th>\n",
       "      <td>densenet</td>\n",
       "      <td>0.902813</td>\n",
       "      <td>0.980989</td>\n",
       "      <td>0.886598</td>\n",
       "      <td>0.931408</td>\n",
       "      <td>0.742188</td>\n",
       "      <td>0.95</td>\n",
       "      <td>0.833333</td>\n",
       "      <td>[[95, 5], [33, 258]]</td>\n",
       "      <td>0.988889</td>\n",
       "      <td>1.000000</td>\n",
       "      <td>0.972222</td>\n",
       "      <td>0.985915</td>\n",
       "      <td>0.981818</td>\n",
       "      <td>1.000000</td>\n",
       "      <td>0.990826</td>\n",
       "      <td>[[108, 0], [2, 70]]</td>\n",
       "    </tr>\n",
       "    <tr>\n",
       "      <th>3</th>\n",
       "      <td>densenet</td>\n",
       "      <td>0.905371</td>\n",
       "      <td>0.981061</td>\n",
       "      <td>0.890034</td>\n",
       "      <td>0.933333</td>\n",
       "      <td>0.748031</td>\n",
       "      <td>0.95</td>\n",
       "      <td>0.837004</td>\n",
       "      <td>[[95, 5], [32, 259]]</td>\n",
       "      <td>0.983333</td>\n",
       "      <td>0.985915</td>\n",
       "      <td>0.972222</td>\n",
       "      <td>0.979021</td>\n",
       "      <td>0.981651</td>\n",
       "      <td>0.990741</td>\n",
       "      <td>0.986175</td>\n",
       "      <td>[[107, 1], [2, 70]]</td>\n",
       "    </tr>\n",
       "    <tr>\n",
       "      <th>4</th>\n",
       "      <td>densenet</td>\n",
       "      <td>0.902813</td>\n",
       "      <td>0.977358</td>\n",
       "      <td>0.890034</td>\n",
       "      <td>0.931655</td>\n",
       "      <td>0.746032</td>\n",
       "      <td>0.94</td>\n",
       "      <td>0.831858</td>\n",
       "      <td>[[94, 6], [32, 259]]</td>\n",
       "      <td>0.983333</td>\n",
       "      <td>0.985915</td>\n",
       "      <td>0.972222</td>\n",
       "      <td>0.979021</td>\n",
       "      <td>0.981651</td>\n",
       "      <td>0.990741</td>\n",
       "      <td>0.986175</td>\n",
       "      <td>[[107, 1], [2, 70]]</td>\n",
       "    </tr>\n",
       "    <tr>\n",
       "      <th>...</th>\n",
       "      <td>...</td>\n",
       "      <td>...</td>\n",
       "      <td>...</td>\n",
       "      <td>...</td>\n",
       "      <td>...</td>\n",
       "      <td>...</td>\n",
       "      <td>...</td>\n",
       "      <td>...</td>\n",
       "      <td>...</td>\n",
       "      <td>...</td>\n",
       "      <td>...</td>\n",
       "      <td>...</td>\n",
       "      <td>...</td>\n",
       "      <td>...</td>\n",
       "      <td>...</td>\n",
       "      <td>...</td>\n",
       "      <td>...</td>\n",
       "    </tr>\n",
       "    <tr>\n",
       "      <th>25</th>\n",
       "      <td>vgg16_gauss</td>\n",
       "      <td>0.900256</td>\n",
       "      <td>0.970149</td>\n",
       "      <td>0.893471</td>\n",
       "      <td>0.930233</td>\n",
       "      <td>0.747967</td>\n",
       "      <td>0.92</td>\n",
       "      <td>0.825112</td>\n",
       "      <td>[[92, 8], [31, 260]]</td>\n",
       "      <td>0.961003</td>\n",
       "      <td>0.945205</td>\n",
       "      <td>0.958333</td>\n",
       "      <td>0.951724</td>\n",
       "      <td>0.971831</td>\n",
       "      <td>0.962791</td>\n",
       "      <td>0.967290</td>\n",
       "      <td>[[207, 8], [6, 138]]</td>\n",
       "    </tr>\n",
       "    <tr>\n",
       "      <th>26</th>\n",
       "      <td>vgg16_gauss</td>\n",
       "      <td>0.907928</td>\n",
       "      <td>0.973978</td>\n",
       "      <td>0.900344</td>\n",
       "      <td>0.935714</td>\n",
       "      <td>0.762295</td>\n",
       "      <td>0.93</td>\n",
       "      <td>0.837838</td>\n",
       "      <td>[[93, 7], [29, 262]]</td>\n",
       "      <td>0.969359</td>\n",
       "      <td>0.958333</td>\n",
       "      <td>0.965035</td>\n",
       "      <td>0.961672</td>\n",
       "      <td>0.976744</td>\n",
       "      <td>0.972222</td>\n",
       "      <td>0.974478</td>\n",
       "      <td>[[210, 6], [5, 138]]</td>\n",
       "    </tr>\n",
       "    <tr>\n",
       "      <th>27</th>\n",
       "      <td>vgg16_gauss</td>\n",
       "      <td>0.907928</td>\n",
       "      <td>0.970480</td>\n",
       "      <td>0.903780</td>\n",
       "      <td>0.935943</td>\n",
       "      <td>0.766667</td>\n",
       "      <td>0.92</td>\n",
       "      <td>0.836364</td>\n",
       "      <td>[[92, 8], [28, 263]]</td>\n",
       "      <td>0.933148</td>\n",
       "      <td>0.916084</td>\n",
       "      <td>0.916084</td>\n",
       "      <td>0.916084</td>\n",
       "      <td>0.944444</td>\n",
       "      <td>0.944444</td>\n",
       "      <td>0.944444</td>\n",
       "      <td>[[204, 12], [12, 131]]</td>\n",
       "    </tr>\n",
       "    <tr>\n",
       "      <th>28</th>\n",
       "      <td>vgg16_gauss</td>\n",
       "      <td>0.902813</td>\n",
       "      <td>0.970260</td>\n",
       "      <td>0.896907</td>\n",
       "      <td>0.932143</td>\n",
       "      <td>0.754098</td>\n",
       "      <td>0.92</td>\n",
       "      <td>0.828829</td>\n",
       "      <td>[[92, 8], [30, 261]]</td>\n",
       "      <td>0.958217</td>\n",
       "      <td>0.950704</td>\n",
       "      <td>0.944056</td>\n",
       "      <td>0.947368</td>\n",
       "      <td>0.963134</td>\n",
       "      <td>0.967593</td>\n",
       "      <td>0.965358</td>\n",
       "      <td>[[209, 7], [8, 135]]</td>\n",
       "    </tr>\n",
       "    <tr>\n",
       "      <th>29</th>\n",
       "      <td>vgg16_gauss</td>\n",
       "      <td>0.905371</td>\n",
       "      <td>0.970370</td>\n",
       "      <td>0.900344</td>\n",
       "      <td>0.934046</td>\n",
       "      <td>0.760331</td>\n",
       "      <td>0.92</td>\n",
       "      <td>0.832579</td>\n",
       "      <td>[[92, 8], [29, 262]]</td>\n",
       "      <td>0.952646</td>\n",
       "      <td>0.943662</td>\n",
       "      <td>0.937063</td>\n",
       "      <td>0.940351</td>\n",
       "      <td>0.958525</td>\n",
       "      <td>0.962963</td>\n",
       "      <td>0.960739</td>\n",
       "      <td>[[208, 8], [9, 134]]</td>\n",
       "    </tr>\n",
       "  </tbody>\n",
       "</table>\n",
       "<p>180 rows × 17 columns</p>\n",
       "</div>"
      ],
      "text/plain": [
       "           base  acuracia-teste  precision-covid-teste  recall-covid-teste  \\\n",
       "0      densenet        0.902813               0.977358            0.890034   \n",
       "1      densenet        0.905371               0.977444            0.893471   \n",
       "2      densenet        0.902813               0.980989            0.886598   \n",
       "3      densenet        0.905371               0.981061            0.890034   \n",
       "4      densenet        0.902813               0.977358            0.890034   \n",
       "..          ...             ...                    ...                 ...   \n",
       "25  vgg16_gauss        0.900256               0.970149            0.893471   \n",
       "26  vgg16_gauss        0.907928               0.973978            0.900344   \n",
       "27  vgg16_gauss        0.907928               0.970480            0.903780   \n",
       "28  vgg16_gauss        0.902813               0.970260            0.896907   \n",
       "29  vgg16_gauss        0.905371               0.970370            0.900344   \n",
       "\n",
       "    f1-covid-teste  precision-non-covid-teste  recall-non-covid-teste  \\\n",
       "0         0.931655                   0.746032                    0.94   \n",
       "1         0.933573                   0.752000                    0.94   \n",
       "2         0.931408                   0.742188                    0.95   \n",
       "3         0.933333                   0.748031                    0.95   \n",
       "4         0.931655                   0.746032                    0.94   \n",
       "..             ...                        ...                     ...   \n",
       "25        0.930233                   0.747967                    0.92   \n",
       "26        0.935714                   0.762295                    0.93   \n",
       "27        0.935943                   0.766667                    0.92   \n",
       "28        0.932143                   0.754098                    0.92   \n",
       "29        0.934046                   0.760331                    0.92   \n",
       "\n",
       "    f1-non-covid-teste     conf-matrix-teste  acuracia-val  \\\n",
       "0             0.831858  [[94, 6], [32, 259]]      0.972222   \n",
       "1             0.835556  [[94, 6], [31, 260]]      0.983333   \n",
       "2             0.833333  [[95, 5], [33, 258]]      0.988889   \n",
       "3             0.837004  [[95, 5], [32, 259]]      0.983333   \n",
       "4             0.831858  [[94, 6], [32, 259]]      0.983333   \n",
       "..                 ...                   ...           ...   \n",
       "25            0.825112  [[92, 8], [31, 260]]      0.961003   \n",
       "26            0.837838  [[93, 7], [29, 262]]      0.969359   \n",
       "27            0.836364  [[92, 8], [28, 263]]      0.933148   \n",
       "28            0.828829  [[92, 8], [30, 261]]      0.958217   \n",
       "29            0.832579  [[92, 8], [29, 262]]      0.952646   \n",
       "\n",
       "    precision-covid-val  recall-covid-val  f1-covid-val  \\\n",
       "0              0.985507          0.944444      0.964539   \n",
       "1              1.000000          0.958333      0.978723   \n",
       "2              1.000000          0.972222      0.985915   \n",
       "3              0.985915          0.972222      0.979021   \n",
       "4              0.985915          0.972222      0.979021   \n",
       "..                  ...               ...           ...   \n",
       "25             0.945205          0.958333      0.951724   \n",
       "26             0.958333          0.965035      0.961672   \n",
       "27             0.916084          0.916084      0.916084   \n",
       "28             0.950704          0.944056      0.947368   \n",
       "29             0.943662          0.937063      0.940351   \n",
       "\n",
       "    precision-non-covid-val  recall-non-covid-val  f1-non-covid-val  \\\n",
       "0                  0.963964              0.990741          0.977169   \n",
       "1                  0.972973              1.000000          0.986301   \n",
       "2                  0.981818              1.000000          0.990826   \n",
       "3                  0.981651              0.990741          0.986175   \n",
       "4                  0.981651              0.990741          0.986175   \n",
       "..                      ...                   ...               ...   \n",
       "25                 0.971831              0.962791          0.967290   \n",
       "26                 0.976744              0.972222          0.974478   \n",
       "27                 0.944444              0.944444          0.944444   \n",
       "28                 0.963134              0.967593          0.965358   \n",
       "29                 0.958525              0.962963          0.960739   \n",
       "\n",
       "           conf-matrix-val  \n",
       "0      [[107, 1], [4, 68]]  \n",
       "1      [[108, 0], [3, 69]]  \n",
       "2      [[108, 0], [2, 70]]  \n",
       "3      [[107, 1], [2, 70]]  \n",
       "4      [[107, 1], [2, 70]]  \n",
       "..                     ...  \n",
       "25    [[207, 8], [6, 138]]  \n",
       "26    [[210, 6], [5, 138]]  \n",
       "27  [[204, 12], [12, 131]]  \n",
       "28    [[209, 7], [8, 135]]  \n",
       "29    [[208, 8], [9, 134]]  \n",
       "\n",
       "[180 rows x 17 columns]"
      ]
     },
     "execution_count": 19,
     "metadata": {},
     "output_type": "execute_result"
    }
   ],
   "source": [
    "results"
   ]
  }
 ],
 "metadata": {
  "kernelspec": {
   "display_name": "Python [conda env:tensorflow] *",
   "language": "python",
   "name": "conda-env-tensorflow-py"
  },
  "language_info": {
   "codemirror_mode": {
    "name": "ipython",
    "version": 3
   },
   "file_extension": ".py",
   "mimetype": "text/x-python",
   "name": "python",
   "nbconvert_exporter": "python",
   "pygments_lexer": "ipython3",
   "version": "3.8.11"
  }
 },
 "nbformat": 4,
 "nbformat_minor": 5
}
