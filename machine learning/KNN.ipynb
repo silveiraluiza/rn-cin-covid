{
 "cells": [
  {
   "cell_type": "code",
   "execution_count": 1,
   "id": "accredited-backing",
   "metadata": {},
   "outputs": [],
   "source": [
    "from sklearn.model_selection import RandomizedSearchCV\n",
    "from sklearn.model_selection import GridSearchCV\n",
    "from sklearn.model_selection import train_test_split\n",
    "from sklearn.neighbors import KNeighborsClassifier\n",
    "import pandas as pd\n",
    "import os\n",
    "from sklearn.metrics import accuracy_score\n",
    "from sklearn.metrics import classification_report\n",
    "from sklearn.metrics import confusion_matrix\n",
    "import seaborn as sn\n",
    "import matplotlib.pyplot as plt\n",
    "\n",
    "path = '/home/dell/Documentos/rn-cin-covid/'\n",
    "os.chdir(path)\n"
   ]
  },
  {
   "cell_type": "code",
   "execution_count": 2,
   "id": "studied-render",
   "metadata": {},
   "outputs": [],
   "source": [
    "def evaluate_knn(model, X_test, y_test):\n",
    "    \n",
    "    y_pred = model.predict(X_test)\n",
    "    \n",
    "    print(\"Acurácia teste: \", accuracy_score(y_test, y_pred))\n",
    "    print(\"   \")\n",
    "    \n",
    "    print(classification_report(y_test, y_pred))\n",
    "    \n",
    "    df_cm = confusion_matrix(y_test, y_pred)\n",
    "\n",
    "    plt.figure(figsize = (10,7))\n",
    "    sn.heatmap(df_cm, annot=True, fmt='.3g')\n",
    "    plt.show()"
   ]
  },
  {
   "cell_type": "code",
   "execution_count": 3,
   "id": "ahead-marijuana",
   "metadata": {},
   "outputs": [],
   "source": [
    "def train_predict_KNN(df_total, test):\n",
    "    # Train\n",
    "    y = df_total[0]\n",
    "    X = df_total.drop(0, axis=1)\n",
    "\n",
    "    y = y.to_numpy()\n",
    "    X = X.to_numpy()\n",
    "    \n",
    "    #Test\n",
    "    y_test = test[0]\n",
    "    X_test = test.drop(0, axis=1)\n",
    "\n",
    "    y_test = y_test.to_numpy()\n",
    "    X_test = X_test.to_numpy()\n",
    "    \n",
    "    # Grid\n",
    "    k_range = list(range(1,30))\n",
    "    weight_options = [\"uniform\", \"distance\"]\n",
    "\n",
    "    param_grid = dict(n_neighbors = k_range, weights = weight_options)\n",
    "    #print (param_grid)\n",
    "    knn = KNeighborsClassifier()\n",
    "\n",
    "    grid = GridSearchCV(knn, param_grid, cv = 10, scoring = 'accuracy')\n",
    "    grid.fit(X,y)\n",
    "\n",
    "    #print(grid.grid_scores_)\n",
    "    '''\n",
    "    print(grid.grid_scores_[0].parameters)\n",
    "    print(grid.grid_scores_[0].cv_validation_scores)\n",
    "    print(grid.grid_scores_[0].mean_validation_score)\n",
    "    '''\n",
    "\n",
    "    print (\"Best Score: \", grid.best_score_)\n",
    "    print (\"Best params: \", grid.best_params_)\n",
    "    print(\"\\n\")\n",
    "    \n",
    "    evaluate_knn(grid.best_estimator_, X_test, y_test)"
   ]
  },
  {
   "cell_type": "markdown",
   "id": "ordinary-preservation",
   "metadata": {},
   "source": [
    "### Densenet Retrained"
   ]
  },
  {
   "cell_type": "code",
   "execution_count": 4,
   "id": "later-limit",
   "metadata": {},
   "outputs": [
    {
     "name": "stdout",
     "output_type": "stream",
     "text": [
      "(5308, 1025)\n",
      "Best Score:  0.9819120207511638\n",
      "Best params:  {'n_neighbors': 6, 'weights': 'distance'}\n",
      "\n",
      "\n",
      "Acurácia teste:  0.9207161125319693\n",
      "   \n",
      "              precision    recall  f1-score   support\n",
      "\n",
      "           0       0.79      0.93      0.86       100\n",
      "           1       0.97      0.92      0.95       291\n",
      "\n",
      "    accuracy                           0.92       391\n",
      "   macro avg       0.88      0.92      0.90       391\n",
      "weighted avg       0.93      0.92      0.92       391\n",
      "\n"
     ]
    },
    {
     "data": {
      "image/png": "[encoded data removed]",
      "text/plain": [
       "<Figure size 720x504 with 2 Axes>"
      ]
     },
     "metadata": {
      "needs_background": "light"
     },
     "output_type": "display_data"
    }
   ],
   "source": [
    "test = pd.read_csv(\"output/output_densenet_test_retrained.csv\", header=None)\n",
    "train = pd.read_csv(\"output/output_densenet_train_retrained.csv\", header=None)\n",
    "val = pd.read_csv(\"output/output_densenet_val_retrained.csv\", header=None)\n",
    "\n",
    "df_total = pd.concat([train,val])\n",
    "print(df_total.shape)\n",
    "\n",
    "\n",
    "train_predict_KNN(df_total, test)"
   ]
  },
  {
   "cell_type": "markdown",
   "id": "satisfied-metropolitan",
   "metadata": {},
   "source": [
    "### Mobilenet retrained"
   ]
  },
  {
   "cell_type": "code",
   "execution_count": 5,
   "id": "checked-summary",
   "metadata": {},
   "outputs": [
    {
     "name": "stdout",
     "output_type": "stream",
     "text": [
      "(5308, 1281)\n",
      "Best Score:  0.9568592545215507\n",
      "Best params:  {'n_neighbors': 6, 'weights': 'distance'}\n",
      "\n",
      "\n",
      "Acurácia teste:  0.8209718670076727\n",
      "   \n",
      "              precision    recall  f1-score   support\n",
      "\n",
      "           0       0.59      0.96      0.73       100\n",
      "           1       0.98      0.77      0.87       291\n",
      "\n",
      "    accuracy                           0.82       391\n",
      "   macro avg       0.79      0.87      0.80       391\n",
      "weighted avg       0.88      0.82      0.83       391\n",
      "\n"
     ]
    },
    {
     "data": {
      "image/png": "[encoded data removed]",
      "text/plain": [
       "<Figure size 720x504 with 2 Axes>"
      ]
     },
     "metadata": {
      "needs_background": "light"
     },
     "output_type": "display_data"
    }
   ],
   "source": [
    "test = pd.read_csv(\"output/output_mobilenet_test_retrained.csv\", header=None)\n",
    "train = pd.read_csv(\"output/output_mobilenet_train_retrained.csv\", header=None)\n",
    "val = pd.read_csv(\"output/output_mobilenet_val_retrained.csv\", header=None)\n",
    "\n",
    "df_total = pd.concat([train,val])\n",
    "print(df_total.shape)\n",
    "\n",
    "\n",
    "train_predict_KNN(df_total, test)"
   ]
  },
  {
   "cell_type": "markdown",
   "id": "valuable-forwarding",
   "metadata": {},
   "source": [
    "### MobileNet Gauss"
   ]
  },
  {
   "cell_type": "code",
   "execution_count": 6,
   "id": "eleven-bracelet",
   "metadata": {},
   "outputs": [
    {
     "name": "stdout",
     "output_type": "stream",
     "text": [
      "(10616, 1281)\n",
      "Best Score:  0.9288801205557065\n",
      "Best params:  {'n_neighbors': 4, 'weights': 'distance'}\n",
      "\n",
      "\n",
      "Acurácia teste:  0.8516624040920716\n",
      "   \n",
      "              precision    recall  f1-score   support\n",
      "\n",
      "           0       0.65      0.93      0.76       100\n",
      "           1       0.97      0.82      0.89       291\n",
      "\n",
      "    accuracy                           0.85       391\n",
      "   macro avg       0.81      0.88      0.83       391\n",
      "weighted avg       0.89      0.85      0.86       391\n",
      "\n"
     ]
    },
    {
     "data": {
      "image/png": "[encoded data removed]",
      "text/plain": [
       "<Figure size 720x504 with 2 Axes>"
      ]
     },
     "metadata": {
      "needs_background": "light"
     },
     "output_type": "display_data"
    }
   ],
   "source": [
    "test = pd.read_csv(\"output/output_mobilenet_gauss_test_retrained.csv\", header=None)\n",
    "train = pd.read_csv(\"output/output_mobilenet_gauss_train_retrained.csv\", header=None)\n",
    "val = pd.read_csv(\"output/output_mobilenet_gauss_val_retrained.csv\", header=None)\n",
    "\n",
    "df_total = pd.concat([train,val])\n",
    "print(df_total.shape)\n",
    "\n",
    "\n",
    "train_predict_KNN(df_total, test)"
   ]
  }
 ],
 "metadata": {
  "kernelspec": {
   "display_name": "Python [conda env:tensorflow] *",
   "language": "python",
   "name": "conda-env-tensorflow-py"
  },
  "language_info": {
   "codemirror_mode": {
    "name": "ipython",
    "version": 3
   },
   "file_extension": ".py",
   "mimetype": "text/x-python",
   "name": "python",
   "nbconvert_exporter": "python",
   "pygments_lexer": "ipython3",
   "version": "3.8.11"
  }
 },
 "nbformat": 4,
 "nbformat_minor": 5
}
