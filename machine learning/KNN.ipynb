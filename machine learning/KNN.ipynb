{
 "cells": [
  {
   "cell_type": "code",
   "execution_count": 1,
   "id": "accredited-backing",
   "metadata": {},
   "outputs": [],
   "source": [
    "from sklearn.model_selection import RandomizedSearchCV\n",
    "from sklearn.model_selection import GridSearchCV\n",
    "from sklearn.model_selection import train_test_split\n",
    "from sklearn.neighbors import KNeighborsClassifier\n",
    "import pandas as pd\n",
    "import os\n",
    "from sklearn.metrics import accuracy_score\n",
    "from sklearn.metrics import classification_report\n",
    "from sklearn.metrics import confusion_matrix\n",
    "import seaborn as sn\n",
    "import matplotlib.pyplot as plt\n",
    "from sklearn.model_selection import StratifiedKFold\n",
    "\n",
    "\n",
    "path = '/home/dell/Documentos/rn-cin-covid/'\n",
    "os.chdir(path)\n"
   ]
  },
  {
   "cell_type": "code",
   "execution_count": 2,
   "id": "studied-render",
   "metadata": {},
   "outputs": [],
   "source": [
    "def evaluate_knn(model, X_test, y_test):\n",
    "    \n",
    "    y_pred = model.predict(X_test)\n",
    "    \n",
    "    print(\"Acurácia teste: \", accuracy_score(y_test, y_pred))\n",
    "    print(\"   \")\n",
    "    \n",
    "    print(classification_report(y_test, y_pred))\n",
    "    \n",
    "    df_cm = confusion_matrix(y_test, y_pred)\n",
    "\n",
    "    plt.figure(figsize = (10,7))\n",
    "    sn.heatmap(df_cm, annot=True, fmt='.3g')\n",
    "    plt.show()"
   ]
  },
  {
   "cell_type": "code",
   "execution_count": 3,
   "id": "ahead-marijuana",
   "metadata": {},
   "outputs": [],
   "source": [
    "def train_predict_KNN(df_total, test):\n",
    "    # Train\n",
    "    y = df_total[0]\n",
    "    X = df_total.drop(0, axis=1)\n",
    "\n",
    "    y = y.to_numpy()\n",
    "    X = X.to_numpy()\n",
    "    \n",
    "    #Test\n",
    "    y_test = test[0]\n",
    "    X_test = test.drop(0, axis=1)\n",
    "\n",
    "    y_test = y_test.to_numpy()\n",
    "    X_test = X_test.to_numpy()\n",
    "    \n",
    "    # Grid\n",
    "    k_range = list(range(1,30))\n",
    "    weight_options = [\"uniform\", \"distance\"]\n",
    "\n",
    "    param_grid = dict(n_neighbors = k_range, weights = weight_options)\n",
    "    #print (param_grid)\n",
    "    knn = KNeighborsClassifier()\n",
    "    folds = 10\n",
    "    skf = StratifiedKFold(n_splits=folds, shuffle = True, random_state = 999)\n",
    "    \n",
    "    grid = GridSearchCV(knn, param_grid, cv = skf, scoring = 'accuracy')\n",
    "    grid.fit(X,y)\n",
    "\n",
    "    #print(grid.grid_scores_)\n",
    "    '''\n",
    "    print(grid.grid_scores_[0].parameters)\n",
    "    print(grid.grid_scores_[0].cv_validation_scores)\n",
    "    print(grid.grid_scores_[0].mean_validation_score)\n",
    "    '''\n",
    "\n",
    "    print (\"Best Score: \", grid.best_score_)\n",
    "    print (\"Best params: \", grid.best_params_)\n",
    "    print(\"\\n\")\n",
    "    \n",
    "    evaluate_knn(grid.best_estimator_, X_test, y_test)\n",
    "    return grid.best_params_ "
   ]
  },
  {
   "cell_type": "code",
   "execution_count": 4,
   "id": "controversial-ownership",
   "metadata": {},
   "outputs": [],
   "source": [
    "def treina_melhor_modelo(df_total,test,best_params,base_name):\n",
    "    y = df_total[0]\n",
    "    X = df_total.drop(0, axis=1)\n",
    "\n",
    "    y = y.to_numpy()\n",
    "    X = X.to_numpy()\n",
    "\n",
    "    test_true_x = test.drop(0, axis=1).to_numpy()\n",
    "    test_true_y = test[0].to_numpy()\n",
    "\n",
    "    knn = KNeighborsClassifier(best_params['n_neighbors'], best_params['weights'])\n",
    "    knn_results = pd.DataFrame(columns=[\"base\", \"acuracia-teste\", \"precision-covid-teste\", \"recall-covid-teste\", \"f1-covid-teste\", \"precision-non-covid-teste\", \"recall-non-covid-teste\", \"f1-non-covid-teste\", \"conf-matrix-teste\", \"acuracia-val\", \"precision-covid-val\", \"recall-covid-val\", \"f1-covid-val\", \"precision-non-covid-val\", \"recall-non-covid-val\", \"f1-non-covid-val\", \"conf-matrix-val\"])\n",
    "\n",
    "    folds = 30\n",
    "\n",
    "    skf = StratifiedKFold(n_splits=folds, shuffle = True, random_state = 999)\n",
    "    StratifiedKFold(n_splits=2, random_state=None, shuffle=False)\n",
    "\n",
    "\n",
    "    acuracia_test = []\n",
    "    acuracia_val = []\n",
    "    pre_covid_t = []\n",
    "    re_covid_t = []\n",
    "    f1_covid_t = []\n",
    "    pre_ncovid_t = []\n",
    "    re_ncovid_t = []\n",
    "    f1_ncovid_t = []\n",
    "    pre_covid_v = []\n",
    "    re_covid_v = []\n",
    "    f1_covid_v = []\n",
    "    pre_ncovid_v = []\n",
    "    re_ncovid_v = []\n",
    "    f1_ncovid_v = []\n",
    "    base = []\n",
    "    conf_matrix_val = []\n",
    "    conf_matrix_test = []\n",
    "\n",
    "\n",
    "\n",
    "\n",
    "\n",
    "    for train_index, test_index in skf.split(X, y):\n",
    "        X_train, X_test = X[train_index], X[test_index]\n",
    "        y_train, y_test = y[train_index], y[test_index]\n",
    "        knn.fit(X_train, y_train)\n",
    "        y_pred = knn.predict(X_test)\n",
    "        y_pred_true = knn.predict(test_true_x) \n",
    "\n",
    "\n",
    "\n",
    "\n",
    "        df_cm = confusion_matrix(y_test, y_pred)\n",
    "        df_cm_test = confusion_matrix(test_true_y, y_pred_true)   \n",
    "        class_repo = classification_report(y_test, y_pred, output_dict=True)\n",
    "        class_repo_test = classification_report(test_true_y, y_pred_true, output_dict=True)\n",
    "\n",
    "        base.append(base_name)\n",
    "        acuracia_test.append(accuracy_score(test_true_y, y_pred_true))\n",
    "        acuracia_val.append(accuracy_score(y_test, y_pred))\n",
    "\n",
    "        pre_covid_t.append(class_repo_test['1'][\"precision\"])\n",
    "        re_covid_t.append(class_repo_test['1'][\"recall\"])\n",
    "        f1_covid_t.append(class_repo_test['1'][\"f1-score\"])\n",
    "        pre_ncovid_t.append(class_repo_test['0'][\"precision\"])\n",
    "        re_ncovid_t.append(class_repo_test['0'][\"recall\"])\n",
    "        f1_ncovid_t.append(class_repo_test['0'][\"f1-score\"])\n",
    "\n",
    "        pre_covid_v.append(class_repo['1'][\"precision\"])\n",
    "        re_covid_v.append(class_repo['1'][\"recall\"])\n",
    "        f1_covid_v.append(class_repo['1'][\"f1-score\"])\n",
    "        pre_ncovid_v.append(class_repo['0'][\"precision\"])\n",
    "        re_ncovid_v.append(class_repo['0'][\"recall\"])\n",
    "        f1_ncovid_v.append(class_repo['0'][\"f1-score\"])\n",
    "\n",
    "        conf_matrix_val.append(df_cm)\n",
    "        conf_matrix_test.append(df_cm_test)\n",
    "\n",
    "\n",
    "    knn_results[\"acuracia-teste\"] = acuracia_test\n",
    "    knn_results[\"acuracia-val\"] = acuracia_val \n",
    "    knn_results[\"precision-covid-teste\"] = pre_covid_t \n",
    "    knn_results[\"recall-covid-teste\"] = re_covid_t \n",
    "    knn_results[\"f1-covid-teste\"] = f1_covid_t \n",
    "    knn_results[\"precision-non-covid-teste\"] = pre_ncovid_t\n",
    "    knn_results[\"recall-non-covid-teste\"] = re_ncovid_t \n",
    "    knn_results[\"f1-non-covid-teste\"] = f1_ncovid_t \n",
    "    knn_results[\"precision-covid-val\"] = pre_covid_v \n",
    "    knn_results[\"recall-covid-val\"] = re_covid_v \n",
    "    knn_results[\"f1-covid-val\"] = f1_covid_v \n",
    "    knn_results[\"precision-non-covid-val\"] = pre_ncovid_v \n",
    "    knn_results[\"recall-non-covid-val\"] = re_ncovid_v \n",
    "    knn_results[\"f1-non-covid-val\"] = f1_ncovid_v \n",
    "    knn_results[\"base\"] = base \n",
    "    knn_results[\"conf-matrix-val\"] = conf_matrix_val\n",
    "    knn_results[\"conf-matrix-teste\"] = conf_matrix_test \n",
    "    \n",
    "    return(knn_results)"
   ]
  },
  {
   "cell_type": "markdown",
   "id": "ordinary-preservation",
   "metadata": {},
   "source": [
    "### Densenet Normal\n"
   ]
  },
  {
   "cell_type": "code",
   "execution_count": 5,
   "id": "later-limit",
   "metadata": {},
   "outputs": [
    {
     "name": "stdout",
     "output_type": "stream",
     "text": [
      "(5394, 1025)\n",
      "Best Score:  0.9781199752628323\n",
      "Best params:  {'n_neighbors': 5, 'weights': 'distance'}\n",
      "\n",
      "\n",
      "Acurácia teste:  0.9028132992327366\n",
      "   \n",
      "              precision    recall  f1-score   support\n",
      "\n",
      "           0       0.75      0.94      0.83       100\n",
      "           1       0.98      0.89      0.93       291\n",
      "\n",
      "    accuracy                           0.90       391\n",
      "   macro avg       0.86      0.92      0.88       391\n",
      "weighted avg       0.92      0.90      0.91       391\n",
      "\n"
     ]
    },
    {
     "data": {
      "image/png": "[encoded data removed]",
      "text/plain": [
       "<Figure size 720x504 with 2 Axes>"
      ]
     },
     "metadata": {
      "needs_background": "light"
     },
     "output_type": "display_data"
    }
   ],
   "source": [
    "test = pd.read_csv(\"output/output_densenet_test_retrained.csv\", header=None)\n",
    "train = pd.read_csv(\"output/output_densenet_train_retrained.csv\", header=None)\n",
    "val = pd.read_csv(\"output/output_densenet_val_retrained.csv\", header=None)\n",
    "\n",
    "df_total = pd.concat([train,val])\n",
    "print(df_total.shape)\n",
    "\n",
    "\n",
    "best_params = train_predict_KNN(df_total, test)"
   ]
  },
  {
   "cell_type": "code",
   "execution_count": 6,
   "id": "traditional-training",
   "metadata": {},
   "outputs": [
    {
     "name": "stderr",
     "output_type": "stream",
     "text": [
      "/home/dell/.local/lib/python3.8/site-packages/sklearn/utils/validation.py:70: FutureWarning: Pass weights=distance as keyword args. From version 1.0 (renaming of 0.25) passing these as positional arguments will result in an error\n",
      "  warnings.warn(f\"Pass {args_msg} as keyword args. From version \"\n"
     ]
    }
   ],
   "source": [
    "test = pd.read_csv(\"output/output_densenet_test_retrained.csv\", header=None)\n",
    "train = pd.read_csv(\"output/output_densenet_train_retrained.csv\", header=None)\n",
    "val = pd.read_csv(\"output/output_densenet_val_retrained.csv\", header=None)\n",
    "\n",
    "df_total = pd.concat([train,val])\n",
    "\n",
    "results = treina_melhor_modelo(df_total, test, best_params, \"densenet\")"
   ]
  },
  {
   "cell_type": "markdown",
   "id": "systematic-recruitment",
   "metadata": {},
   "source": [
    "### Densenet Augmentation\n"
   ]
  },
  {
   "cell_type": "code",
   "execution_count": 7,
   "id": "built-survey",
   "metadata": {},
   "outputs": [
    {
     "name": "stdout",
     "output_type": "stream",
     "text": [
      "(10788, 1025)\n",
      "Best Score:  0.9724692691129867\n",
      "Best params:  {'n_neighbors': 4, 'weights': 'distance'}\n",
      "\n",
      "\n",
      "Acurácia teste:  0.9258312020460358\n",
      "   \n",
      "              precision    recall  f1-score   support\n",
      "\n",
      "           0       0.78      0.98      0.87       100\n",
      "           1       0.99      0.91      0.95       291\n",
      "\n",
      "    accuracy                           0.93       391\n",
      "   macro avg       0.89      0.94      0.91       391\n",
      "weighted avg       0.94      0.93      0.93       391\n",
      "\n"
     ]
    },
    {
     "data": {
      "image/png": "[encoded data removed]",
      "text/plain": [
       "<Figure size 720x504 with 2 Axes>"
      ]
     },
     "metadata": {
      "needs_background": "light"
     },
     "output_type": "display_data"
    }
   ],
   "source": [
    "test = pd.read_csv(\"output/output_densenet_gauss_test_retrained.csv\", header=None)\n",
    "train = pd.read_csv(\"output/output_densenet_gauss_train_retrained.csv\", header=None)\n",
    "val = pd.read_csv(\"output/output_densenet_gauss_val_retrained.csv\", header=None)\n",
    "\n",
    "df_total = pd.concat([train,val])\n",
    "print(df_total.shape)\n",
    "\n",
    "\n",
    "best_params = train_predict_KNN(df_total, test)\n"
   ]
  },
  {
   "cell_type": "code",
   "execution_count": 8,
   "id": "geological-intersection",
   "metadata": {},
   "outputs": [
    {
     "name": "stderr",
     "output_type": "stream",
     "text": [
      "/home/dell/.local/lib/python3.8/site-packages/sklearn/utils/validation.py:70: FutureWarning: Pass weights=distance as keyword args. From version 1.0 (renaming of 0.25) passing these as positional arguments will result in an error\n",
      "  warnings.warn(f\"Pass {args_msg} as keyword args. From version \"\n"
     ]
    }
   ],
   "source": [
    "test = pd.read_csv(\"output/output_densenet_gauss_test_retrained.csv\", header=None)\n",
    "train = pd.read_csv(\"output/output_densenet_gauss_train_retrained.csv\", header=None)\n",
    "val = pd.read_csv(\"output/output_densenet_gauss_val_retrained.csv\", header=None)\n",
    "\n",
    "df_total = pd.concat([train,val])\n",
    "\n",
    "results = pd.concat([results,treina_melhor_modelo(df_total, test, best_params, \"densenet_gauss\")])"
   ]
  },
  {
   "cell_type": "markdown",
   "id": "satisfied-metropolitan",
   "metadata": {},
   "source": [
    "### MobileNet Normal"
   ]
  },
  {
   "cell_type": "code",
   "execution_count": 9,
   "id": "floating-saying",
   "metadata": {},
   "outputs": [
    {
     "name": "stdout",
     "output_type": "stream",
     "text": [
      "(5394, 1281)\n",
      "Best Score:  0.9566158180443894\n",
      "Best params:  {'n_neighbors': 4, 'weights': 'distance'}\n",
      "\n",
      "\n",
      "Acurácia teste:  0.8542199488491049\n",
      "   \n",
      "              precision    recall  f1-score   support\n",
      "\n",
      "           0       0.64      0.96      0.77       100\n",
      "           1       0.98      0.82      0.89       291\n",
      "\n",
      "    accuracy                           0.85       391\n",
      "   macro avg       0.81      0.89      0.83       391\n",
      "weighted avg       0.90      0.85      0.86       391\n",
      "\n"
     ]
    },
    {
     "data": {
      "image/png": "[encoded data removed]",
      "text/plain": [
       "<Figure size 720x504 with 2 Axes>"
      ]
     },
     "metadata": {
      "needs_background": "light"
     },
     "output_type": "display_data"
    }
   ],
   "source": [
    "test = pd.read_csv(\"output/output_mobilenet_test_retrained.csv\", header=None)\n",
    "train = pd.read_csv(\"output/output_mobilenet_train_retrained.csv\", header=None)\n",
    "val = pd.read_csv(\"output/output_mobilenet_val_retrained.csv\", header=None)\n",
    "\n",
    "df_total = pd.concat([train,val])\n",
    "print(df_total.shape)\n",
    "\n",
    "\n",
    "best_params = train_predict_KNN(df_total, test)"
   ]
  },
  {
   "cell_type": "code",
   "execution_count": 10,
   "id": "transsexual-upper",
   "metadata": {},
   "outputs": [
    {
     "name": "stderr",
     "output_type": "stream",
     "text": [
      "/home/dell/.local/lib/python3.8/site-packages/sklearn/utils/validation.py:70: FutureWarning: Pass weights=distance as keyword args. From version 1.0 (renaming of 0.25) passing these as positional arguments will result in an error\n",
      "  warnings.warn(f\"Pass {args_msg} as keyword args. From version \"\n"
     ]
    }
   ],
   "source": [
    "test = pd.read_csv(\"output/output_mobilenet_test_retrained.csv\", header=None)\n",
    "train = pd.read_csv(\"output/output_mobilenet_train_retrained.csv\", header=None)\n",
    "val = pd.read_csv(\"output/output_mobilenet_val_retrained.csv\", header=None)\n",
    "\n",
    "df_total = pd.concat([train,val])\n",
    "\n",
    "results = pd.concat([results,treina_melhor_modelo(df_total, test, best_params, \"mobilenet\")])"
   ]
  },
  {
   "cell_type": "markdown",
   "id": "comparable-convenience",
   "metadata": {},
   "source": [
    "### MobileNet Augmentation"
   ]
  },
  {
   "cell_type": "code",
   "execution_count": null,
   "id": "consecutive-ordinance",
   "metadata": {},
   "outputs": [
    {
     "name": "stdout",
     "output_type": "stream",
     "text": [
      "(10788, 1281)\n"
     ]
    }
   ],
   "source": [
    "test = pd.read_csv(\"output/output_mobilenet_gauss_test_retrained.csv\", header=None)\n",
    "train = pd.read_csv(\"output/output_mobilenet_gauss_train_retrained.csv\", header=None)\n",
    "val = pd.read_csv(\"output/output_mobilenet_gauss_val_retrained.csv\", header=None)\n",
    "\n",
    "df_total = pd.concat([train,val])\n",
    "print(df_total.shape)\n",
    "\n",
    "\n",
    "best_params = train_predict_KNN(df_total, test)"
   ]
  },
  {
   "cell_type": "code",
   "execution_count": null,
   "id": "forward-milwaukee",
   "metadata": {},
   "outputs": [],
   "source": [
    "test = pd.read_csv(\"output/output_mobilenet_gauss_test_retrained.csv\", header=None)\n",
    "train = pd.read_csv(\"output/output_mobilenet_gauss_train_retrained.csv\", header=None)\n",
    "val = pd.read_csv(\"output/output_mobilenet_gauss_val_retrained.csv\", header=None)\n",
    "\n",
    "df_total = pd.concat([train,val])\n",
    "\n",
    "results = pd.concat([results,treina_melhor_modelo(df_total, test, best_params, \"mobilenet_gauss\")])"
   ]
  },
  {
   "cell_type": "markdown",
   "id": "affected-strength",
   "metadata": {},
   "source": [
    "### VGG16 Normal"
   ]
  },
  {
   "cell_type": "code",
   "execution_count": null,
   "id": "wooden-potential",
   "metadata": {},
   "outputs": [],
   "source": [
    "test = pd.read_csv(\"output/output_vgg16_test_retrained.csv\", header=None)\n",
    "train = pd.read_csv(\"output/output_vgg16_train_retrained.csv\", header=None)\n",
    "val = pd.read_csv(\"output/output_vgg16_val_retrained.csv\", header=None)\n",
    "\n",
    "df_total = pd.concat([train,val])\n",
    "print(df_total.shape)\n",
    "\n",
    "\n",
    "best_params = train_predict_KNN(df_total, test)"
   ]
  },
  {
   "cell_type": "code",
   "execution_count": null,
   "id": "outer-rocket",
   "metadata": {},
   "outputs": [],
   "source": [
    "test = pd.read_csv(\"output/output_vgg16_test_retrained.csv\", header=None)\n",
    "train = pd.read_csv(\"output/output_vgg16_train_retrained.csv\", header=None)\n",
    "val = pd.read_csv(\"output/output_vgg16_val_retrained.csv\", header=None)\n",
    "\n",
    "df_total = pd.concat([train,val])\n",
    "\n",
    "results = pd.concat([results,treina_melhor_modelo(df_total, test, best_params, \"vgg16\")])"
   ]
  },
  {
   "cell_type": "markdown",
   "id": "optimum-hurricane",
   "metadata": {},
   "source": [
    "### VGG16 Augmentation"
   ]
  },
  {
   "cell_type": "code",
   "execution_count": null,
   "id": "flying-diana",
   "metadata": {},
   "outputs": [],
   "source": [
    "test = pd.read_csv(\"output/output_vgg16_gauss_test_retrained.csv\", header=None)\n",
    "train = pd.read_csv(\"output/output_vgg16_gauss_train_retrained.csv\", header=None)\n",
    "val = pd.read_csv(\"output/output_vgg16_gauss_val_retrained.csv\", header=None)\n",
    "\n",
    "df_total = pd.concat([train,val])\n",
    "print(df_total.shape)\n",
    "\n",
    "\n",
    "best_params = train_predict_KNN(df_total, test)"
   ]
  },
  {
   "cell_type": "code",
   "execution_count": null,
   "id": "permanent-smooth",
   "metadata": {},
   "outputs": [],
   "source": [
    "test = pd.read_csv(\"output/output_gauss_vgg16_test_retrained.csv\", header=None)\n",
    "train = pd.read_csv(\"output/output_gauss_vgg16_train_retrained.csv\", header=None)\n",
    "val = pd.read_csv(\"output/output_gauss_vgg16_val_retrained.csv\", header=None)\n",
    "\n",
    "df_total = pd.concat([train,val])\n",
    "\n",
    "results = pd.concat([results,treina_melhor_modelo(df_total, test, best_params, \"vgg16_gauss\")])"
   ]
  },
  {
   "cell_type": "code",
   "execution_count": null,
   "id": "technical-calendar",
   "metadata": {},
   "outputs": [],
   "source": [
    "results"
   ]
  }
 ],
 "metadata": {
  "kernelspec": {
   "display_name": "Python [conda env:tensorflow] *",
   "language": "python",
   "name": "conda-env-tensorflow-py"
  },
  "language_info": {
   "codemirror_mode": {
    "name": "ipython",
    "version": 3
   },
   "file_extension": ".py",
   "mimetype": "text/x-python",
   "name": "python",
   "nbconvert_exporter": "python",
   "pygments_lexer": "ipython3",
   "version": "3.8.11"
  }
 },
 "nbformat": 4,
 "nbformat_minor": 5
}
